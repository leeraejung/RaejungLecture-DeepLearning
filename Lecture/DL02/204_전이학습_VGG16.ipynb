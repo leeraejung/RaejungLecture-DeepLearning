{
 "cells": [
  {
   "cell_type": "markdown",
   "id": "be8459af",
   "metadata": {},
   "source": [
    "# 전이 학습(Transfer Learning) - VGG16"
   ]
  },
  {
   "cell_type": "markdown",
   "id": "c0c93566",
   "metadata": {},
   "source": [
    "---"
   ]
  },
  {
   "cell_type": "markdown",
   "id": "827d9166",
   "metadata": {},
   "source": [
    "# 1 침해(Dementia) 환자 뇌 영상(MRI) 분류"
   ]
  },
  {
   "cell_type": "markdown",
   "id": "1f9ce187",
   "metadata": {},
   "source": [
    "- [전이 학습(Transfer Learning)](https://choice-life.tistory.com/40)\n",
    "- [ImageNet](https://image-net.org)\n",
    "- [VGG16](https://hnsuk.tistory.com/30)"
   ]
  },
  {
   "cell_type": "code",
   "execution_count": null,
   "id": "f758a8dd",
   "metadata": {},
   "outputs": [],
   "source": [
    "import numpy as np\n",
    "import pandas as pd\n",
    "import matplotlib.pyplot as plt\n",
    "import seaborn as sns\n",
    "\n",
    "plt.rc('figure', figsize=(10, 6))\n",
    "\n",
    "from matplotlib import rcParams\n",
    "rcParams['font.family'] = 'New Gulim'\n",
    "rcParams['font.size'] = 10\n",
    "rcParams['axes.unicode_minus'] = False"
   ]
  },
  {
   "cell_type": "markdown",
   "id": "d9536dc1",
   "metadata": {},
   "source": [
    "#### 패키지 임포트"
   ]
  },
  {
   "cell_type": "code",
   "execution_count": null,
   "id": "9fe79255",
   "metadata": {},
   "outputs": [],
   "source": [
    "from tensorflow.keras.preprocessing.image import ImageDataGenerator\n",
    "from tensorflow.keras import Input, models, layers, optimizers, metrics\n",
    "from tensorflow.keras.layers import Dense, Flatten\n",
    "from tensorflow.keras.applications import VGG16\n",
    "\n",
    "import tensorflow as tf"
   ]
  },
  {
   "cell_type": "code",
   "execution_count": null,
   "id": "194bf488",
   "metadata": {},
   "outputs": [],
   "source": [
    "# seed 값 설정\n",
    "np.random.seed(3)\n",
    "tf.random.set_seed(3)"
   ]
  },
  {
   "cell_type": "markdown",
   "id": "fde5a86a",
   "metadata": {},
   "source": [
    "#### 데이터 로드 및 분할"
   ]
  },
  {
   "cell_type": "code",
   "execution_count": null,
   "id": "7264fdce",
   "metadata": {},
   "outputs": [],
   "source": [
    "# Train data: Augmentation\n",
    "train_datagen = ImageDataGenerator(rescale=1./255,\n",
    "                                   horizontal_flip=True,  #수평 대칭 이미지를 50% 확률로 만들어 추가합니다.\n",
    "                                   width_shift_range=0.1,  #전체 크기의 10% 범위에서 좌우로 이동합니다.\n",
    "                                   height_shift_range=0.1, #마찬가지로 위, 아래로 이동합니다.\n",
    "                                   fill_mode='nearest')\n",
    "\n",
    "train_generator = train_datagen.flow_from_directory(\n",
    "       './data/dementia/train',\n",
    "       target_size=(150, 150),\n",
    "       batch_size=5,\n",
    "       class_mode='binary')"
   ]
  },
  {
   "cell_type": "code",
   "execution_count": null,
   "id": "84077214",
   "metadata": {},
   "outputs": [],
   "source": [
    "# Test data: No Augmentation\n",
    "test_datagen = ImageDataGenerator(rescale=1./255)\n",
    "\n",
    "test_generator = test_datagen.flow_from_directory(\n",
    "       './data/dementia/test',\n",
    "       target_size=(150, 150),\n",
    "       batch_size=5,\n",
    "       class_mode='binary')"
   ]
  },
  {
   "cell_type": "markdown",
   "id": "4dec1ca1",
   "metadata": {},
   "source": [
    "#### VGG16 신경망 모델 불러오기"
   ]
  },
  {
   "cell_type": "code",
   "execution_count": null,
   "id": "ec82763f",
   "metadata": {
    "scrolled": true
   },
   "outputs": [],
   "source": [
    "transfer_model = VGG16(weights='imagenet', include_top=False, input_shape=(150, 150, 3))\n",
    "transfer_model.trainable = False  # VGG16 모델의 가중치는 학습하지 않음\n",
    "\n",
    "transfer_model.summary()"
   ]
  },
  {
   "cell_type": "markdown",
   "id": "253028e6",
   "metadata": {},
   "source": [
    "#### VGG16 신경망에 사용자 계층 추가"
   ]
  },
  {
   "cell_type": "code",
   "execution_count": null,
   "id": "daf65884",
   "metadata": {},
   "outputs": [],
   "source": [
    "finetune_model = models.Sequential()\n",
    "finetune_model.add(transfer_model)\n",
    "finetune_model.add(Flatten())\n",
    "finetune_model.add(Dense(64, activation='relu'))\n",
    "finetune_model.add(Dense(2, activation='softmax'))"
   ]
  },
  {
   "cell_type": "markdown",
   "id": "c7ca65e9",
   "metadata": {},
   "source": [
    "#### 모델 계층 확인"
   ]
  },
  {
   "cell_type": "code",
   "execution_count": null,
   "id": "efd9b125",
   "metadata": {},
   "outputs": [],
   "source": [
    "finetune_model.summary()"
   ]
  },
  {
   "cell_type": "markdown",
   "id": "b6453892",
   "metadata": {},
   "source": [
    "#### 모델 컴파일"
   ]
  },
  {
   "cell_type": "code",
   "execution_count": null,
   "id": "d408a096",
   "metadata": {},
   "outputs": [],
   "source": [
    "finetune_model.compile(loss='sparse_categorical_crossentropy',\n",
    "                       optimizer=optimizers.Adam(learning_rate=0.0002), metrics=['accuracy'])"
   ]
  },
  {
   "cell_type": "markdown",
   "id": "32b938e0",
   "metadata": {},
   "source": [
    "#### 모델 학습 실행 및 저장"
   ]
  },
  {
   "cell_type": "markdown",
   "id": "f4a89e39",
   "metadata": {},
   "source": [
    "- steps_per_epoch = len(X_train)//batch_size\n",
    "- validation_steps = len(X_test)//batch_size"
   ]
  },
  {
   "cell_type": "code",
   "execution_count": null,
   "id": "4f48082a",
   "metadata": {
    "scrolled": true
   },
   "outputs": [],
   "source": [
    "%%time\n",
    "history = finetune_model.fit(train_generator, steps_per_epoch=16, epochs=20, batch_size=10,\n",
    "                             validation_data=test_generator, validation_steps=12)"
   ]
  },
  {
   "cell_type": "markdown",
   "id": "35b506b0",
   "metadata": {},
   "source": [
    "#### 모델 평가"
   ]
  },
  {
   "cell_type": "code",
   "execution_count": null,
   "id": "c1314b0f",
   "metadata": {},
   "outputs": [],
   "source": [
    "# 테스트 정확도 출력\n",
    "print(\"\\n Test Accuracy: %.4f\" % (finetune_model.evaluate(test_generator)[1]))"
   ]
  },
  {
   "cell_type": "markdown",
   "id": "31f5e3a4",
   "metadata": {},
   "source": [
    "#### 학습 진행 과정\n",
    "- history\n",
    " - loss: 훈련 손실값\n",
    " - accuracy: 훈련 정확도\n",
    " - val_loss: 검증 손실값\n",
    " - val_accuracy: 검증 정확도"
   ]
  },
  {
   "cell_type": "code",
   "execution_count": null,
   "id": "a9e28e75",
   "metadata": {},
   "outputs": [],
   "source": [
    "# 그래프로 표현\n",
    "plt.plot(history.history['val_accuracy'], marker='.', c='lightcoral', label='Validation Accuracy')\n",
    "plt.plot(history.history['accuracy'],     marker='.', c='red',label='Train Accuracy')\n",
    "\n",
    "plt.plot(history.history['val_loss'], marker='.', c='cornflowerblue', label='Validation Loss')\n",
    "plt.plot(history.history['loss'],     marker='.', c='blue',label='Train Loss')\n",
    "\n",
    "plt.grid()\n",
    "plt.xlabel('Epoch')\n",
    "plt.ylabel('Accuracy/Loss')\n",
    "plt.legend(loc='best')\n",
    "\n",
    "plt.title('학습 진행에 따른 학습 데이터와 검증 데이터의 정확도/에러')\n",
    "plt.show()"
   ]
  },
  {
   "cell_type": "markdown",
   "id": "f283e74e",
   "metadata": {},
   "source": [
    "#### 테스트 데이터(ImageDataGenerator) 에서 Image, Label 구하기"
   ]
  },
  {
   "cell_type": "code",
   "execution_count": null,
   "id": "3c5ce977",
   "metadata": {},
   "outputs": [],
   "source": [
    "# Classes: 0 = 침해(ad), 1 = 정상(normal)\n",
    "\n",
    "test_generator.class_indices"
   ]
  },
  {
   "cell_type": "code",
   "execution_count": null,
   "id": "0d30a538",
   "metadata": {},
   "outputs": [],
   "source": [
    "# ImageDataGenerator --> Numpy array\n",
    "\n",
    "steps = test_generator.n // 5\n",
    "images, labels = [], []\n",
    "\n",
    "for i in range(steps):\n",
    "    a, b = test_generator.next()\n",
    "    images.extend(a)\n",
    "    labels.extend(b)\n",
    "\n",
    "images = np.asarray(images)\n",
    "labels = np.asarray(labels)"
   ]
  },
  {
   "cell_type": "markdown",
   "id": "dfd1a8e7",
   "metadata": {},
   "source": [
    "#### 결과 예측"
   ]
  },
  {
   "cell_type": "code",
   "execution_count": null,
   "id": "753d9752",
   "metadata": {},
   "outputs": [],
   "source": [
    "# 예측 확률\n",
    "pred_prob = finetune_model.predict(images)\n",
    "pred_prob"
   ]
  },
  {
   "cell_type": "code",
   "execution_count": null,
   "id": "123a9315",
   "metadata": {},
   "outputs": [],
   "source": [
    "# 결과 예측\n",
    "pred = np.argmax(pred_prob, axis=1).flatten()\n",
    "pred"
   ]
  },
  {
   "cell_type": "markdown",
   "id": "ab61c5fe",
   "metadata": {},
   "source": [
    "#### 결과 확인"
   ]
  },
  {
   "cell_type": "code",
   "execution_count": null,
   "id": "01f140b7",
   "metadata": {},
   "outputs": [],
   "source": [
    "plt.imshow(images[0])\n",
    "plt.title(f'Label: {pred[0]}')\n",
    "plt.show()"
   ]
  },
  {
   "cell_type": "code",
   "execution_count": null,
   "id": "a56c1581",
   "metadata": {},
   "outputs": [],
   "source": [
    "fig, axes = plt.subplots(2, 5, figsize=(10, 5), subplot_kw={'xticks':(), 'yticks': ()})\n",
    "for i, (ax, img) in enumerate(zip(axes.ravel(), images[:10])):\n",
    "    ax.imshow(img)\n",
    "    ax.set_xlabel(f'Label: {pred[i]}')"
   ]
  },
  {
   "cell_type": "markdown",
   "id": "da17114e",
   "metadata": {},
   "source": [
    "#### 결과 평가"
   ]
  },
  {
   "cell_type": "code",
   "execution_count": null,
   "id": "0cbdadfc",
   "metadata": {},
   "outputs": [],
   "source": [
    "from sklearn.metrics import classification_report\n",
    "print(classification_report(labels, pred))"
   ]
  },
  {
   "cell_type": "code",
   "execution_count": null,
   "id": "b008ffbb",
   "metadata": {},
   "outputs": [],
   "source": []
  },
  {
   "cell_type": "markdown",
   "id": "f076fa13",
   "metadata": {},
   "source": [
    "---"
   ]
  },
  {
   "cell_type": "code",
   "execution_count": null,
   "id": "810a4484",
   "metadata": {},
   "outputs": [],
   "source": [
    "# End of file"
   ]
  },
  {
   "cell_type": "code",
   "execution_count": null,
   "id": "85afea49",
   "metadata": {},
   "outputs": [],
   "source": []
  }
 ],
 "metadata": {
  "kernelspec": {
   "display_name": "Python 3 (ipykernel)",
   "language": "python",
   "name": "python3"
  },
  "language_info": {
   "codemirror_mode": {
    "name": "ipython",
    "version": 3
   },
   "file_extension": ".py",
   "mimetype": "text/x-python",
   "name": "python",
   "nbconvert_exporter": "python",
   "pygments_lexer": "ipython3",
   "version": "3.9.7"
  },
  "vp": {
   "vp_config_version": "1.0.0",
   "vp_menu_width": 273,
   "vp_note_display": true,
   "vp_note_width": 263,
   "vp_position": {
    "width": 541
   },
   "vp_section_display": false,
   "vp_signature": "VisualPython"
  }
 },
 "nbformat": 4,
 "nbformat_minor": 5
}
