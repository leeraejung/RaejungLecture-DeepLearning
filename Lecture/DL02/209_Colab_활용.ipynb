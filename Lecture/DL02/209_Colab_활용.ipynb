{
 "cells": [
  {
   "cell_type": "markdown",
   "metadata": {
    "id": "-rVViQ4Cas6r"
   },
   "source": [
    "# Colab 사용 설정"
   ]
  },
  {
   "cell_type": "markdown",
   "metadata": {
    "id": "Gu5x6tPKoux7"
   },
   "source": [
    "---"
   ]
  },
  {
   "cell_type": "markdown",
   "metadata": {
    "id": "tOR_E_hycMNB"
   },
   "source": [
    "# 1 Colab과 Google Drive 연동"
   ]
  },
  {
   "cell_type": "markdown",
   "metadata": {
    "id": "fAu_dQABpwgA"
   },
   "source": [
    "- [Google Colab](https://colab.research.google.com/)"
   ]
  },
  {
   "cell_type": "code",
   "execution_count": null,
   "metadata": {
    "colab": {
     "base_uri": "https://localhost:8080/"
    },
    "id": "B-H5MPomacAe",
    "outputId": "684a7275-7c58-4d62-83ec-f35e91d67c2f"
   },
   "outputs": [],
   "source": [
    "# colab과 google Drive 연동을 위한 인증 및 네트워크 디렉토리 마운트\n",
    "#from google.colab import auth\n",
    "#auth.authenticate_user()\n",
    "\n",
    "from google.colab import drive\n",
    "drive.mount('/content/drive')"
   ]
  },
  {
   "cell_type": "code",
   "execution_count": null,
   "metadata": {
    "colab": {
     "base_uri": "https://localhost:8080/"
    },
    "id": "jO9KhzrOdBAp",
    "outputId": "e1d43aa7-29ea-4c5d-bb43-7f4186afa1b9"
   },
   "outputs": [],
   "source": [
    "!ls -l ./drive/MyDrive/Jupyter/01_SSM/01_DL_2022/data"
   ]
  },
  {
   "cell_type": "markdown",
   "metadata": {
    "id": "uCPzzwnlfqs_"
   },
   "source": [
    "# 2 GPU 설정 확인"
   ]
  },
  {
   "cell_type": "code",
   "execution_count": null,
   "metadata": {
    "colab": {
     "base_uri": "https://localhost:8080/",
     "height": 245
    },
    "id": "mGsmzVwXfykH",
    "outputId": "f237a716-8d57-4c14-c3b7-c077b27b286f"
   },
   "outputs": [],
   "source": [
    "import tensorflow as tf\n",
    "\n",
    "device_name = tf.test.gpu_device_name()\n",
    "if device_name != '/device:GPU:0':\n",
    "    raise SystemError('GPU device not found')\n",
    "    \n",
    "print('Found GPU at: {}'.format(device_name))\n",
    "\n",
    "# Found GPU at: /device:GPU:0"
   ]
  },
  {
   "cell_type": "markdown",
   "metadata": {
    "id": "o7DWHE4Cj2BQ"
   },
   "source": [
    "# 3 Colab 연결 끊김 방지"
   ]
  },
  {
   "cell_type": "markdown",
   "metadata": {
    "id": "jlsTh-Pckc9O"
   },
   "source": [
    "- 웹브라우저 F12 개발자 콘솔에서 다음 코드 실행"
   ]
  },
  {
   "cell_type": "markdown",
   "metadata": {
    "id": "YhIS5vVxkOcy"
   },
   "source": [
    "\n",
    "\n",
    "```javascript\n",
    "function ClickConnect(){\n",
    "    console.log(\"Preventing Colab Disconnection\"); \n",
    "    document.querySelector(\"colab-toolbar-button#connect\").click() \n",
    "}\n",
    "setInterval(ClickConnect, 60 * 1000)\n",
    "```\n"
   ]
  },
  {
   "cell_type": "markdown",
   "metadata": {
    "id": "SrsyDdJMg8p1"
   },
   "source": [
    "# 4 matplotlib 한글 폰트 깨짐"
   ]
  },
  {
   "cell_type": "markdown",
   "metadata": {
    "id": "3hiTEktpiQNG"
   },
   "source": [
    "### 4.1 폰트 다운로드 및 설치"
   ]
  },
  {
   "cell_type": "code",
   "execution_count": null,
   "metadata": {
    "colab": {
     "base_uri": "https://localhost:8080/"
    },
    "id": "mKERRoy1iEHg",
    "outputId": "c74b71cf-b558-466c-b086-c860c51909c5"
   },
   "outputs": [],
   "source": [
    "!sudo apt-get install -y fonts-nanum\n",
    "!sudo fc-cache -fv\n",
    "!rm ~/.cache/matplotlib -rf"
   ]
  },
  {
   "cell_type": "markdown",
   "metadata": {
    "id": "3hiTEktpiQNG"
   },
   "source": [
    "### 4.2 런타임 다시 시작"
   ]
  },
  {
   "cell_type": "markdown",
   "metadata": {
    "id": "3hiTEktpiQNG"
   },
   "source": [
    "### 4.3 코드 실행"
   ]
  },
  {
   "cell_type": "code",
   "execution_count": null,
   "metadata": {
    "colab": {
     "base_uri": "https://localhost:8080/",
     "height": 294
    },
    "id": "jPbwFj6ef6fU",
    "outputId": "648ba1b4-201b-40c1-b382-076686aa5b05"
   },
   "outputs": [],
   "source": [
    "import matplotlib.pyplot as plt\n",
    "  \n",
    "from matplotlib import rcParams\n",
    "rcParams['font.family'] = 'NanumBarunGothic'\n",
    "rcParams['axes.unicode_minus'] = False\n",
    "\n",
    "plt.plot(range(10))\n",
    "plt.title('타이틀')\n",
    "plt.xlabel('X 라벨')\n",
    "plt.ylabel('Y 라벨')\n",
    "plt.show()"
   ]
  },
  {
   "cell_type": "code",
   "execution_count": null,
   "metadata": {
    "id": "3i0WirDWoE-6"
   },
   "outputs": [],
   "source": []
  },
  {
   "cell_type": "markdown",
   "metadata": {
    "id": "YwtuJF-HoEcl"
   },
   "source": [
    "---"
   ]
  },
  {
   "cell_type": "code",
   "execution_count": null,
   "metadata": {
    "id": "73fqcOXmoB7c"
   },
   "outputs": [],
   "source": [
    "# End of file"
   ]
  },
  {
   "cell_type": "code",
   "execution_count": null,
   "metadata": {
    "id": "9Bk6MGJxoHWj"
   },
   "outputs": [],
   "source": []
  }
 ],
 "metadata": {
  "accelerator": "GPU",
  "colab": {
   "collapsed_sections": [],
   "name": "298_colab_tip.ipynb",
   "provenance": []
  },
  "kernelspec": {
   "display_name": "Python 3 (ipykernel)",
   "language": "python",
   "name": "python3"
  },
  "language_info": {
   "codemirror_mode": {
    "name": "ipython",
    "version": 3
   },
   "file_extension": ".py",
   "mimetype": "text/x-python",
   "name": "python",
   "nbconvert_exporter": "python",
   "pygments_lexer": "ipython3",
   "version": "3.9.7"
  },
  "vp": {
   "vp_config_version": "1.0.0",
   "vp_menu_width": 273,
   "vp_note_display": true,
   "vp_note_width": 263,
   "vp_position": {
    "width": 541
   },
   "vp_section_display": false,
   "vp_signature": "VisualPython"
  }
 },
 "nbformat": 4,
 "nbformat_minor": 1
}
