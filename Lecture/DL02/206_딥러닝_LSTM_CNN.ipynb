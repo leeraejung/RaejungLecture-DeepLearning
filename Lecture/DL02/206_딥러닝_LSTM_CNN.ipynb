{
 "cells": [
  {
   "cell_type": "markdown",
   "id": "be8459af",
   "metadata": {},
   "source": [
    "# Deep Learning - RNN(LSTM) + CNN"
   ]
  },
  {
   "cell_type": "markdown",
   "id": "c0c93566",
   "metadata": {},
   "source": [
    "---"
   ]
  },
  {
   "cell_type": "markdown",
   "id": "827d9166",
   "metadata": {},
   "source": [
    "# 1 영화 리뷰(IMDB) 감성 분석 - LSTM + CNN"
   ]
  },
  {
   "cell_type": "code",
   "execution_count": null,
   "id": "f758a8dd",
   "metadata": {},
   "outputs": [],
   "source": [
    "import numpy as np\n",
    "import pandas as pd\n",
    "import matplotlib.pyplot as plt\n",
    "import seaborn as sns\n",
    "\n",
    "plt.rc('figure', figsize=(10, 6))\n",
    "\n",
    "from matplotlib import rcParams\n",
    "rcParams['font.family'] = 'New Gulim'\n",
    "rcParams['font.size'] = 10\n",
    "rcParams['axes.unicode_minus'] = False"
   ]
  },
  {
   "cell_type": "markdown",
   "id": "d9536dc1",
   "metadata": {},
   "source": [
    "#### 패키지 임포트"
   ]
  },
  {
   "cell_type": "code",
   "execution_count": null,
   "id": "9fe79255",
   "metadata": {},
   "outputs": [],
   "source": [
    "from keras.preprocessing import sequence\n",
    "\n",
    "from keras.models import Sequential\n",
    "from keras.layers import Dense, Dropout, Activation\n",
    "from keras.layers import Embedding\n",
    "from keras.layers import LSTM\n",
    "from keras.layers import Conv1D, MaxPooling1D\n",
    "\n",
    "import tensorflow as tf"
   ]
  },
  {
   "cell_type": "code",
   "execution_count": null,
   "id": "194bf488",
   "metadata": {},
   "outputs": [],
   "source": [
    "# seed 값 설정\n",
    "np.random.seed(0)\n",
    "tf.random.set_seed(3)"
   ]
  },
  {
   "cell_type": "markdown",
   "id": "fde5a86a",
   "metadata": {},
   "source": [
    "#### 데이터 로드 및 분할"
   ]
  },
  {
   "cell_type": "code",
   "execution_count": null,
   "id": "b52d69dc",
   "metadata": {},
   "outputs": [],
   "source": [
    "# Reuters 뉴스 데이터 불러오기\n",
    "from keras.datasets import imdb\n",
    "\n",
    "(X_train, y_train), (X_test, y_test) = imdb.load_data(num_words=5000)"
   ]
  },
  {
   "cell_type": "markdown",
   "id": "2e77892d",
   "metadata": {},
   "source": [
    "#### 데이터 확인하기"
   ]
  },
  {
   "cell_type": "code",
   "execution_count": null,
   "id": "bead8900",
   "metadata": {},
   "outputs": [],
   "source": [
    "category = np.max(y_train) + 1\n",
    "print('카테고리: ', category)\n",
    "print('학습용 뉴스 기사: ', len(X_train))\n",
    "print('테스트용 뉴스 기사: ', len(X_test))\n",
    "print(X_train[0])"
   ]
  },
  {
   "cell_type": "markdown",
   "id": "cefe43af",
   "metadata": {},
   "source": [
    "#### 데이터 전처리"
   ]
  },
  {
   "cell_type": "code",
   "execution_count": null,
   "id": "3305513a",
   "metadata": {},
   "outputs": [],
   "source": [
    "X_train = sequence.pad_sequences(X_train, maxlen=100)\n",
    "X_test  = sequence.pad_sequences(X_test,  maxlen=100)"
   ]
  },
  {
   "cell_type": "markdown",
   "id": "4dec1ca1",
   "metadata": {},
   "source": [
    "#### LSTM + CNN 모델 생성 및 설정"
   ]
  },
  {
   "cell_type": "code",
   "execution_count": null,
   "id": "bd286da9",
   "metadata": {},
   "outputs": [],
   "source": [
    "model = Sequential()\n",
    "model.add(Embedding(5000, 100))\n",
    "model.add(Dropout(0.5))\n",
    "model.add(Conv1D(64, 5, padding='valid', activation='relu',strides=1))\n",
    "model.add(MaxPooling1D(pool_size=4))\n",
    "model.add(LSTM(55))\n",
    "model.add(Dense(1))\n",
    "model.add(Activation('sigmoid'))"
   ]
  },
  {
   "cell_type": "markdown",
   "id": "c7ca65e9",
   "metadata": {},
   "source": [
    "#### 모델 계층 확인"
   ]
  },
  {
   "cell_type": "code",
   "execution_count": null,
   "id": "efd9b125",
   "metadata": {},
   "outputs": [],
   "source": [
    "model.summary()"
   ]
  },
  {
   "cell_type": "markdown",
   "id": "b6453892",
   "metadata": {},
   "source": [
    "#### 모델 컴파일"
   ]
  },
  {
   "cell_type": "code",
   "execution_count": null,
   "id": "d408a096",
   "metadata": {},
   "outputs": [],
   "source": [
    "model.compile(loss='binary_crossentropy', optimizer='adam', metrics=['accuracy'])"
   ]
  },
  {
   "cell_type": "markdown",
   "id": "32b938e0",
   "metadata": {},
   "source": [
    "#### 모델 학습 실행 및 저장"
   ]
  },
  {
   "cell_type": "code",
   "execution_count": null,
   "id": "4f48082a",
   "metadata": {
    "scrolled": true
   },
   "outputs": [],
   "source": [
    "%%time\n",
    "history = model.fit(X_train, y_train, batch_size=100, epochs=5, validation_data=(X_test, y_test))"
   ]
  },
  {
   "cell_type": "markdown",
   "id": "35b506b0",
   "metadata": {},
   "source": [
    "#### 모델 평가"
   ]
  },
  {
   "cell_type": "code",
   "execution_count": null,
   "id": "c1314b0f",
   "metadata": {},
   "outputs": [],
   "source": [
    "# 테스트 정확도 출력\n",
    "print(\"\\n Test Accuracy: %.4f\" % (model.evaluate(X_test, y_test)[1]))"
   ]
  },
  {
   "cell_type": "markdown",
   "id": "31f5e3a4",
   "metadata": {},
   "source": [
    "#### 학습 진행 과정\n",
    "- history\n",
    " - loss: 훈련 손실값\n",
    " - accuracy: 훈련 정확도\n",
    " - val_loss: 검증 손실값\n",
    " - val_accuracy: 검증 정확도"
   ]
  },
  {
   "cell_type": "code",
   "execution_count": null,
   "id": "a9e28e75",
   "metadata": {},
   "outputs": [],
   "source": [
    "# 그래프로 표현\n",
    "plt.plot(history.history['val_loss'], marker='.', c='red', label='Validation Loss')\n",
    "plt.plot(history.history['loss'],     marker='.', c='blue',label='Train Loss')\n",
    "\n",
    "plt.grid()\n",
    "plt.xlabel('Epoch')\n",
    "plt.ylabel('Loss')\n",
    "plt.legend(loc='upper right')\n",
    "\n",
    "plt.title('학습 진행에 따른 학습 데이터와 검증 데이터의 에러')\n",
    "plt.show()"
   ]
  },
  {
   "cell_type": "markdown",
   "id": "dfd1a8e7",
   "metadata": {},
   "source": [
    "#### 결과 예측"
   ]
  },
  {
   "cell_type": "code",
   "execution_count": null,
   "id": "753d9752",
   "metadata": {},
   "outputs": [],
   "source": [
    "# 예측 확률\n",
    "pred_prob = model.predict(X_test)\n",
    "pred_prob"
   ]
  },
  {
   "cell_type": "code",
   "execution_count": null,
   "id": "123a9315",
   "metadata": {},
   "outputs": [],
   "source": [
    "# 결과 예측\n",
    "pred = np.where(pred_prob > 0.5, 1, 0).flatten()\n",
    "pred"
   ]
  },
  {
   "cell_type": "markdown",
   "id": "da17114e",
   "metadata": {},
   "source": [
    "#### 결과 평가"
   ]
  },
  {
   "cell_type": "code",
   "execution_count": null,
   "id": "0cbdadfc",
   "metadata": {},
   "outputs": [],
   "source": [
    "from sklearn.metrics import classification_report\n",
    "print(classification_report(y_test, pred, zero_division=True))"
   ]
  },
  {
   "cell_type": "code",
   "execution_count": null,
   "id": "b008ffbb",
   "metadata": {},
   "outputs": [],
   "source": []
  },
  {
   "cell_type": "markdown",
   "id": "f076fa13",
   "metadata": {},
   "source": [
    "---"
   ]
  },
  {
   "cell_type": "code",
   "execution_count": null,
   "id": "810a4484",
   "metadata": {},
   "outputs": [],
   "source": [
    "# End of file"
   ]
  },
  {
   "cell_type": "code",
   "execution_count": null,
   "id": "85afea49",
   "metadata": {},
   "outputs": [],
   "source": []
  }
 ],
 "metadata": {
  "kernelspec": {
   "display_name": "Python 3 (ipykernel)",
   "language": "python",
   "name": "python3"
  },
  "language_info": {
   "codemirror_mode": {
    "name": "ipython",
    "version": 3
   },
   "file_extension": ".py",
   "mimetype": "text/x-python",
   "name": "python",
   "nbconvert_exporter": "python",
   "pygments_lexer": "ipython3",
   "version": "3.9.7"
  },
  "vp": {
   "vp_config_version": "1.0.0",
   "vp_menu_width": 273,
   "vp_note_display": true,
   "vp_note_width": 263,
   "vp_position": {
    "width": 541
   },
   "vp_section_display": false,
   "vp_signature": "VisualPython"
  }
 },
 "nbformat": 4,
 "nbformat_minor": 5
}
