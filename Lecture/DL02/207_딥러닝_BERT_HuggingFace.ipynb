{
 "cells": [
  {
   "cell_type": "markdown",
   "id": "be8459af",
   "metadata": {},
   "source": [
    "# BERT(Bidirectional Encoder Representations from Transformers)"
   ]
  },
  {
   "cell_type": "markdown",
   "id": "c0c93566",
   "metadata": {},
   "source": [
    "---"
   ]
  },
  {
   "cell_type": "markdown",
   "id": "b0b73740",
   "metadata": {},
   "source": [
    "# 1 영화 리뷰(IMDB) 감성 분석 - BERT by Hugging Face"
   ]
  },
  {
   "cell_type": "markdown",
   "id": "827d9166",
   "metadata": {},
   "source": [
    "- [BERT](https://wikidocs.net/115055)\n",
    "- [Hugging Face](https://huggingface.co/models)"
   ]
  },
  {
   "cell_type": "code",
   "execution_count": null,
   "id": "f758a8dd",
   "metadata": {},
   "outputs": [],
   "source": [
    "import numpy as np\n",
    "import pandas as pd\n",
    "import matplotlib.pyplot as plt\n",
    "import seaborn as sns\n",
    "\n",
    "plt.rc('figure', figsize=(10, 6))\n",
    "\n",
    "from matplotlib import rcParams\n",
    "rcParams['font.family'] = 'New Gulim'\n",
    "rcParams['font.size'] = 10\n",
    "rcParams['axes.unicode_minus'] = False"
   ]
  },
  {
   "cell_type": "markdown",
   "id": "fde5a86a",
   "metadata": {},
   "source": [
    "#### 데이터 로드 및 분할"
   ]
  },
  {
   "cell_type": "code",
   "execution_count": null,
   "id": "429282a8",
   "metadata": {},
   "outputs": [],
   "source": [
    "#!pip install tensorflow-datasets"
   ]
  },
  {
   "cell_type": "code",
   "execution_count": null,
   "id": "b52d69dc",
   "metadata": {},
   "outputs": [],
   "source": [
    "# IMDB 데이터 불러오기\n",
    "import tensorflow_datasets as tfds\n",
    "\n",
    "# Split the training set into 60% and 40% to end up with 15,000 examples\n",
    "# for training, 10,000 examples for validation and 25,000 examples for testing.\n",
    "train_data, validation_data, test_data = tfds.load(\n",
    "    name='imdb_reviews', \n",
    "    split=('train[:60%]', 'train[60%:]', 'test'),\n",
    "    as_supervised=True)"
   ]
  },
  {
   "cell_type": "markdown",
   "id": "2e77892d",
   "metadata": {},
   "source": [
    "#### 데이터 확인하기\n",
    "- 0: 부정\n",
    "- 1: 긍정"
   ]
  },
  {
   "cell_type": "code",
   "execution_count": null,
   "id": "7c59f9ce",
   "metadata": {},
   "outputs": [],
   "source": [
    "train_examples_batch, train_labels_batch = next(iter(train_data.batch(10)))"
   ]
  },
  {
   "cell_type": "code",
   "execution_count": null,
   "id": "10757de5",
   "metadata": {},
   "outputs": [],
   "source": [
    "# Labels\n",
    "train_labels_batch"
   ]
  },
  {
   "cell_type": "code",
   "execution_count": null,
   "id": "45f463de",
   "metadata": {
    "scrolled": true
   },
   "outputs": [],
   "source": [
    "# Sentences\n",
    "train_examples_batch[0]"
   ]
  },
  {
   "cell_type": "markdown",
   "id": "b9edccce",
   "metadata": {
    "id": "A8WKbOipoB4c"
   },
   "source": [
    "#### Set GPU device name"
   ]
  },
  {
   "cell_type": "code",
   "execution_count": null,
   "id": "43db1ee0",
   "metadata": {
    "colab": {
     "base_uri": "https://localhost:8080/"
    },
    "id": "ES6a7bPToSS8",
    "outputId": "f59c8267-ba98-4826-f974-56ac07d2f224"
   },
   "outputs": [],
   "source": [
    "import torch\n",
    "\n",
    "# If there's a GPU available...\n",
    "if torch.cuda.is_available():    \n",
    "\n",
    "    # Tell PyTorch to use the GPU.    \n",
    "    device = torch.device(\"cuda\")\n",
    "    \n",
    "    print(f'There are {torch.cuda.device_count()} GPU(s) available.')\n",
    "    print(f'We will use the GPU:{torch.cuda.get_device_name(0)}')\n",
    "    \n",
    "else:\n",
    "    print('No GPU available, using the CPU instead.')\n",
    "    device = torch.device('cpu')"
   ]
  },
  {
   "cell_type": "markdown",
   "id": "9189a06f",
   "metadata": {},
   "source": [
    "#### Load model"
   ]
  },
  {
   "cell_type": "code",
   "execution_count": null,
   "id": "5516550b",
   "metadata": {},
   "outputs": [],
   "source": [
    "#!pip install transformers"
   ]
  },
  {
   "cell_type": "code",
   "execution_count": null,
   "id": "6eb7c7b2",
   "metadata": {},
   "outputs": [],
   "source": [
    "from transformers import pipeline"
   ]
  },
  {
   "cell_type": "code",
   "execution_count": null,
   "id": "ac33b214",
   "metadata": {},
   "outputs": [],
   "source": [
    "# model: distilbert-base-uncased-finetuned-sst-2-english\n",
    "classifier = pipeline('sentiment-analysis', model='distilbert-base-uncased-finetuned-sst-2-english')"
   ]
  },
  {
   "cell_type": "markdown",
   "id": "60aa73eb",
   "metadata": {},
   "source": [
    "##### 예제 문장 테스트"
   ]
  },
  {
   "cell_type": "code",
   "execution_count": null,
   "id": "d6c0a70b",
   "metadata": {
    "scrolled": true
   },
   "outputs": [],
   "source": [
    "sent = ['Today is a beautiful day!', 'we all still have terrible days']\n",
    "\n",
    "# Max length of sentence: 512\n",
    "result = classifier(sent, truncation=True)\n",
    "\n",
    "for i, sentence in enumerate(sent):\n",
    "    print(f\"Label: {result[i]['label']}, Score: {result[i]['score']:.2f}, Sentence: {sentence}\")"
   ]
  },
  {
   "cell_type": "markdown",
   "id": "b38b53d2",
   "metadata": {},
   "source": [
    "#### 데이터 전처리"
   ]
  },
  {
   "cell_type": "code",
   "execution_count": null,
   "id": "4bade103",
   "metadata": {},
   "outputs": [],
   "source": [
    "# 1,000개 데이터 선정\n",
    "CNT = 1000\n",
    "sentences, labels = next(iter(train_data.batch(CNT)))"
   ]
  },
  {
   "cell_type": "code",
   "execution_count": null,
   "id": "cfeec354",
   "metadata": {},
   "outputs": [],
   "source": [
    "# Labels\n",
    "label_list = labels.numpy()"
   ]
  },
  {
   "cell_type": "code",
   "execution_count": null,
   "id": "bee0a024",
   "metadata": {},
   "outputs": [],
   "source": [
    "# Sentences\n",
    "sent_bytes = sentences.numpy().tolist()\n",
    "\n",
    "# decode bytes to string\n",
    "sent_list = []\n",
    "for ss in sent_bytes:\n",
    "    sent_list.append(ss.decode('utf-8'))"
   ]
  },
  {
   "cell_type": "markdown",
   "id": "5e96d0f2",
   "metadata": {},
   "source": [
    "#### Sentiment analysis: IMDB"
   ]
  },
  {
   "cell_type": "code",
   "execution_count": null,
   "id": "ea213cf5",
   "metadata": {},
   "outputs": [],
   "source": [
    "%%time\n",
    "# Max length of sentence: 512\n",
    "result = classifier(sent_list, truncation=True)"
   ]
  },
  {
   "cell_type": "markdown",
   "id": "17d93c07",
   "metadata": {},
   "source": [
    "#### 결과 확인"
   ]
  },
  {
   "cell_type": "code",
   "execution_count": null,
   "id": "d9107c86",
   "metadata": {},
   "outputs": [],
   "source": [
    "idx = 0\n",
    "\n",
    "print(f\"Label: {result[idx]['label']}, Score: {result[idx]['score']:.2f}\")\n",
    "print(f\"Sentence: {sent_list[idx]}\")"
   ]
  },
  {
   "cell_type": "code",
   "execution_count": null,
   "id": "f6371312",
   "metadata": {},
   "outputs": [],
   "source": [
    "for i, sentence in enumerate(sent_list):\n",
    "    print(f\"Label: {result[i]['label']}, Score: {result[i]['score']:.2f}\")\n",
    "    print(f\"Sentence: {sentence}\")"
   ]
  },
  {
   "cell_type": "markdown",
   "id": "dfd1a8e7",
   "metadata": {},
   "source": [
    "#### 결과 예측"
   ]
  },
  {
   "cell_type": "code",
   "execution_count": null,
   "id": "1b2d7593",
   "metadata": {},
   "outputs": [],
   "source": [
    "# 결과 예측\n",
    "lst = []\n",
    "for res in result:\n",
    "    if   res['label'] == 'NEGATIVE':\n",
    "        lst.append(0)\n",
    "    elif res['label'] == 'POSITIVE':\n",
    "        lst.append(1)\n",
    "    else:\n",
    "        lst.append(2)\n",
    "        \n",
    "pred = np.array(lst)"
   ]
  },
  {
   "cell_type": "markdown",
   "id": "da17114e",
   "metadata": {},
   "source": [
    "#### 결과 평가"
   ]
  },
  {
   "cell_type": "code",
   "execution_count": null,
   "id": "0cbdadfc",
   "metadata": {},
   "outputs": [],
   "source": [
    "from sklearn.metrics import classification_report\n",
    "print(classification_report(label_list, pred, zero_division=True))"
   ]
  },
  {
   "cell_type": "code",
   "execution_count": null,
   "id": "b008ffbb",
   "metadata": {},
   "outputs": [],
   "source": []
  },
  {
   "cell_type": "markdown",
   "id": "f076fa13",
   "metadata": {},
   "source": [
    "---"
   ]
  },
  {
   "cell_type": "code",
   "execution_count": null,
   "id": "810a4484",
   "metadata": {},
   "outputs": [],
   "source": [
    "# End of file"
   ]
  },
  {
   "cell_type": "code",
   "execution_count": null,
   "id": "85afea49",
   "metadata": {},
   "outputs": [],
   "source": []
  }
 ],
 "metadata": {
  "kernelspec": {
   "display_name": "Python 3 (ipykernel)",
   "language": "python",
   "name": "python3"
  },
  "language_info": {
   "codemirror_mode": {
    "name": "ipython",
    "version": 3
   },
   "file_extension": ".py",
   "mimetype": "text/x-python",
   "name": "python",
   "nbconvert_exporter": "python",
   "pygments_lexer": "ipython3",
   "version": "3.9.7"
  },
  "vp": {
   "vp_config_version": "1.0.0",
   "vp_menu_width": 273,
   "vp_note_display": true,
   "vp_note_width": 263,
   "vp_position": {
    "width": 541
   },
   "vp_section_display": false,
   "vp_signature": "VisualPython"
  }
 },
 "nbformat": 4,
 "nbformat_minor": 5
}
