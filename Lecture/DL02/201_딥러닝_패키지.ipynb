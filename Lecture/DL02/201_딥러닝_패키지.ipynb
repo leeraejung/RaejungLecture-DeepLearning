{
 "cells": [
  {
   "cell_type": "markdown",
   "id": "be8459af",
   "metadata": {},
   "source": [
    "# Deep Learning Package - Keras(tensorflow)"
   ]
  },
  {
   "cell_type": "markdown",
   "id": "c0c93566",
   "metadata": {},
   "source": [
    "---"
   ]
  },
  {
   "cell_type": "markdown",
   "id": "e861edf5",
   "metadata": {},
   "source": [
    "### 케라스(Keras)\n",
    "\n",
    "<img src=\"./data/keras_logo.png\" width=\"600\"/>"
   ]
  },
  {
   "cell_type": "markdown",
   "id": "d7cecc87",
   "metadata": {},
   "source": [
    "[Keras getting started](https://keras.io/getting_started/)\n",
    "\n",
    "[User Guide](https://keras.io/guides/)\n",
    "\n",
    "[API Reference](https://keras.io/api/)\n",
    "\n",
    "[Examples](https://keras.io/examples/)\n"
   ]
  },
  {
   "cell_type": "markdown",
   "id": "827d9166",
   "metadata": {},
   "source": [
    "# 1 Keras 사용 예제"
   ]
  },
  {
   "cell_type": "code",
   "execution_count": null,
   "id": "7c995bcf",
   "metadata": {},
   "outputs": [],
   "source": [
    "#!pip install tensorflow"
   ]
  },
  {
   "cell_type": "code",
   "execution_count": null,
   "id": "2fd1a4df",
   "metadata": {},
   "outputs": [],
   "source": [
    "#!pip install keras"
   ]
  },
  {
   "cell_type": "code",
   "execution_count": null,
   "id": "f758a8dd",
   "metadata": {},
   "outputs": [],
   "source": [
    "import numpy as np\n",
    "import pandas as pd\n",
    "import matplotlib.pyplot as plt\n",
    "import seaborn as sns\n",
    "\n",
    "plt.rc('figure', figsize=(10, 6))\n",
    "\n",
    "from matplotlib import rcParams\n",
    "rcParams['font.family'] = 'New Gulim'\n",
    "rcParams['font.size'] = 10\n",
    "rcParams['axes.unicode_minus'] = False"
   ]
  },
  {
   "cell_type": "markdown",
   "id": "b133a525",
   "metadata": {},
   "source": [
    "### 1.1 보스턴 집값 예측 - Regression"
   ]
  },
  {
   "cell_type": "code",
   "execution_count": null,
   "id": "ed250e3e",
   "metadata": {},
   "outputs": [],
   "source": [
    "from keras.models import Sequential\n",
    "from keras.layers import Dense\n",
    "\n",
    "import tensorflow as tf"
   ]
  },
  {
   "cell_type": "code",
   "execution_count": null,
   "id": "68b77ae0",
   "metadata": {},
   "outputs": [],
   "source": [
    "# seed 값 설정\n",
    "np.random.seed(0)\n",
    "tf.random.set_seed(3)"
   ]
  },
  {
   "cell_type": "markdown",
   "id": "c9d897f2",
   "metadata": {},
   "source": [
    "#### 데이터 로드"
   ]
  },
  {
   "cell_type": "code",
   "execution_count": null,
   "id": "361b3b92",
   "metadata": {},
   "outputs": [],
   "source": [
    "df = pd.read_csv('./data/housing.csv', delim_whitespace=True, header=None)\n",
    "dataset = df.values\n",
    "X = dataset[:,0:13]\n",
    "y = dataset[:,13]"
   ]
  },
  {
   "cell_type": "markdown",
   "id": "69644811",
   "metadata": {},
   "source": [
    "#### 데이터 분할"
   ]
  },
  {
   "cell_type": "code",
   "execution_count": null,
   "id": "d97eff63",
   "metadata": {},
   "outputs": [],
   "source": [
    "from sklearn.model_selection import train_test_split\n",
    "\n",
    "X_train, X_test, y_train, y_test = train_test_split(X, y, test_size=0.3, random_state=0)"
   ]
  },
  {
   "cell_type": "markdown",
   "id": "3e3e8748",
   "metadata": {},
   "source": [
    "#### 모델 생성 및 설정"
   ]
  },
  {
   "cell_type": "code",
   "execution_count": null,
   "id": "c1fcf374",
   "metadata": {},
   "outputs": [],
   "source": [
    "model_b = Sequential()\n",
    "model_b.add(Dense(30, input_dim=13, activation='relu'))\n",
    "model_b.add(Dense(6, activation='relu'))\n",
    "model_b.add(Dense(1))"
   ]
  },
  {
   "cell_type": "markdown",
   "id": "0ee1b879",
   "metadata": {},
   "source": [
    "#### 모델 계층 확인"
   ]
  },
  {
   "cell_type": "code",
   "execution_count": null,
   "id": "d2b0f16d",
   "metadata": {},
   "outputs": [],
   "source": [
    "model_b.summary()"
   ]
  },
  {
   "cell_type": "markdown",
   "id": "14588951",
   "metadata": {},
   "source": [
    "#### 모델 컴파일"
   ]
  },
  {
   "cell_type": "code",
   "execution_count": null,
   "id": "4d3f97d2",
   "metadata": {},
   "outputs": [],
   "source": [
    "model_b.compile(loss='mean_squared_error', optimizer='adam')"
   ]
  },
  {
   "cell_type": "markdown",
   "id": "103207c6",
   "metadata": {},
   "source": [
    "#### 모델 학습 실행"
   ]
  },
  {
   "cell_type": "code",
   "execution_count": null,
   "id": "7fd79cbf",
   "metadata": {},
   "outputs": [],
   "source": [
    "%%time\n",
    "model_b.fit(X_train, y_train, epochs=200, batch_size=10)"
   ]
  },
  {
   "cell_type": "markdown",
   "id": "5ea495be",
   "metadata": {},
   "source": [
    "#### 결과 예측"
   ]
  },
  {
   "cell_type": "code",
   "execution_count": null,
   "id": "6bd9c912",
   "metadata": {
    "scrolled": true
   },
   "outputs": [],
   "source": [
    "pred = model_b.predict(X_test).flatten()\n",
    "pred"
   ]
  },
  {
   "cell_type": "markdown",
   "id": "3a3b8a14",
   "metadata": {},
   "source": [
    "#### 결과 평가 - RMSE"
   ]
  },
  {
   "cell_type": "code",
   "execution_count": null,
   "id": "2a72f888",
   "metadata": {},
   "outputs": [],
   "source": [
    "from sklearn import metrics\n",
    "\n",
    "# RMSE(Root Mean Squared Error)\n",
    "metrics.mean_squared_error(y_test, pred)**0.5"
   ]
  },
  {
   "cell_type": "markdown",
   "id": "55d8a0a2",
   "metadata": {},
   "source": [
    "#### 최종 모델 저장"
   ]
  },
  {
   "cell_type": "code",
   "execution_count": null,
   "id": "48a3b0d1",
   "metadata": {},
   "outputs": [],
   "source": [
    "model_b.save('./model/model_boston.h5')"
   ]
  },
  {
   "cell_type": "markdown",
   "id": "33c4299f",
   "metadata": {},
   "source": [
    "#### 모델 불러오기"
   ]
  },
  {
   "cell_type": "code",
   "execution_count": null,
   "id": "fe1eabe6",
   "metadata": {},
   "outputs": [],
   "source": [
    "from keras.models import load_model\n",
    "\n",
    "model_boston_load = load_model('./model/model_boston.h5')\n",
    "\n",
    "model_boston_load.summary()"
   ]
  },
  {
   "cell_type": "markdown",
   "id": "d9536dc1",
   "metadata": {},
   "source": [
    "### 1.2 와인 종류 예측 - Classification"
   ]
  },
  {
   "cell_type": "markdown",
   "id": "1af32bb4",
   "metadata": {},
   "source": [
    "[Data - UCI repository](https://archive.ics.uci.edu/ml/datasets/wine)"
   ]
  },
  {
   "cell_type": "code",
   "execution_count": null,
   "id": "9fe79255",
   "metadata": {},
   "outputs": [],
   "source": [
    "from keras.models import Sequential\n",
    "from keras.layers import Dense\n",
    "from keras.callbacks import ModelCheckpoint,EarlyStopping\n",
    "\n",
    "import tensorflow as tf"
   ]
  },
  {
   "cell_type": "code",
   "execution_count": null,
   "id": "194bf488",
   "metadata": {},
   "outputs": [],
   "source": [
    "# seed 값 설정\n",
    "np.random.seed(3)\n",
    "tf.random.set_seed(3)"
   ]
  },
  {
   "cell_type": "markdown",
   "id": "fde5a86a",
   "metadata": {},
   "source": [
    "#### 데이터 로드 - 20%"
   ]
  },
  {
   "cell_type": "code",
   "execution_count": null,
   "id": "b52d69dc",
   "metadata": {},
   "outputs": [],
   "source": [
    "df_pre = pd.read_csv('./data/wine.csv', header=None)\n",
    "df = df_pre.sample(frac=0.2) # 20%\n",
    "\n",
    "dataset = df.values\n",
    "X = dataset[:,0:12]\n",
    "y = dataset[:,12]"
   ]
  },
  {
   "cell_type": "markdown",
   "id": "3c562e88",
   "metadata": {},
   "source": [
    "#### 데이터 분할"
   ]
  },
  {
   "cell_type": "code",
   "execution_count": null,
   "id": "cb3de3f1",
   "metadata": {},
   "outputs": [],
   "source": [
    "from sklearn.model_selection import train_test_split\n",
    "\n",
    "X_train, X_test, y_train, y_test = train_test_split(X, y, test_size=0.3, random_state=0)"
   ]
  },
  {
   "cell_type": "markdown",
   "id": "4dec1ca1",
   "metadata": {},
   "source": [
    "#### 모델 생성 및 설정"
   ]
  },
  {
   "cell_type": "code",
   "execution_count": null,
   "id": "bd286da9",
   "metadata": {},
   "outputs": [],
   "source": [
    "model_w = Sequential()\n",
    "model_w.add(Dense(30,  input_dim=12, activation='relu'))\n",
    "model_w.add(Dense(12, activation='relu'))\n",
    "model_w.add(Dense(8, activation='relu'))\n",
    "model_w.add(Dense(1, activation='sigmoid'))"
   ]
  },
  {
   "cell_type": "markdown",
   "id": "c7ca65e9",
   "metadata": {},
   "source": [
    "#### 모델 계층 확인"
   ]
  },
  {
   "cell_type": "code",
   "execution_count": null,
   "id": "efd9b125",
   "metadata": {},
   "outputs": [],
   "source": [
    "model_w.summary()"
   ]
  },
  {
   "cell_type": "markdown",
   "id": "b6453892",
   "metadata": {},
   "source": [
    "#### 모델 컴파일"
   ]
  },
  {
   "cell_type": "code",
   "execution_count": null,
   "id": "d408a096",
   "metadata": {},
   "outputs": [],
   "source": [
    "model_w.compile(loss='binary_crossentropy', optimizer='adam', metrics=['accuracy'])"
   ]
  },
  {
   "cell_type": "markdown",
   "id": "09a3c186",
   "metadata": {},
   "source": [
    "#### 모델 업데이트 및 저장 설정"
   ]
  },
  {
   "cell_type": "code",
   "execution_count": null,
   "id": "b8645a44",
   "metadata": {},
   "outputs": [],
   "source": [
    "modelpath='./model/model_wine_{epoch:02d}-{val_loss:.4f}.hdf5'\n",
    "checkpointer = ModelCheckpoint(filepath=modelpath, monitor='val_loss', verbose=1, save_best_only=True)"
   ]
  },
  {
   "cell_type": "markdown",
   "id": "d55ae670",
   "metadata": {},
   "source": [
    "#### 학습 자동 중단 설정"
   ]
  },
  {
   "cell_type": "code",
   "execution_count": null,
   "id": "0fe231ec",
   "metadata": {},
   "outputs": [],
   "source": [
    "early_stopping_callback = EarlyStopping(monitor='val_loss', patience=100)"
   ]
  },
  {
   "cell_type": "markdown",
   "id": "32b938e0",
   "metadata": {},
   "source": [
    "#### 모델 학습 실행 및 저장"
   ]
  },
  {
   "cell_type": "code",
   "execution_count": null,
   "id": "4f48082a",
   "metadata": {},
   "outputs": [],
   "source": [
    "%%time\n",
    "history = model_w.fit(X_train, y_train, validation_split=0.2, epochs=3500, batch_size=500, verbose=0,\n",
    "                      callbacks=[early_stopping_callback,checkpointer])"
   ]
  },
  {
   "cell_type": "markdown",
   "id": "17817b56",
   "metadata": {},
   "source": [
    "#### 학습 진행 과정\n",
    "- history\n",
    " - loss: 훈련 손실값\n",
    " - accuracy: 훈련 정확도\n",
    " - val_loss: 검증 손실값\n",
    " - val_accuracy: 검증 정확도"
   ]
  },
  {
   "cell_type": "code",
   "execution_count": null,
   "id": "0c8c32c2",
   "metadata": {},
   "outputs": [],
   "source": [
    "fig, loss_ax = plt.subplots()\n",
    "acc_ax = loss_ax.twinx()\n",
    "\n",
    "loss_ax.plot(history.history['loss'], 'y', label='train loss')\n",
    "loss_ax.plot(history.history['val_loss'], 'r', label='validation loss')\n",
    "loss_ax.set_xlabel('epoch')\n",
    "loss_ax.set_ylabel('loss')\n",
    "loss_ax.legend(bbox_to_anchor=(1.25, 0.15))\n",
    "\n",
    "acc_ax.plot(history.history['accuracy'], 'b', label='train accuracy')\n",
    "acc_ax.plot(history.history['val_accuracy'], 'g', label='validation accuracy')\n",
    "acc_ax.set_ylabel('accuracy')\n",
    "acc_ax.legend(bbox_to_anchor=(1.05, 1))\n",
    "\n",
    "plt.title('학습 진행에 따른 학습 데이터와 검증 데이터의 정확도')\n",
    "plt.show()"
   ]
  },
  {
   "cell_type": "markdown",
   "id": "dfd1a8e7",
   "metadata": {},
   "source": [
    "#### 결과 예측"
   ]
  },
  {
   "cell_type": "code",
   "execution_count": null,
   "id": "753d9752",
   "metadata": {},
   "outputs": [],
   "source": [
    "# 예측 확률\n",
    "pred_prob = model_w.predict(X_test)\n",
    "pred_prob"
   ]
  },
  {
   "cell_type": "code",
   "execution_count": null,
   "id": "123a9315",
   "metadata": {},
   "outputs": [],
   "source": [
    "# 결과 예측\n",
    "pred = np.where(pred_prob > 0.5, 1, 0).flatten()\n",
    "pred"
   ]
  },
  {
   "cell_type": "markdown",
   "id": "da17114e",
   "metadata": {},
   "source": [
    "#### 결과 평가"
   ]
  },
  {
   "cell_type": "code",
   "execution_count": null,
   "id": "0cbdadfc",
   "metadata": {},
   "outputs": [],
   "source": [
    "from sklearn.metrics import classification_report\n",
    "print(classification_report(y_test, pred))"
   ]
  },
  {
   "cell_type": "markdown",
   "id": "c5252980",
   "metadata": {},
   "source": [
    "#### 최종 모델 저장"
   ]
  },
  {
   "cell_type": "code",
   "execution_count": null,
   "id": "4de56a6b",
   "metadata": {},
   "outputs": [],
   "source": [
    "model_w.save('./model/model_wine.h5')"
   ]
  },
  {
   "cell_type": "markdown",
   "id": "ad39e2ce",
   "metadata": {},
   "source": [
    "#### 모델 불러오기"
   ]
  },
  {
   "cell_type": "code",
   "execution_count": null,
   "id": "bccdee0a",
   "metadata": {},
   "outputs": [],
   "source": [
    "from keras.models import load_model\n",
    "\n",
    "model_wine_load = load_model('./model/model_wine.h5')\n",
    "\n",
    "model_wine_load.summary()"
   ]
  },
  {
   "cell_type": "code",
   "execution_count": null,
   "id": "b008ffbb",
   "metadata": {},
   "outputs": [],
   "source": []
  },
  {
   "cell_type": "markdown",
   "id": "f076fa13",
   "metadata": {},
   "source": [
    "---"
   ]
  },
  {
   "cell_type": "code",
   "execution_count": null,
   "id": "810a4484",
   "metadata": {},
   "outputs": [],
   "source": [
    "# End of file"
   ]
  },
  {
   "cell_type": "code",
   "execution_count": null,
   "id": "85afea49",
   "metadata": {},
   "outputs": [],
   "source": []
  }
 ],
 "metadata": {
  "kernelspec": {
   "display_name": "Python 3 (ipykernel)",
   "language": "python",
   "name": "python3"
  },
  "language_info": {
   "codemirror_mode": {
    "name": "ipython",
    "version": 3
   },
   "file_extension": ".py",
   "mimetype": "text/x-python",
   "name": "python",
   "nbconvert_exporter": "python",
   "pygments_lexer": "ipython3",
   "version": "3.9.7"
  },
  "vp": {
   "vp_config_version": "1.0.0",
   "vp_menu_width": 273,
   "vp_note_display": true,
   "vp_note_width": 263,
   "vp_position": {
    "width": 541
   },
   "vp_section_display": false,
   "vp_signature": "VisualPython"
  }
 },
 "nbformat": 4,
 "nbformat_minor": 5
}
