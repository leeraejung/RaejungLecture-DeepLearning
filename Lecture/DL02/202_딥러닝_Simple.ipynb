{
 "cells": [
  {
   "cell_type": "markdown",
   "id": "be8459af",
   "metadata": {},
   "source": [
    "# Deep Learning - Simple"
   ]
  },
  {
   "cell_type": "markdown",
   "id": "c0c93566",
   "metadata": {},
   "source": [
    "---"
   ]
  },
  {
   "cell_type": "markdown",
   "id": "827d9166",
   "metadata": {},
   "source": [
    "# 1 MNIST 손글씨 인식"
   ]
  },
  {
   "cell_type": "code",
   "execution_count": null,
   "id": "f758a8dd",
   "metadata": {},
   "outputs": [],
   "source": [
    "import numpy as np\n",
    "import pandas as pd\n",
    "import matplotlib.pyplot as plt\n",
    "import seaborn as sns\n",
    "\n",
    "plt.rc('figure', figsize=(10, 6))\n",
    "\n",
    "from matplotlib import rcParams\n",
    "rcParams['font.family'] = 'New Gulim'\n",
    "rcParams['font.size'] = 10\n",
    "rcParams['axes.unicode_minus'] = False"
   ]
  },
  {
   "cell_type": "markdown",
   "id": "d9536dc1",
   "metadata": {},
   "source": [
    "#### 패키지 임포트"
   ]
  },
  {
   "cell_type": "code",
   "execution_count": null,
   "id": "9fe79255",
   "metadata": {},
   "outputs": [],
   "source": [
    "from keras.utils import np_utils\n",
    "\n",
    "from keras.models import Sequential\n",
    "from keras.layers import Dense\n",
    "from keras.callbacks import ModelCheckpoint,EarlyStopping\n",
    "\n",
    "import tensorflow as tf"
   ]
  },
  {
   "cell_type": "code",
   "execution_count": null,
   "id": "194bf488",
   "metadata": {},
   "outputs": [],
   "source": [
    "# seed 값 설정\n",
    "np.random.seed(0)\n",
    "tf.random.set_seed(3)"
   ]
  },
  {
   "cell_type": "markdown",
   "id": "fde5a86a",
   "metadata": {},
   "source": [
    "#### 데이터 로드 및 분할"
   ]
  },
  {
   "cell_type": "code",
   "execution_count": null,
   "id": "b52d69dc",
   "metadata": {},
   "outputs": [],
   "source": [
    "# MNIST 데이터 불러오기\n",
    "from keras.datasets import mnist\n",
    "\n",
    "(X_train, y_train), (X_test, y_test) = mnist.load_data()\n",
    "\n",
    "X_train = X_train.reshape(X_train.shape[0], 784).astype('float32') / 255\n",
    "X_test = X_test.reshape(X_test.shape[0], 784).astype('float32') / 255\n",
    "\n",
    "y_train = np_utils.to_categorical(y_train, 10)\n",
    "y_test = np_utils.to_categorical(y_test, 10)"
   ]
  },
  {
   "cell_type": "markdown",
   "id": "4dec1ca1",
   "metadata": {},
   "source": [
    "#### 모델 생성 및 설정"
   ]
  },
  {
   "cell_type": "code",
   "execution_count": null,
   "id": "bd286da9",
   "metadata": {},
   "outputs": [],
   "source": [
    "model = Sequential()\n",
    "model.add(Dense(512, input_dim=784, activation='relu'))\n",
    "model.add(Dense(10, activation='softmax'))"
   ]
  },
  {
   "cell_type": "markdown",
   "id": "c7ca65e9",
   "metadata": {},
   "source": [
    "#### 모델 계층 확인"
   ]
  },
  {
   "cell_type": "code",
   "execution_count": null,
   "id": "efd9b125",
   "metadata": {},
   "outputs": [],
   "source": [
    "model.summary()"
   ]
  },
  {
   "cell_type": "markdown",
   "id": "b6453892",
   "metadata": {},
   "source": [
    "#### 모델 컴파일"
   ]
  },
  {
   "cell_type": "code",
   "execution_count": null,
   "id": "d408a096",
   "metadata": {},
   "outputs": [],
   "source": [
    "model.compile(loss='categorical_crossentropy', optimizer='adam', metrics=['accuracy'])"
   ]
  },
  {
   "cell_type": "markdown",
   "id": "09a3c186",
   "metadata": {},
   "source": [
    "#### 모델 업데이트 및 저장 설정"
   ]
  },
  {
   "cell_type": "code",
   "execution_count": null,
   "id": "b8645a44",
   "metadata": {},
   "outputs": [],
   "source": [
    "modelpath='./model/model_mnist_simple_{epoch:02d}-{val_loss:.4f}.hdf5'\n",
    "checkpointer = ModelCheckpoint(filepath=modelpath, monitor='val_loss', verbose=1, save_best_only=True)"
   ]
  },
  {
   "cell_type": "markdown",
   "id": "d55ae670",
   "metadata": {},
   "source": [
    "#### 학습 자동 중단 설정"
   ]
  },
  {
   "cell_type": "code",
   "execution_count": null,
   "id": "0fe231ec",
   "metadata": {},
   "outputs": [],
   "source": [
    "early_stopping_callback = EarlyStopping(monitor='val_loss', patience=10)"
   ]
  },
  {
   "cell_type": "markdown",
   "id": "32b938e0",
   "metadata": {},
   "source": [
    "#### 모델 학습 실행 및 저장"
   ]
  },
  {
   "cell_type": "code",
   "execution_count": null,
   "id": "4f48082a",
   "metadata": {
    "scrolled": true
   },
   "outputs": [],
   "source": [
    "%%time\n",
    "history = model.fit(X_train, y_train, validation_data=(X_test, y_test), epochs=30, batch_size=200, verbose=0,\n",
    "                    callbacks=[early_stopping_callback,checkpointer])"
   ]
  },
  {
   "cell_type": "markdown",
   "id": "25146fe4",
   "metadata": {},
   "source": [
    "#### 모델 평가"
   ]
  },
  {
   "cell_type": "code",
   "execution_count": null,
   "id": "fa8e418b",
   "metadata": {},
   "outputs": [],
   "source": [
    "# 테스트 정확도 출력\n",
    "print('\\n Test Accuracy: %.4f' % (model.evaluate(X_test, y_test)[1]))"
   ]
  },
  {
   "cell_type": "markdown",
   "id": "f64bb928",
   "metadata": {},
   "source": [
    "#### 학습 진행 과정\n",
    "- history\n",
    " - loss: 훈련 손실값\n",
    " - accuracy: 훈련 정확도\n",
    " - val_loss: 검증 손실값\n",
    " - val_accuracy: 검증 정확도"
   ]
  },
  {
   "cell_type": "code",
   "execution_count": null,
   "id": "7c0ad541",
   "metadata": {},
   "outputs": [],
   "source": [
    "# 그래프로 표현\n",
    "plt.plot(history.history['val_loss'], marker='.', c='red', label='Validation Loss')\n",
    "plt.plot(history.history['loss'],     marker='.', c='blue',label='Train Loss')\n",
    "\n",
    "plt.grid()\n",
    "plt.xlabel('Epoch')\n",
    "plt.ylabel('Loss')\n",
    "plt.legend(loc='upper right')\n",
    "\n",
    "plt.title('학습 진행에 따른 학습 데이터와 검증 데이터의 에러')\n",
    "plt.show()"
   ]
  },
  {
   "cell_type": "markdown",
   "id": "dfd1a8e7",
   "metadata": {},
   "source": [
    "#### 결과 예측"
   ]
  },
  {
   "cell_type": "code",
   "execution_count": null,
   "id": "753d9752",
   "metadata": {},
   "outputs": [],
   "source": [
    "# 예측 확률\n",
    "pred_prob = model.predict(X_test)\n",
    "pred_prob"
   ]
  },
  {
   "cell_type": "code",
   "execution_count": null,
   "id": "123a9315",
   "metadata": {},
   "outputs": [],
   "source": [
    "# 결과 예측\n",
    "pred = np.argmax(pred_prob, axis=1).flatten()\n",
    "pred"
   ]
  },
  {
   "cell_type": "markdown",
   "id": "4f3a4552",
   "metadata": {},
   "source": [
    "#### 결과 확인"
   ]
  },
  {
   "cell_type": "code",
   "execution_count": null,
   "id": "2bf6f7c7",
   "metadata": {},
   "outputs": [],
   "source": [
    "plt.imshow(X_test[0].reshape(28,-1))\n",
    "plt.title(f'Label: {pred[0]}')\n",
    "plt.show()"
   ]
  },
  {
   "cell_type": "code",
   "execution_count": null,
   "id": "cd9f3e75",
   "metadata": {},
   "outputs": [],
   "source": [
    "fig, axes = plt.subplots(2, 5, figsize=(10, 5), subplot_kw={'xticks':(), 'yticks': ()})\n",
    "for i, (ax, img) in enumerate(zip(axes.ravel(), X_test[:10].reshape(10, 28,-1))):\n",
    "    ax.imshow(img)\n",
    "    ax.set_xlabel(f'Label: {pred[i]}')"
   ]
  },
  {
   "cell_type": "markdown",
   "id": "da17114e",
   "metadata": {},
   "source": [
    "#### 결과 평가"
   ]
  },
  {
   "cell_type": "code",
   "execution_count": null,
   "id": "d02f6ca4",
   "metadata": {},
   "outputs": [],
   "source": [
    "y_test_1d = np.argmax(y_test, axis=1).flatten()"
   ]
  },
  {
   "cell_type": "code",
   "execution_count": null,
   "id": "0cbdadfc",
   "metadata": {},
   "outputs": [],
   "source": [
    "from sklearn.metrics import classification_report\n",
    "print(classification_report(y_test_1d, pred))"
   ]
  },
  {
   "cell_type": "code",
   "execution_count": null,
   "id": "b008ffbb",
   "metadata": {},
   "outputs": [],
   "source": []
  },
  {
   "cell_type": "markdown",
   "id": "f076fa13",
   "metadata": {},
   "source": [
    "---"
   ]
  },
  {
   "cell_type": "code",
   "execution_count": null,
   "id": "810a4484",
   "metadata": {},
   "outputs": [],
   "source": [
    "# End of file"
   ]
  },
  {
   "cell_type": "code",
   "execution_count": null,
   "id": "85afea49",
   "metadata": {},
   "outputs": [],
   "source": []
  }
 ],
 "metadata": {
  "kernelspec": {
   "display_name": "Python 3 (ipykernel)",
   "language": "python",
   "name": "python3"
  },
  "language_info": {
   "codemirror_mode": {
    "name": "ipython",
    "version": 3
   },
   "file_extension": ".py",
   "mimetype": "text/x-python",
   "name": "python",
   "nbconvert_exporter": "python",
   "pygments_lexer": "ipython3",
   "version": "3.9.7"
  },
  "vp": {
   "vp_config_version": "1.0.0",
   "vp_menu_width": 273,
   "vp_note_display": true,
   "vp_note_width": 263,
   "vp_position": {
    "width": 541
   },
   "vp_section_display": false,
   "vp_signature": "VisualPython"
  }
 },
 "nbformat": 4,
 "nbformat_minor": 5
}
