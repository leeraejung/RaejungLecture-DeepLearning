{
 "cells": [
  {
   "cell_type": "markdown",
   "id": "be8459af",
   "metadata": {},
   "source": [
    "# Tensorboard"
   ]
  },
  {
   "cell_type": "markdown",
   "id": "c0c93566",
   "metadata": {},
   "source": [
    "---"
   ]
  },
  {
   "cell_type": "markdown",
   "id": "827d9166",
   "metadata": {},
   "source": [
    "# 1 Tensorboard 활용\n",
    "- [Tensorboard](https://www.tensorflow.org/tensorboard/get_started)\n",
    "1. tensorboard 종료: 작업관리자 -> tessorboard.exe 작업 끝내기\n",
    "2. 로그 폴더 삭제: 관리자 권한 CDM -> rmdir /s /q logs"
   ]
  },
  {
   "cell_type": "code",
   "execution_count": null,
   "id": "f758a8dd",
   "metadata": {},
   "outputs": [],
   "source": [
    "import numpy as np\n",
    "import pandas as pd\n",
    "import matplotlib.pyplot as plt\n",
    "import seaborn as sns\n",
    "\n",
    "plt.rc('figure', figsize=(10, 6))\n",
    "\n",
    "from matplotlib import rcParams\n",
    "rcParams['font.family'] = 'New Gulim'\n",
    "rcParams['font.size'] = 10\n",
    "rcParams['axes.unicode_minus'] = False"
   ]
  },
  {
   "cell_type": "code",
   "execution_count": null,
   "id": "3f4f120c",
   "metadata": {},
   "outputs": [],
   "source": [
    "#!pip install jupyter-tensorboard"
   ]
  },
  {
   "cell_type": "code",
   "execution_count": null,
   "id": "62f68d84",
   "metadata": {},
   "outputs": [],
   "source": [
    "%load_ext tensorboard"
   ]
  },
  {
   "cell_type": "code",
   "execution_count": null,
   "id": "4f1dc341",
   "metadata": {
    "scrolled": false
   },
   "outputs": [],
   "source": [
    "%tensorboard --logdir ./logs"
   ]
  },
  {
   "cell_type": "markdown",
   "id": "b133a525",
   "metadata": {},
   "source": [
    "### 1.1 보스턴 집값 예측 - Regression"
   ]
  },
  {
   "cell_type": "code",
   "execution_count": null,
   "id": "ed250e3e",
   "metadata": {},
   "outputs": [],
   "source": [
    "from keras.models import Sequential\n",
    "from keras.layers import Dense\n",
    "\n",
    "import tensorflow as tf"
   ]
  },
  {
   "cell_type": "code",
   "execution_count": null,
   "id": "68b77ae0",
   "metadata": {},
   "outputs": [],
   "source": [
    "# seed 값 설정\n",
    "np.random.seed(0)\n",
    "tf.random.set_seed(3)"
   ]
  },
  {
   "cell_type": "markdown",
   "id": "839ef930",
   "metadata": {},
   "source": [
    "#### 데이터 로드"
   ]
  },
  {
   "cell_type": "code",
   "execution_count": null,
   "id": "361b3b92",
   "metadata": {},
   "outputs": [],
   "source": [
    "df = pd.read_csv('./data/housing.csv', delim_whitespace=True, header=None)\n",
    "dataset = df.values\n",
    "X = dataset[:,0:13]\n",
    "y = dataset[:,13]"
   ]
  },
  {
   "cell_type": "markdown",
   "id": "69644811",
   "metadata": {},
   "source": [
    "#### 데이터 분할"
   ]
  },
  {
   "cell_type": "code",
   "execution_count": null,
   "id": "d97eff63",
   "metadata": {},
   "outputs": [],
   "source": [
    "# 데이터 분할\n",
    "from sklearn.model_selection import train_test_split\n",
    "\n",
    "X_train, X_test, y_train, y_test = train_test_split(X, y, test_size=0.3, random_state=0)"
   ]
  },
  {
   "cell_type": "markdown",
   "id": "3e3e8748",
   "metadata": {},
   "source": [
    "#### 모델 생성 및 설정"
   ]
  },
  {
   "cell_type": "code",
   "execution_count": null,
   "id": "c1fcf374",
   "metadata": {},
   "outputs": [],
   "source": [
    "# 모델 생성 및 설정\n",
    "model_b = Sequential()\n",
    "model_b.add(Dense(30, input_dim=13, activation='relu'))\n",
    "model_b.add(Dense(6, activation='relu'))\n",
    "model_b.add(Dense(1))"
   ]
  },
  {
   "cell_type": "markdown",
   "id": "14588951",
   "metadata": {},
   "source": [
    "#### 모델 컴파일"
   ]
  },
  {
   "cell_type": "code",
   "execution_count": null,
   "id": "4d3f97d2",
   "metadata": {},
   "outputs": [],
   "source": [
    "# 모델 컴파일\n",
    "model_b.compile(loss='mean_squared_error', optimizer='adam')"
   ]
  },
  {
   "cell_type": "markdown",
   "id": "1838ce4e",
   "metadata": {},
   "source": [
    "#### 텐서보드 콜백 함수 설정"
   ]
  },
  {
   "cell_type": "code",
   "execution_count": null,
   "id": "655f53ef",
   "metadata": {},
   "outputs": [],
   "source": [
    "# 시간정보를 활용하여 폴더 생성\n",
    "import datetime\n",
    "# 학습데이터의 log를 저장할 폴더 생성 (지정)\n",
    "log_dir = './logs/' + datetime.datetime.now().strftime('%Y%m%d-%H%M%S')\n",
    "\n",
    "# 텐서보드 콜백 정의 하기\n",
    "tensorboard_callback = tf.keras.callbacks.TensorBoard(log_dir=log_dir, histogram_freq=1)"
   ]
  },
  {
   "cell_type": "markdown",
   "id": "103207c6",
   "metadata": {},
   "source": [
    "#### 모델 학습 실행"
   ]
  },
  {
   "cell_type": "code",
   "execution_count": null,
   "id": "7fd79cbf",
   "metadata": {},
   "outputs": [],
   "source": [
    "%%time\n",
    "model_b.fit(X_train, y_train, epochs=200, batch_size=10, callbacks=[tensorboard_callback])"
   ]
  },
  {
   "cell_type": "markdown",
   "id": "d9536dc1",
   "metadata": {},
   "source": [
    "### 1.2 와인 종류 예측 - Classification"
   ]
  },
  {
   "cell_type": "markdown",
   "id": "1af32bb4",
   "metadata": {},
   "source": [
    "[Data - UCI repository](https://archive.ics.uci.edu/ml/datasets/wine)"
   ]
  },
  {
   "cell_type": "code",
   "execution_count": null,
   "id": "9fe79255",
   "metadata": {},
   "outputs": [],
   "source": [
    "from keras.models import Sequential\n",
    "from keras.layers import Dense\n",
    "from keras.callbacks import ModelCheckpoint,EarlyStopping\n",
    "\n",
    "import tensorflow as tf"
   ]
  },
  {
   "cell_type": "code",
   "execution_count": null,
   "id": "194bf488",
   "metadata": {},
   "outputs": [],
   "source": [
    "# seed 값 설정\n",
    "np.random.seed(3)\n",
    "tf.random.set_seed(3)"
   ]
  },
  {
   "cell_type": "markdown",
   "id": "fde5a86a",
   "metadata": {},
   "source": [
    "#### 데이터 로드 - 20%"
   ]
  },
  {
   "cell_type": "code",
   "execution_count": null,
   "id": "b52d69dc",
   "metadata": {},
   "outputs": [],
   "source": [
    "df_pre = pd.read_csv('./data/wine.csv', header=None)\n",
    "df = df_pre.sample(frac=0.2) # 20%\n",
    "\n",
    "dataset = df.values\n",
    "X = dataset[:,0:12]\n",
    "y = dataset[:,12]"
   ]
  },
  {
   "cell_type": "markdown",
   "id": "3c562e88",
   "metadata": {},
   "source": [
    "#### 데이터 분할"
   ]
  },
  {
   "cell_type": "code",
   "execution_count": null,
   "id": "cb3de3f1",
   "metadata": {},
   "outputs": [],
   "source": [
    "from sklearn.model_selection import train_test_split\n",
    "\n",
    "X_train, X_test, y_train, y_test = train_test_split(X, y, test_size=0.3, random_state=0)"
   ]
  },
  {
   "cell_type": "markdown",
   "id": "4dec1ca1",
   "metadata": {},
   "source": [
    "#### 모델 생성 및 설정"
   ]
  },
  {
   "cell_type": "code",
   "execution_count": null,
   "id": "bd286da9",
   "metadata": {},
   "outputs": [],
   "source": [
    "model_w = Sequential()\n",
    "model_w.add(Dense(30,  input_dim=12, activation='relu'))\n",
    "model_w.add(Dense(12, activation='relu'))\n",
    "model_w.add(Dense(8, activation='relu'))\n",
    "model_w.add(Dense(1, activation='sigmoid'))"
   ]
  },
  {
   "cell_type": "markdown",
   "id": "b6453892",
   "metadata": {},
   "source": [
    "#### 모델 컴파일"
   ]
  },
  {
   "cell_type": "code",
   "execution_count": null,
   "id": "d408a096",
   "metadata": {},
   "outputs": [],
   "source": [
    "model_w.compile(loss='binary_crossentropy', optimizer='adam', metrics=['accuracy'])"
   ]
  },
  {
   "cell_type": "markdown",
   "id": "09a3c186",
   "metadata": {},
   "source": [
    "#### 모델 업데이트 및 저장 설정"
   ]
  },
  {
   "cell_type": "code",
   "execution_count": null,
   "id": "b8645a44",
   "metadata": {},
   "outputs": [],
   "source": [
    "modelpath='./model/model_wine_{epoch:02d}-{val_loss:.4f}.hdf5'\n",
    "checkpointer = ModelCheckpoint(filepath=modelpath, monitor='val_loss', verbose=1, save_best_only=True)"
   ]
  },
  {
   "cell_type": "markdown",
   "id": "d55ae670",
   "metadata": {},
   "source": [
    "#### 학습 자동 중단 설정"
   ]
  },
  {
   "cell_type": "code",
   "execution_count": null,
   "id": "0fe231ec",
   "metadata": {},
   "outputs": [],
   "source": [
    "early_stopping_callback = EarlyStopping(monitor='val_loss', patience=100)"
   ]
  },
  {
   "cell_type": "markdown",
   "id": "038e8399",
   "metadata": {},
   "source": [
    "#### 텐서보드 콜백 함수 설정"
   ]
  },
  {
   "cell_type": "code",
   "execution_count": null,
   "id": "ce8c29a1",
   "metadata": {},
   "outputs": [],
   "source": [
    "# 시간정보를 활용하여 폴더 생성\n",
    "import datetime\n",
    "# 학습데이터의 log를 저장할 폴더 생성 (지정)\n",
    "log_dir = './logs/' + datetime.datetime.now().strftime('%Y%m%d-%H%M%S')\n",
    "\n",
    "# 텐서보드 콜백 정의 하기\n",
    "tensorboard_callback = tf.keras.callbacks.TensorBoard(log_dir=log_dir, histogram_freq=1)"
   ]
  },
  {
   "cell_type": "markdown",
   "id": "32b938e0",
   "metadata": {},
   "source": [
    "#### 모델 학습 실행 및 저장"
   ]
  },
  {
   "cell_type": "code",
   "execution_count": null,
   "id": "4f48082a",
   "metadata": {},
   "outputs": [],
   "source": [
    "%%time\n",
    "history = model_w.fit(X_train, y_train, validation_split=0.2, epochs=3500, batch_size=500, verbose=0,\n",
    "                      callbacks=[early_stopping_callback,checkpointer,tensorboard_callback])"
   ]
  },
  {
   "cell_type": "code",
   "execution_count": null,
   "id": "b008ffbb",
   "metadata": {},
   "outputs": [],
   "source": []
  },
  {
   "cell_type": "markdown",
   "id": "f076fa13",
   "metadata": {},
   "source": [
    "---"
   ]
  },
  {
   "cell_type": "code",
   "execution_count": null,
   "id": "810a4484",
   "metadata": {},
   "outputs": [],
   "source": [
    "# End of file"
   ]
  },
  {
   "cell_type": "code",
   "execution_count": null,
   "id": "85afea49",
   "metadata": {},
   "outputs": [],
   "source": []
  }
 ],
 "metadata": {
  "kernelspec": {
   "display_name": "Python 3 (ipykernel)",
   "language": "python",
   "name": "python3"
  },
  "language_info": {
   "codemirror_mode": {
    "name": "ipython",
    "version": 3
   },
   "file_extension": ".py",
   "mimetype": "text/x-python",
   "name": "python",
   "nbconvert_exporter": "python",
   "pygments_lexer": "ipython3",
   "version": "3.9.7"
  },
  "vp": {
   "vp_config_version": "1.0.0",
   "vp_menu_width": 273,
   "vp_note_display": true,
   "vp_note_width": 263,
   "vp_position": {
    "width": 541
   },
   "vp_section_display": false,
   "vp_signature": "VisualPython"
  }
 },
 "nbformat": 4,
 "nbformat_minor": 5
}
