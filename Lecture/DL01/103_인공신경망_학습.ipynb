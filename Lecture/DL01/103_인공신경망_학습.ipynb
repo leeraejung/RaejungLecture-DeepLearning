{
 "cells": [
  {
   "cell_type": "markdown",
   "id": "be8459af",
   "metadata": {},
   "source": [
    "# 신경망 학습"
   ]
  },
  {
   "cell_type": "markdown",
   "id": "c0c93566",
   "metadata": {},
   "source": [
    "---"
   ]
  },
  {
   "cell_type": "code",
   "execution_count": null,
   "id": "f758a8dd",
   "metadata": {},
   "outputs": [],
   "source": [
    "import numpy as np\n",
    "import pandas as pd\n",
    "import matplotlib.pyplot as plt\n",
    "import seaborn as sns\n",
    "\n",
    "plt.rc('figure', figsize=(10, 6))\n",
    "\n",
    "from matplotlib import rcParams\n",
    "rcParams['font.family'] = 'New Gulim'\n",
    "rcParams['font.size'] = 10\n",
    "rcParams['axes.unicode_minus'] = False"
   ]
  },
  {
   "cell_type": "markdown",
   "id": "0ff19ba3",
   "metadata": {},
   "source": [
    "#### 딥러닝의 특징"
   ]
  },
  {
   "cell_type": "markdown",
   "id": "2e89e1be",
   "metadata": {},
   "source": [
    "<img src=\"./images/fig_4-2.png\" width=\"500\"/>"
   ]
  },
  {
   "cell_type": "markdown",
   "id": "01f3855a",
   "metadata": {},
   "source": [
    "# 1 손실 함수\n",
    "- 학습시 사용되는 지표: 손실 함수\n",
    "- 최종 평가시 사용되는 지표: 정확도, 정밀도, 재현율 등"
   ]
  },
  {
   "cell_type": "markdown",
   "id": "e0abdba7",
   "metadata": {},
   "source": [
    "### 1.1 평균 제곱 오차 - MSE(mean squared error)"
   ]
  },
  {
   "cell_type": "markdown",
   "id": "66568f9b",
   "metadata": {},
   "source": [
    "<img src=\"./images/e_4.1.png\" width=\"200\"/>"
   ]
  },
  {
   "cell_type": "code",
   "execution_count": null,
   "id": "f861d05a",
   "metadata": {},
   "outputs": [],
   "source": [
    "# MSE 함수 구현\n",
    "\n",
    "def mean_squared_error(y, t):\n",
    "    return 0.5 * np.sum((y- t)**2)"
   ]
  },
  {
   "cell_type": "code",
   "execution_count": null,
   "id": "30bed043",
   "metadata": {},
   "outputs": [],
   "source": [
    "# 정답: '2'\n",
    "t = [0, 0, 1, 0, 0, 0, 0, 0, 0, 0]"
   ]
  },
  {
   "cell_type": "code",
   "execution_count": null,
   "id": "76e58b95",
   "metadata": {},
   "outputs": [],
   "source": [
    "# 올바른 예측일 경우의 MSE\n",
    "# '2' 일 확률이 가장 높다고 추정함(0.6)\n",
    "y = [0.1, 0.05, 0.6, 0.0, 0.05, 0.1, 0.0, 0.1, 0.0, 0.0]\n",
    "\n",
    "mean_squared_error(np.array(y), np.array(t))"
   ]
  },
  {
   "cell_type": "code",
   "execution_count": null,
   "id": "e5a1f0f0",
   "metadata": {},
   "outputs": [],
   "source": [
    "# 잘못된 예측일 경우의 MSE\n",
    "# '7' 일 확률이 가장 높다고 추정 함(0.6)\n",
    "y = [0.1, 0.05, 0.1, 0.0, 0.05, 0.1, 0.0, 0.6, 0.0, 0.0]\n",
    "\n",
    "mean_squared_error(np .array(y) , np.array(t))"
   ]
  },
  {
   "cell_type": "markdown",
   "id": "ab74a1e2",
   "metadata": {},
   "source": [
    "### 1.2 교차 엔트로피 - Cross entropy"
   ]
  },
  {
   "cell_type": "markdown",
   "id": "677cb5fe",
   "metadata": {},
   "source": [
    "<img src=\"./images/e_4.2.png\" width=\"200\"/>"
   ]
  },
  {
   "cell_type": "markdown",
   "id": "221cd7d1",
   "metadata": {},
   "source": [
    "- 자연로그 y = logx의 그래프\n",
    "<img src=\"./images/fig_4-3.png\" width=\"400\"/>"
   ]
  },
  {
   "cell_type": "code",
   "execution_count": null,
   "id": "f310334a",
   "metadata": {},
   "outputs": [],
   "source": [
    "# Cross entropy 함수 구현\n",
    "\n",
    "def cross_entropy_error(y, t):\n",
    "    delta =  1e-7\n",
    "    return -np.sum(t * np.log(y + delta))"
   ]
  },
  {
   "cell_type": "code",
   "execution_count": null,
   "id": "cf18c629",
   "metadata": {},
   "outputs": [],
   "source": [
    "# 정답: '2'\n",
    "t = [0, 0, 1, 0, 0, 0, 0, 0, 0, 0]"
   ]
  },
  {
   "cell_type": "code",
   "execution_count": null,
   "id": "399e2ef9",
   "metadata": {},
   "outputs": [],
   "source": [
    "# 올바른 예측일 경우의 Cross entropy\n",
    "# '2' 일 확률이 가장 높다고 추정함(0.6)\n",
    "y = [0.1, 0.05, 0.6, 0.0, 0.05, 0.1, 0.0, 0.1, 0.0, 0.0]\n",
    "\n",
    "cross_entropy_error(np.array(y) , np.array(t))"
   ]
  },
  {
   "cell_type": "code",
   "execution_count": null,
   "id": "bd1e8934",
   "metadata": {},
   "outputs": [],
   "source": [
    "# 잘못된 예측일 경우의 Cross entropy\n",
    "# '7' 일 확률이 가장 높다고 추정 함(0.6)\n",
    "y = [0.1, 0.05, 0.1, 0.0, 0.05, 0.1, 0.0, 0.6, 0.0, 0.0]\n",
    "\n",
    "cross_entropy_error(np.array(y), np.array(t))"
   ]
  },
  {
   "cell_type": "markdown",
   "id": "2c76be26",
   "metadata": {},
   "source": [
    "### 1.3 미니 배치 학습"
   ]
  },
  {
   "cell_type": "markdown",
   "id": "923884ac",
   "metadata": {},
   "source": [
    "<img src=\"./images/e_4.3.png\" width=\"300\"/>"
   ]
  },
  {
   "cell_type": "code",
   "execution_count": null,
   "id": "a662093a",
   "metadata": {},
   "outputs": [],
   "source": [
    "# Cross entropy 함수 구현 - 미니 배치\n",
    "\n",
    "def cross_entropy_error(y, t):\n",
    "    if y.ndim == 1:\n",
    "        t = t.reshape(1, t.size)\n",
    "        y = y.reshape(1, y.size)\n",
    "        \n",
    "    batch_size = y.shape[0]\n",
    "    \n",
    "    # 정답(t)이 One-hot-encoding 인 경우\n",
    "    return -np.sum(t * np.log(y + 1e-7)) / batch_size\n",
    "    \n",
    "    # 정답(t)이 One-hot-encoding이 아닌 경우\n",
    "    #return -np.sum(np.log(y[np.arange(batch_size), t] + 1e-7)) / batch_size"
   ]
  },
  {
   "cell_type": "code",
   "execution_count": null,
   "id": "97288118",
   "metadata": {},
   "outputs": [],
   "source": [
    "# 데이터 로딩\n",
    "\n",
    "from dataset.mnist import load_mnist\n",
    "\n",
    "(x_train, t_train), (x_test, t_test) = load_mnist(normalize=True, one_hot_label=True)\n",
    "\n",
    "print(x_train.shape) # (68888, 784)\n",
    "print(t_train.shape) # (68888 , 10)"
   ]
  },
  {
   "cell_type": "code",
   "execution_count": null,
   "id": "45efcb29",
   "metadata": {},
   "outputs": [],
   "source": [
    "# 미니 배치 선택\n",
    "\n",
    "train_size = x_train.shape[0]\n",
    "batch_size = 10\n",
    "batch_mask =  np.random.choice(train_size , batch_size)\n",
    "\n",
    "x_batch = x_train[batch_mask]\n",
    "t_batch = t_train[batch_mask]\n",
    "\n",
    "print(x_batch.shape)\n",
    "print(t_batch.shape)"
   ]
  },
  {
   "cell_type": "code",
   "execution_count": null,
   "id": "58c25949",
   "metadata": {},
   "outputs": [],
   "source": [
    "# Cross entropy - 미니 배치 적용\n",
    "\n",
    "y = [[0.1, 0.05, 0.6, 0.0, 0.05, 0.1, 0.0, 0.1, 0.0, 0.0],\n",
    "     [0.1, 0.05, 0.6, 0.0, 0.05, 0.1, 0.0, 0.1, 0.0, 0.0],\n",
    "     [0.1, 0.05, 0.6, 0.0, 0.05, 0.1, 0.0, 0.1, 0.0, 0.0],\n",
    "     [0.1, 0.05, 0.6, 0.0, 0.05, 0.1, 0.0, 0.1, 0.0, 0.0],\n",
    "     [0.1, 0.05, 0.6, 0.0, 0.05, 0.1, 0.0, 0.1, 0.0, 0.0],\n",
    "     [0.1, 0.05, 0.6, 0.0, 0.05, 0.1, 0.0, 0.1, 0.0, 0.0],\n",
    "     [0.1, 0.05, 0.6, 0.0, 0.05, 0.1, 0.0, 0.1, 0.0, 0.0],\n",
    "     [0.1, 0.05, 0.6, 0.0, 0.05, 0.1, 0.0, 0.1, 0.0, 0.0],\n",
    "     [0.1, 0.05, 0.6, 0.0, 0.05, 0.1, 0.0, 0.1, 0.0, 0.0],\n",
    "     [0.1, 0.05, 0.6, 0.0, 0.05, 0.1, 0.0, 0.1, 0.0, 0.0]]\n",
    "\n",
    "cross_entropy_error(np.array(y), t)"
   ]
  },
  {
   "cell_type": "markdown",
   "id": "9bddffe8",
   "metadata": {},
   "source": [
    "# 2 수치 미분 - Numerical differentiation"
   ]
  },
  {
   "cell_type": "markdown",
   "id": "f035a843",
   "metadata": {},
   "source": [
    "- 도함수의 정의\n",
    "<img src=\"./images/e_4.4.png\" width=\"300\"/>"
   ]
  },
  {
   "cell_type": "markdown",
   "id": "72a386bd",
   "metadata": {},
   "source": [
    "### 2.1 수치 미분 구현"
   ]
  },
  {
   "cell_type": "markdown",
   "id": "a96e4f56",
   "metadata": {},
   "source": [
    "- 접선(도함수 사용) - 수치 미분(근사값)\n",
    "<img src=\"./images/fig_4-5.png\" width=\"500\"/>"
   ]
  },
  {
   "cell_type": "code",
   "execution_count": null,
   "id": "b0c5bb2e",
   "metadata": {},
   "outputs": [],
   "source": [
    "# 수치 미분 구현\n",
    "\n",
    "# h값 조정: 반올림 오차 해결\n",
    "# 중앙 차분 사용\n",
    "def numerical_diff(f , x):\n",
    "    h = 1e-4 # 8 8881\n",
    "    return (f(x+h) - f(x-h)) / (2*h)"
   ]
  },
  {
   "cell_type": "markdown",
   "id": "b7c04040",
   "metadata": {},
   "source": [
    "### 2.2 수치 미분 적용 - 기울기 구하기"
   ]
  },
  {
   "cell_type": "markdown",
   "id": "543d0bd0",
   "metadata": {},
   "source": [
    "- 2차 함수 정의\n",
    "<img src=\"./images/e_4.5.png\" width=\"200\"/>"
   ]
  },
  {
   "cell_type": "code",
   "execution_count": null,
   "id": "8254311d",
   "metadata": {},
   "outputs": [],
   "source": [
    "# 2차 함수 정의 코드 구현\n",
    "def function_1(x):\n",
    "    return 0.01*x**2 + 0.1*x"
   ]
  },
  {
   "cell_type": "code",
   "execution_count": null,
   "id": "9630d466",
   "metadata": {},
   "outputs": [],
   "source": [
    "x = np.arange(0.0, 20.0, 0.1) # 0에서 20 까지 0.1 간격의 배열 X를 만든다\n",
    "y = function_1(x)\n",
    "\n",
    "plt.plot(x, y)\n",
    "plt.xlabel('x')\n",
    "plt.ylabel('f( x)')\n",
    "plt.show()"
   ]
  },
  {
   "cell_type": "code",
   "execution_count": null,
   "id": "e1b0f6a3",
   "metadata": {},
   "outputs": [],
   "source": [
    "# x = 5 에서의 기울기\n",
    "numerical_diff(function_1 , 5)"
   ]
  },
  {
   "cell_type": "code",
   "execution_count": null,
   "id": "0aa28f4d",
   "metadata": {},
   "outputs": [],
   "source": [
    "# x = 10 에서의 기울기\n",
    "numerical_diff(function_1, 10)"
   ]
  },
  {
   "cell_type": "markdown",
   "id": "33847cac",
   "metadata": {},
   "source": [
    "### 2.3 도함수 이용 - 기울기 구하기"
   ]
  },
  {
   "cell_type": "markdown",
   "id": "b3a961c2",
   "metadata": {},
   "source": [
    "#### 도함수\n",
    "$$ \\frac{df(x)}{dx} = 0.02x + 0.1 $$\n",
    "\n",
    "- x = 5 에서의 기울기: 0.2\n",
    "- x = 10 에서의 기울기: 0.3"
   ]
  },
  {
   "cell_type": "markdown",
   "id": "572896ce",
   "metadata": {},
   "source": [
    "- x= 5, x = 10 에서의 접선의 기울기\n",
    "<img src=\"./images/fig_4-7.png\" width=\"600\"/>"
   ]
  },
  {
   "cell_type": "markdown",
   "id": "a36fd637",
   "metadata": {},
   "source": [
    "### 2.4 편미분"
   ]
  },
  {
   "cell_type": "markdown",
   "id": "10890914",
   "metadata": {},
   "source": [
    "#### 2.4.1 다변수 함수"
   ]
  },
  {
   "cell_type": "markdown",
   "id": "8b9c1106",
   "metadata": {},
   "source": [
    "- 다변수 함수 정의\n",
    "<img src=\"./images/e_4.6.png\" width=\"200\"/>"
   ]
  },
  {
   "cell_type": "code",
   "execution_count": null,
   "id": "51339141",
   "metadata": {},
   "outputs": [],
   "source": [
    "# 다변수 함수 코드 구현\n",
    "def function_2(x):\n",
    "    return x[0]**2 + x[1]**2\n",
    "    #return np.sum(x**2)"
   ]
  },
  {
   "cell_type": "markdown",
   "id": "18943c88",
   "metadata": {},
   "source": [
    "- 다변수 함수 그래프\n",
    "<img src=\"./images/fig_4-8.png\" width=\"400\"/>"
   ]
  },
  {
   "cell_type": "markdown",
   "id": "fb61160a",
   "metadata": {},
   "source": [
    "#### 2.4.2 다변수 함수 기울기 - Gradient"
   ]
  },
  {
   "cell_type": "code",
   "execution_count": null,
   "id": "a6dc9827",
   "metadata": {},
   "outputs": [],
   "source": [
    "# 수치 미분 구현 - 다변수 함수\n",
    "\n",
    "def numerical_gradient(f, x):\n",
    "\n",
    "    h = 1e-4 # 0.0001\n",
    "    grad = np.zeros_like(x) # x와 형상이 같은 배열을 생성\n",
    "    \n",
    "    for idx in range(x.size):\n",
    "        tmp_val = x[idx]\n",
    "        \n",
    "        # f(x+h) 계산\n",
    "        x[idx] = tmp_val + h\n",
    "        fxh1 = f(x)\n",
    "        \n",
    "        # f(x-h) 계산\n",
    "        x[idx] = tmp_val - h\n",
    "        fxh2 = f(x)\n",
    "        \n",
    "        grad[idx] = (fxh1 - fxh2) / (2*h)\n",
    "        x[idx] = tmp_val # 값 복원\n",
    "        \n",
    "    return grad"
   ]
  },
  {
   "cell_type": "code",
   "execution_count": null,
   "id": "10b6be86",
   "metadata": {},
   "outputs": [],
   "source": [
    "# x1 = 3, x2 = 4 에서의 기울기(벡터)\n",
    "numerical_gradient(function_2, np.array([3.0, 4.0]))"
   ]
  },
  {
   "cell_type": "code",
   "execution_count": null,
   "id": "db8274b5",
   "metadata": {},
   "outputs": [],
   "source": [
    "# x1 = 0, x2 = 2 에서의 기울기(벡터)\n",
    "numerical_gradient(function_2, np.array([0.0, 2.0]))"
   ]
  },
  {
   "cell_type": "code",
   "execution_count": null,
   "id": "3751449c",
   "metadata": {},
   "outputs": [],
   "source": [
    "# x1 = 3, x2 = 0 에서의 기울기(벡터)\n",
    "numerical_gradient(function_2, np.array([3.0, 0.0]))"
   ]
  },
  {
   "cell_type": "markdown",
   "id": "eda19d3c",
   "metadata": {},
   "source": [
    "- 다변수 함수 기울기(벡터)\n",
    "<img src=\"./images/fig_4-9.png\" width=\"400\"/>"
   ]
  },
  {
   "cell_type": "markdown",
   "id": "64ca781b",
   "metadata": {},
   "source": [
    "# 3 경사 하강법 - Gradient descent"
   ]
  },
  {
   "cell_type": "markdown",
   "id": "6de3f9bb",
   "metadata": {},
   "source": [
    "- 경사 하강법 수식\n",
    "- $\\eta$: 학습율(learning rate)\n",
    "<img src=\"./images/e_4.7.png\" width=\"200\"/>"
   ]
  },
  {
   "cell_type": "code",
   "execution_count": null,
   "id": "288b7fd5",
   "metadata": {},
   "outputs": [],
   "source": [
    "# 경사 하강법 코드 구현\n",
    "\n",
    "def gradient_descent(f, init_x, lr=0.01, step_num=100):\n",
    "    x = init_x\n",
    "\n",
    "    for i in range(step_num):\n",
    "        grad = numerical_gradient(f, x)\n",
    "        x -= lr * grad\n",
    "\n",
    "    return x"
   ]
  },
  {
   "cell_type": "markdown",
   "id": "26f049b5",
   "metadata": {},
   "source": [
    "### 3.1 경사 하강법 활용 - 최소값 구하기"
   ]
  },
  {
   "cell_type": "markdown",
   "id": "a8454b59",
   "metadata": {},
   "source": [
    "- 함수 정의\n",
    "<img src=\"./images/e_4.6.png\" width=\"200\"/>"
   ]
  },
  {
   "cell_type": "code",
   "execution_count": null,
   "id": "ed587741",
   "metadata": {},
   "outputs": [],
   "source": [
    "# 함수 코드 구현\n",
    "def function_2(x):\n",
    "    return x[0]**2 + x[1]**2"
   ]
  },
  {
   "cell_type": "code",
   "execution_count": null,
   "id": "78b31020",
   "metadata": {},
   "outputs": [],
   "source": [
    "# x1 = 0, x2 = 0 일 때 최소값\n",
    "\n",
    "init_x = np.array([-3.0, 4.0])    \n",
    "\n",
    "gradient_descent(function_2, init_x=init_x, lr=0.1, step_num=100)"
   ]
  },
  {
   "cell_type": "markdown",
   "id": "64b3d4ad",
   "metadata": {},
   "source": [
    "- 경사 하강법에 의한 최소값 갱신 과정: 점선은 등고선\n",
    "<img src=\"./images/fig_4-10.png\" width=\"400\"/>"
   ]
  },
  {
   "cell_type": "markdown",
   "id": "ba4c5281",
   "metadata": {},
   "source": [
    "#### 잘못된 학습률 지정"
   ]
  },
  {
   "cell_type": "code",
   "execution_count": null,
   "id": "d61c423e",
   "metadata": {},
   "outputs": [],
   "source": [
    "# 학습률이 너무 큰 예 lr=10 0: 발산\n",
    "init_x = np.array([-3.0, 4.0])\n",
    "gradient_descent(function_2, init_x=init_x, lr=10.0, step_num=100)"
   ]
  },
  {
   "cell_type": "code",
   "execution_count": null,
   "id": "4514a796",
   "metadata": {},
   "outputs": [],
   "source": [
    "# 학습률이 너무 작은 예 lr=1e-10\n",
    "init_x = np.array([-3.0, 4.0])\n",
    "gradient_descent(function_2, init_x=init_x, lr=1e-10, step_num=100)"
   ]
  },
  {
   "cell_type": "markdown",
   "id": "9ee9621d",
   "metadata": {},
   "source": [
    "### 3.2 신경망의 기울기"
   ]
  },
  {
   "cell_type": "markdown",
   "id": "7527acbc",
   "metadata": {},
   "source": [
    "<img src=\"./images/e_4.8.png\" width=\"300\"/>"
   ]
  },
  {
   "cell_type": "markdown",
   "id": "deac973d",
   "metadata": {},
   "source": [
    "#### 3.2.1 신경망의 기울기 구하는 코드 구현"
   ]
  },
  {
   "cell_type": "code",
   "execution_count": null,
   "id": "2cd4f3a6",
   "metadata": {},
   "outputs": [],
   "source": [
    "from common.functions import softmax, cross_entropy_error\n",
    "from common.gradient import numerical_gradient\n",
    "\n",
    "class simpleNet:\n",
    "    def __init__(self):\n",
    "        self.W = np.random.randn(2,3) # 정규분포로 초기화\n",
    "\n",
    "    def predict(self, x):\n",
    "        return np.dot(x, self.W)\n",
    "\n",
    "    def loss(self, x, t):\n",
    "        z = self.predict(x)\n",
    "        y = softmax(z)\n",
    "        loss = cross_entropy_error(y, t)\n",
    "\n",
    "        return loss"
   ]
  },
  {
   "cell_type": "markdown",
   "id": "dfd2966d",
   "metadata": {},
   "source": [
    "#### 3.2.2 주어진 w(초기값) 에서 loss function의 기울기 구하기"
   ]
  },
  {
   "cell_type": "code",
   "execution_count": null,
   "id": "c6ddbdd2",
   "metadata": {},
   "outputs": [],
   "source": [
    "x = np.array([0.6, 0.9])\n",
    "t = np.array([0, 0, 1])\n",
    "\n",
    "net = simpleNet()\n",
    "\n",
    "f = lambda w: net.loss(x, t)\n",
    "dW = numerical_gradient(f, net.W)\n",
    "\n",
    "print(dW)"
   ]
  },
  {
   "cell_type": "markdown",
   "id": "d784e68b",
   "metadata": {},
   "source": [
    "# 4 신경망 학습 구현"
   ]
  },
  {
   "cell_type": "markdown",
   "id": "026fa709",
   "metadata": {},
   "source": [
    "### 4.1 신경망(2층) 클래스 구현"
   ]
  },
  {
   "cell_type": "code",
   "execution_count": null,
   "id": "8a2bddb5",
   "metadata": {},
   "outputs": [],
   "source": [
    "from common.functions import *\n",
    "from common.gradient import numerical_gradient\n",
    "\n",
    "class TwoLayerNet:\n",
    "\n",
    "    def __init__(self, input_size, hidden_size, output_size, weight_init_std=0.01):\n",
    "        # 가중치 초기화\n",
    "        self.params = {}\n",
    "        self.params['W1'] = weight_init_std * np.random.randn(input_size, hidden_size)\n",
    "        self.params['b1'] = np.zeros(hidden_size)\n",
    "        self.params['W2'] = weight_init_std * np.random.randn(hidden_size, output_size)\n",
    "        self.params['b2'] = np.zeros(output_size)\n",
    "\n",
    "    def predict(self, x):\n",
    "        W1, W2 = self.params['W1'], self.params['W2']\n",
    "        b1, b2 = self.params['b1'], self.params['b2']\n",
    "    \n",
    "        a1 = np.dot(x, W1) + b1\n",
    "        z1 = sigmoid(a1)\n",
    "        a2 = np.dot(z1, W2) + b2\n",
    "        y = softmax(a2)\n",
    "        \n",
    "        return y\n",
    "        \n",
    "    # x : 입력 데이터, t : 정답 레이블\n",
    "    def loss(self, x, t):\n",
    "        y = self.predict(x)\n",
    "        \n",
    "        return cross_entropy_error(y, t)\n",
    "    \n",
    "    def accuracy(self, x, t):\n",
    "        y = self.predict(x)\n",
    "        y = np.argmax(y, axis=1)\n",
    "        t = np.argmax(t, axis=1)\n",
    "        \n",
    "        accuracy = np.sum(y == t) / float(x.shape[0])\n",
    "        return accuracy\n",
    "        \n",
    "    # x : 입력 데이터, t : 정답 레이블\n",
    "    def numerical_gradient(self, x, t):\n",
    "        loss_W = lambda W: self.loss(x, t)\n",
    "        \n",
    "        grads = {}\n",
    "        grads['W1'] = numerical_gradient(loss_W, self.params['W1'])\n",
    "        grads['b1'] = numerical_gradient(loss_W, self.params['b1'])\n",
    "        grads['W2'] = numerical_gradient(loss_W, self.params['W2'])\n",
    "        grads['b2'] = numerical_gradient(loss_W, self.params['b2'])\n",
    "        \n",
    "        return grads\n",
    "        \n",
    "    # 오차 역전파 이용\n",
    "    def gradient(self, x, t):\n",
    "        W1, W2 = self.params['W1'], self.params['W2']\n",
    "        b1, b2 = self.params['b1'], self.params['b2']\n",
    "        grads = {}\n",
    "        \n",
    "        batch_num = x.shape[0]\n",
    "        \n",
    "        # forward\n",
    "        a1 = np.dot(x, W1) + b1\n",
    "        z1 = sigmoid(a1)\n",
    "        a2 = np.dot(z1, W2) + b2\n",
    "        y = softmax(a2)\n",
    "        \n",
    "        # backward\n",
    "        dy = (y - t) / batch_num\n",
    "        grads['W2'] = np.dot(z1.T, dy)\n",
    "        grads['b2'] = np.sum(dy, axis=0)\n",
    "        \n",
    "        da1 = np.dot(dy, W2.T)\n",
    "        dz1 = sigmoid_grad(a1) * da1\n",
    "        grads['W1'] = np.dot(x.T, dz1)\n",
    "        grads['b1'] = np.sum(dz1, axis=0)\n",
    "\n",
    "        return grads"
   ]
  },
  {
   "cell_type": "markdown",
   "id": "c27763b8",
   "metadata": {},
   "source": [
    "### 4.2 미니배치 학습 적용"
   ]
  },
  {
   "cell_type": "code",
   "execution_count": null,
   "id": "4ba5cea0",
   "metadata": {},
   "outputs": [],
   "source": [
    "%%time\n",
    "from dataset.mnist import load_mnist\n",
    "\n",
    "# 데이터 읽기\n",
    "(x_train, t_train), (x_test, t_test) = load_mnist(normalize=True, one_hot_label=True)\n",
    "\n",
    "# 하이퍼파라미터\n",
    "iters_num = 10000  # 반복 횟수를 적절히 설정한다.\n",
    "train_size = x_train.shape[0]\n",
    "batch_size = 100   # 미니배치 크기\n",
    "learning_rate = 0.1\n",
    "\n",
    "train_loss_list = []\n",
    "\n",
    "network = TwoLayerNet(input_size=784, hidden_size=50, output_size=10)\n",
    "\n",
    "for i in range(iters_num):\n",
    "    # 미니배치 획득\n",
    "    batch_mask = np.random.choice(train_size, batch_size)\n",
    "    x_batch = x_train[batch_mask]\n",
    "    t_batch = t_train[batch_mask]\n",
    "    \n",
    "    # 기울기 계산\n",
    "    #grad = network.numerical_gradient(x_batch, t_batch)\n",
    "    # 오차 역전파 사용: 학습 시간 차이\n",
    "    grad = network.gradient(x_batch, t_batch)\n",
    "    \n",
    "    # 매개변수 갱신\n",
    "    for key in ('W1', 'b1', 'W2', 'b2'):\n",
    "        network.params[key] -= learning_rate * grad[key]\n",
    "    \n",
    "    # 학습 경과 기록\n",
    "    loss = network.loss(x_batch, t_batch)\n",
    "    train_loss_list.append(loss)"
   ]
  },
  {
   "cell_type": "code",
   "execution_count": null,
   "id": "25f2480c",
   "metadata": {},
   "outputs": [],
   "source": [
    "plt.plot(train_loss_list)\n",
    "plt.title('손실 함수 값의 추이 (iter:10,000)')\n",
    "plt.xlabel('iteration')\n",
    "plt.ylabel('loss')\n",
    "plt.show()"
   ]
  },
  {
   "cell_type": "code",
   "execution_count": null,
   "id": "a2772898",
   "metadata": {},
   "outputs": [],
   "source": [
    "plt.plot(train_loss_list[:1000])\n",
    "plt.title('손실 함수 값의 추이 (iter:1,000)')\n",
    "plt.xlabel('iteration')\n",
    "plt.ylabel('loss')\n",
    "plt.show()"
   ]
  },
  {
   "cell_type": "markdown",
   "id": "6b8f7503",
   "metadata": {},
   "source": [
    "### 4.3 성능 테스트"
   ]
  },
  {
   "cell_type": "code",
   "execution_count": null,
   "id": "9d9b25ee",
   "metadata": {},
   "outputs": [],
   "source": [
    "%%time\n",
    "from dataset.mnist import load_mnist\n",
    "\n",
    "# 데이터 읽기\n",
    "(x_train, t_train), (x_test, t_test) = load_mnist(normalize=True, one_hot_label=True)\n",
    "\n",
    "# 하이퍼파라미터\n",
    "iters_num = 10000  # 반복 횟수를 적절히 설정한다.\n",
    "train_size = x_train.shape[0]\n",
    "batch_size = 100   # 미니배치 크기\n",
    "learning_rate = 0.1\n",
    "\n",
    "train_loss_list = []\n",
    "train_acc_list = []\n",
    "test_acc_list = []\n",
    "\n",
    "# 1에폭당 반복 수\n",
    "iter_per_epoch = max(train_size / batch_size, 1)\n",
    "\n",
    "# 네트워크 생성\n",
    "network = TwoLayerNet(input_size=784, hidden_size=50, output_size=10)\n",
    "\n",
    "for i in range(iters_num):\n",
    "    # 미니배치 획득\n",
    "    batch_mask = np.random.choice(train_size, batch_size)\n",
    "    x_batch = x_train[batch_mask]\n",
    "    t_batch = t_train[batch_mask]\n",
    "    \n",
    "    # 기울기 계산\n",
    "    #grad = network.numerical_gradient(x_batch, t_batch)\n",
    "    # 오차 역전파 사용: 학습 시간 차이\n",
    "    grad = network.gradient(x_batch, t_batch)\n",
    "    \n",
    "    # 매개변수 갱신\n",
    "    for key in ('W1', 'b1', 'W2', 'b2'):\n",
    "        network.params[key] -= learning_rate * grad[key]\n",
    "    \n",
    "    # 학습 경과 기록\n",
    "    loss = network.loss(x_batch, t_batch)\n",
    "    train_loss_list.append(loss)\n",
    "    \n",
    "    # 1에폭당 정확도 계산\n",
    "    if i % iter_per_epoch == 0:\n",
    "        train_acc = network.accuracy(x_train, t_train)\n",
    "        test_acc = network.accuracy(x_test, t_test)\n",
    "        train_acc_list.append(train_acc)\n",
    "        test_acc_list.append(test_acc)\n",
    "        print(f'<{int(i//iter_per_epoch):03}> train acc: {train_acc:.3f}, test acc: {test_acc:.3f}')"
   ]
  },
  {
   "cell_type": "code",
   "execution_count": null,
   "id": "4468caa3",
   "metadata": {},
   "outputs": [],
   "source": [
    "# 그래프 그리기\n",
    "markers = {'train': 'o', 'test': 's'}\n",
    "x = np.arange(len(train_acc_list))\n",
    "plt.plot(x, train_acc_list, label='train acc')\n",
    "plt.plot(x, test_acc_list, label='test acc', linestyle='--')\n",
    "plt.xlabel(\"epochs\")\n",
    "plt.ylabel(\"accuracy\")\n",
    "plt.ylim(0, 1.0)\n",
    "plt.legend(loc='lower right')\n",
    "plt.show()"
   ]
  },
  {
   "cell_type": "markdown",
   "id": "f46fba2a",
   "metadata": {},
   "source": [
    "# 정리"
   ]
  },
  {
   "cell_type": "markdown",
   "id": "5daf8f53",
   "metadata": {},
   "source": [
    "- 기계학습에서 사용하는 데이터셋은 훈련 데이터와 시험 데이터로 나눠 사용한다.\n",
    "- 훈련 데이터로 학습한모델의 범용능력을 시험 데이터로 평가한다.\n",
    "- 신경망 학습은 손실 함수를 지표로, 손실 함수의 값이 작아지는 방항으로 가중치 매개변수를 갱신한다.\n",
    "- 가중치 매개변수를 갱신할 때는 가중치 매개변수의 기울기를 이용하고, 기울어진 방향으로 가중치의 값을 갱신히는 작업을 반복한다.\n",
    "- 아주 작은 값을 주었을 때의 차분으로 미분하는 것을 수치 미분이라고 한다.\n",
    "- 수치 미분을 이용해 가중치 매개변수의 기울기를 구할수 있다.\n",
    "- 수치 미분을 이용한 계산에는 시간이 걸리지만, 그 구현은 간단하다.\n",
    "- 오차역전파법은 복잡하지만 기울기를 고속으로 구할수 있다."
   ]
  },
  {
   "cell_type": "code",
   "execution_count": null,
   "id": "fd942b0b",
   "metadata": {},
   "outputs": [],
   "source": []
  },
  {
   "cell_type": "markdown",
   "id": "f076fa13",
   "metadata": {},
   "source": [
    "---"
   ]
  },
  {
   "cell_type": "code",
   "execution_count": null,
   "id": "810a4484",
   "metadata": {},
   "outputs": [],
   "source": [
    "# End of file"
   ]
  },
  {
   "cell_type": "code",
   "execution_count": null,
   "id": "85afea49",
   "metadata": {},
   "outputs": [],
   "source": []
  }
 ],
 "metadata": {
  "kernelspec": {
   "display_name": "Python 3 (ipykernel)",
   "language": "python",
   "name": "python3"
  },
  "language_info": {
   "codemirror_mode": {
    "name": "ipython",
    "version": 3
   },
   "file_extension": ".py",
   "mimetype": "text/x-python",
   "name": "python",
   "nbconvert_exporter": "python",
   "pygments_lexer": "ipython3",
   "version": "3.9.7"
  },
  "vp": {
   "vp_config_version": "1.0.0",
   "vp_menu_width": 273,
   "vp_note_display": true,
   "vp_note_width": 263,
   "vp_position": {
    "width": 541
   },
   "vp_section_display": false,
   "vp_signature": "VisualPython"
  }
 },
 "nbformat": 4,
 "nbformat_minor": 5
}
