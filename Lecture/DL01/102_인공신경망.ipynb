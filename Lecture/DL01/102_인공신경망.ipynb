{
 "cells": [
  {
   "cell_type": "markdown",
   "id": "be8459af",
   "metadata": {},
   "source": [
    "# 신경망 - Neural network"
   ]
  },
  {
   "cell_type": "markdown",
   "id": "5259daff",
   "metadata": {},
   "source": [
    "- [Neural network](http://matrix.skku.ac.kr/math4ai-intro/W13/)"
   ]
  },
  {
   "cell_type": "markdown",
   "id": "c0c93566",
   "metadata": {},
   "source": [
    "---"
   ]
  },
  {
   "cell_type": "code",
   "execution_count": null,
   "id": "f758a8dd",
   "metadata": {},
   "outputs": [],
   "source": [
    "import numpy as np\n",
    "import pandas as pd\n",
    "import matplotlib.pyplot as plt\n",
    "import seaborn as sns\n",
    "\n",
    "plt.rc('figure', figsize=(10, 6))\n",
    "\n",
    "from matplotlib import rcParams\n",
    "rcParams['font.family'] = 'New Gulim'\n",
    "rcParams['font.size'] = 10\n",
    "rcParams['axes.unicode_minus'] = False"
   ]
  },
  {
   "cell_type": "markdown",
   "id": "01f3855a",
   "metadata": {},
   "source": [
    "# 1 퍼셉트론과 신경망"
   ]
  },
  {
   "cell_type": "markdown",
   "id": "e0abdba7",
   "metadata": {},
   "source": [
    "### 1.1 신경망"
   ]
  },
  {
   "cell_type": "markdown",
   "id": "66568f9b",
   "metadata": {},
   "source": [
    "- 신경망의 예\n",
    "<img src=\"./images/fig_3-1.png\" width=\"300\"/>"
   ]
  },
  {
   "cell_type": "markdown",
   "id": "1e856b16",
   "metadata": {},
   "source": [
    "### 1.2 퍼셉트론 복습"
   ]
  },
  {
   "cell_type": "markdown",
   "id": "c626780b",
   "metadata": {},
   "source": [
    "- 퍼셉트론\n",
    "<img src=\"./images/fig_3-2.png\" width=\"200\"/>"
   ]
  },
  {
   "cell_type": "markdown",
   "id": "31370813",
   "metadata": {},
   "source": [
    "- 퍼셉트론 수식\n",
    "<img src=\"./images/e_3.1.png\" width=\"300\"/>"
   ]
  },
  {
   "cell_type": "markdown",
   "id": "c06823ab",
   "metadata": {},
   "source": [
    "- 편향을 명시한 퍼셉트론\n",
    "<img src=\"./images/fig_3-3.png\" width=\"200\"/>"
   ]
  },
  {
   "cell_type": "markdown",
   "id": "52d83554",
   "metadata": {},
   "source": [
    "- 퍼셉트론의 활성화 함수 - 계단 함수(step function)\n",
    "<img src=\"./images/e_3.2.png\" width=\"300\"/>\n",
    "<img src=\"./images/e_3.3.png\" width=\"200\"/>"
   ]
  },
  {
   "cell_type": "markdown",
   "id": "a5ebac86",
   "metadata": {},
   "source": [
    "### 1.3 활성화 함수 표현"
   ]
  },
  {
   "cell_type": "markdown",
   "id": "abfa96f9",
   "metadata": {},
   "source": [
    "- 활성화 함수 표현\n",
    "<img src=\"./images/e_3.4.png\" width=\"250\"/>\n",
    "<img src=\"./images/e_3.5.png\" width=\"150\"/>"
   ]
  },
  {
   "cell_type": "markdown",
   "id": "2f1ddf0a",
   "metadata": {},
   "source": [
    "- 활성화 함수 처리 과정\n",
    "<img src=\"./images/fig_3-4.png\" width=\"250\"/>"
   ]
  },
  {
   "cell_type": "markdown",
   "id": "7bc70927",
   "metadata": {},
   "source": [
    "- 활성화 함수 처리 과정을 명시한 뉴런 (a()는 입력 신호의 총합, h()는 활성화 함수, y는 출력)\n",
    "<img src=\"./images/fig_3-5.png\" width=\"500\"/>"
   ]
  },
  {
   "cell_type": "markdown",
   "id": "0439fc8b",
   "metadata": {},
   "source": [
    "# 2 활성화 함수 - Activation function"
   ]
  },
  {
   "cell_type": "markdown",
   "id": "ed6f97d7",
   "metadata": {},
   "source": [
    "### 2.1 계단 함수 - Step function"
   ]
  },
  {
   "cell_type": "markdown",
   "id": "ec1ad03e",
   "metadata": {},
   "source": [
    "#### 2.1.1 계단 함수 구현"
   ]
  },
  {
   "cell_type": "code",
   "execution_count": null,
   "id": "26fce39a",
   "metadata": {},
   "outputs": [],
   "source": [
    "def step_function(x):\n",
    "    if x > 0:\n",
    "        return 1\n",
    "    else:\n",
    "        return 0"
   ]
  },
  {
   "cell_type": "code",
   "execution_count": null,
   "id": "bb613eaa",
   "metadata": {},
   "outputs": [],
   "source": [
    "print('입력:  5, 출력:', step_function( 5))\n",
    "print('입력: -5, 출력:', step_function(-5))"
   ]
  },
  {
   "cell_type": "markdown",
   "id": "b3b2ffa3",
   "metadata": {},
   "source": [
    "#### 2.1.2 계단 함수: 배열 처리 기능 추가"
   ]
  },
  {
   "cell_type": "code",
   "execution_count": null,
   "id": "b74a1cef",
   "metadata": {},
   "outputs": [],
   "source": [
    "def step_function(x):\n",
    "    return np.array(x > 0, dtype=np.int32)"
   ]
  },
  {
   "cell_type": "code",
   "execution_count": null,
   "id": "0e8f067f",
   "metadata": {},
   "outputs": [],
   "source": [
    "print('입력:  5, 출력:', step_function( 5))\n",
    "print('입력: -5, 출력:', step_function(-5))"
   ]
  },
  {
   "cell_type": "code",
   "execution_count": null,
   "id": "ec9b20e1",
   "metadata": {},
   "outputs": [],
   "source": [
    "# 배열 처리\n",
    "x =  np.array([-1, 1, 2, -2, 3])\n",
    "\n",
    "print('입력:', x )\n",
    "print('출력:', step_function(x))"
   ]
  },
  {
   "cell_type": "markdown",
   "id": "6833c135",
   "metadata": {},
   "source": [
    "#### 2.1.3 계단 함수 그래프"
   ]
  },
  {
   "cell_type": "code",
   "execution_count": null,
   "id": "cc279e4e",
   "metadata": {},
   "outputs": [],
   "source": [
    "X = np.arange(-5.0, 5.0, 0.1)\n",
    "Y = step_function(X)\n",
    "\n",
    "plt.plot(X, Y)\n",
    "plt.ylim(-0.1, 1.1)  # y축의 범위 지정\n",
    "plt.show()"
   ]
  },
  {
   "cell_type": "markdown",
   "id": "e832cc05",
   "metadata": {},
   "source": [
    "### 2.2 시그모이드 함수 - Sigmoid function"
   ]
  },
  {
   "cell_type": "markdown",
   "id": "72854c2a",
   "metadata": {},
   "source": [
    "- 시그모이드 함수 수식\n",
    "<img src=\"./images/e_3.6.png\" width=\"250\"/>"
   ]
  },
  {
   "cell_type": "markdown",
   "id": "2b77b1a8",
   "metadata": {},
   "source": [
    "#### 2.2.1 시그모이드 함수 구현"
   ]
  },
  {
   "cell_type": "code",
   "execution_count": null,
   "id": "7f94d725",
   "metadata": {},
   "outputs": [],
   "source": [
    "def sigmoid(x):\n",
    "    return 1 / (1 + np.exp(-x))    "
   ]
  },
  {
   "cell_type": "code",
   "execution_count": null,
   "id": "ee8243e9",
   "metadata": {},
   "outputs": [],
   "source": [
    "# 배열 처리\n",
    "x =  np.array([-100, -1, 0, 1, 100])\n",
    "\n",
    "print('입력:', x )\n",
    "print('출력:', np.round(sigmoid(x), 1))"
   ]
  },
  {
   "cell_type": "markdown",
   "id": "67c9b2e4",
   "metadata": {},
   "source": [
    "#### 2.2.2 시그모이드 함수 그래프"
   ]
  },
  {
   "cell_type": "code",
   "execution_count": null,
   "id": "eb9243a7",
   "metadata": {},
   "outputs": [],
   "source": [
    "X = np.arange(-5.0, 5.0, 0.1)\n",
    "Y = sigmoid(X)\n",
    "\n",
    "plt.plot(X, Y)\n",
    "plt.ylim(-0.1, 1.1)  # y축의 범위 지정\n",
    "plt.show()"
   ]
  },
  {
   "cell_type": "markdown",
   "id": "f459f9e3",
   "metadata": {},
   "source": [
    "#### 2.2.3 시그모이드 함수와 계단 함수 비교\n",
    "- 신경망에서 비선형 함수(활성화 함수)의 역할 - 합성 함수"
   ]
  },
  {
   "cell_type": "code",
   "execution_count": null,
   "id": "830d4eaa",
   "metadata": {},
   "outputs": [],
   "source": [
    "X = np.arange(-5.0, 5.0, 0.1)\n",
    "Y1 = sigmoid(X)\n",
    "Y2 = step_function(X)\n",
    "\n",
    "plt.plot(X, Y1)\n",
    "plt.plot(X, Y2, 'k--')\n",
    "plt.ylim(-0.1, 1.1) # y축 범위 지정\n",
    "plt.show()"
   ]
  },
  {
   "cell_type": "markdown",
   "id": "01ddb5d4",
   "metadata": {},
   "source": [
    "### 2.3 ReLU 함수 - Rectified Linear Unit"
   ]
  },
  {
   "cell_type": "markdown",
   "id": "54b2ae57",
   "metadata": {},
   "source": [
    "- ReLU 함수 수식\n",
    "<img src=\"./images/e_3.7.png\" width=\"200\"/>"
   ]
  },
  {
   "cell_type": "markdown",
   "id": "07dc253c",
   "metadata": {},
   "source": [
    "#### 2.3.1 ReLU 함수 구현"
   ]
  },
  {
   "cell_type": "code",
   "execution_count": null,
   "id": "97ccbcf6",
   "metadata": {},
   "outputs": [],
   "source": [
    "def relu(x):\n",
    "    return np.maximum(0, x)"
   ]
  },
  {
   "cell_type": "code",
   "execution_count": null,
   "id": "09e91c7c",
   "metadata": {},
   "outputs": [],
   "source": [
    "# 배열 처리\n",
    "x =  np.array([-100, -1, 0, 1, 100])\n",
    "\n",
    "print('입력:', x )\n",
    "print('출력:', relu(x))"
   ]
  },
  {
   "cell_type": "markdown",
   "id": "001c71f1",
   "metadata": {},
   "source": [
    "#### 2.3.2 ReLU 함수 그래프"
   ]
  },
  {
   "cell_type": "code",
   "execution_count": null,
   "id": "503be503",
   "metadata": {},
   "outputs": [],
   "source": [
    "X = np.arange(-5.0, 5.0, 0.1)\n",
    "Y = relu(X)\n",
    "\n",
    "plt.plot(X, Y)\n",
    "plt.ylim(-0.1, 1.1)  # y축의 범위 지정\n",
    "plt.show()"
   ]
  },
  {
   "cell_type": "markdown",
   "id": "a2495910",
   "metadata": {},
   "source": [
    "# 3 다차원 배열 계산"
   ]
  },
  {
   "cell_type": "markdown",
   "id": "1d516164",
   "metadata": {},
   "source": [
    "### 3.1 행렬의 곱"
   ]
  },
  {
   "cell_type": "markdown",
   "id": "fe89e1ee",
   "metadata": {},
   "source": [
    "- 행렬: 2차원 배열\n",
    "<img src=\"./images/fig_3-10.png\" width=\"200\"/>"
   ]
  },
  {
   "cell_type": "markdown",
   "id": "9221e1c8",
   "metadata": {},
   "source": [
    "- 행렬의 곱\n",
    "<img src=\"./images/fig_3-11.png\" width=\"400\"/>"
   ]
  },
  {
   "cell_type": "code",
   "execution_count": null,
   "id": "6fcc254a",
   "metadata": {},
   "outputs": [],
   "source": [
    "A = np.array([[1, 2], [3, 4]])\n",
    "B = np.array([[5, 6], [7, 8]])"
   ]
  },
  {
   "cell_type": "code",
   "execution_count": null,
   "id": "dc02a3b5",
   "metadata": {},
   "outputs": [],
   "source": [
    "# 행렬의 곱\n",
    "np.dot(A, B)\n",
    "#A @ B"
   ]
  },
  {
   "cell_type": "markdown",
   "id": "5fd93aac",
   "metadata": {},
   "source": [
    "- 행렬의 곱: 차원의 원소 수 일치\n",
    "<img src=\"./images/fig_3-12.png\" width=\"400\"/>"
   ]
  },
  {
   "cell_type": "code",
   "execution_count": null,
   "id": "f5b35adf",
   "metadata": {},
   "outputs": [],
   "source": [
    "A = np.array([[1, 2, 3], [4, 5, 6]])\n",
    "B = np.array([[1, 2], [3, 4], [5, 6]])\n",
    "C = np.array([[1, 2], [3, 4]])"
   ]
  },
  {
   "cell_type": "code",
   "execution_count": null,
   "id": "abf5bbad",
   "metadata": {},
   "outputs": [],
   "source": [
    "# 행렬의 곱\n",
    "np.dot(A, B)"
   ]
  },
  {
   "cell_type": "code",
   "execution_count": null,
   "id": "4666619a",
   "metadata": {},
   "outputs": [],
   "source": [
    "# 행렬의 곱: 에러\n",
    "#np.dot(A, C)"
   ]
  },
  {
   "cell_type": "markdown",
   "id": "588c8c17",
   "metadata": {},
   "source": [
    "- 행렬의 곱: 2차원 X 1차원\n",
    "<img src=\"./images/fig_3-13.png\" width=\"400\"/>"
   ]
  },
  {
   "cell_type": "code",
   "execution_count": null,
   "id": "462ebb0f",
   "metadata": {},
   "outputs": [],
   "source": [
    "A = np.array([[1, 2], [3, 4], [5, 6]])\n",
    "B = np.array([7, 8])"
   ]
  },
  {
   "cell_type": "code",
   "execution_count": null,
   "id": "811fe56b",
   "metadata": {},
   "outputs": [],
   "source": [
    "# 행렬의 곱\n",
    "np.dot(A, B)"
   ]
  },
  {
   "cell_type": "markdown",
   "id": "ac45ddb1",
   "metadata": {},
   "source": [
    "### 3.2 신경망에서의 행렬 곱"
   ]
  },
  {
   "cell_type": "markdown",
   "id": "dbe4ce4b",
   "metadata": {},
   "source": [
    "- 신경망 행렬의 곱\n",
    "<img src=\"./images/fig_3-14.png\" width=\"500\"/>"
   ]
  },
  {
   "cell_type": "code",
   "execution_count": null,
   "id": "97819987",
   "metadata": {},
   "outputs": [],
   "source": [
    "X = np.array([1, 2])\n",
    "W = np.array([[1, 3, 5], [2, 4, 6]])"
   ]
  },
  {
   "cell_type": "code",
   "execution_count": null,
   "id": "8666f1af",
   "metadata": {},
   "outputs": [],
   "source": [
    "Y = np.dot(X, W)\n",
    "Y"
   ]
  },
  {
   "cell_type": "markdown",
   "id": "8e6575e2",
   "metadata": {},
   "source": [
    "# 4 3층 신경망 구현"
   ]
  },
  {
   "cell_type": "markdown",
   "id": "c6e703c0",
   "metadata": {},
   "source": [
    "- 3층 신경망: 입력층(O층)은 2개, 첫 번째 은닉층(1층)은 3개, 두 번째 은닉층(2층)은 2개, 출력층(3층)은 2개의 뉴런으로구성\n",
    "<img src=\"./images/fig_3-15.png\" width=\"500\"/>"
   ]
  },
  {
   "cell_type": "markdown",
   "id": "cdb94620",
   "metadata": {},
   "source": [
    "- 신경망 표기법\n",
    "<img src=\"./images/fig_3-16.png\" width=\"500\"/>"
   ]
  },
  {
   "cell_type": "markdown",
   "id": "f8bffba1",
   "metadata": {},
   "source": [
    "### 4.1 각 층의 신호 전달"
   ]
  },
  {
   "cell_type": "markdown",
   "id": "69f5e768",
   "metadata": {},
   "source": [
    "#### 4.1.1 입력층에서 1층으로 신호 전달"
   ]
  },
  {
   "cell_type": "markdown",
   "id": "45c8cc04",
   "metadata": {},
   "source": [
    "- 입력층에서 1층으로 신호 전달\n",
    "<img src=\"./images/fig_3-17.png\" width=\"500\"/>"
   ]
  },
  {
   "cell_type": "markdown",
   "id": "274cf36e",
   "metadata": {},
   "source": [
    "- 입력층에서 1층으로 신호 전달 - 수식\n",
    "<img src=\"./images/e_3.8.png\" width=\"300\"/>"
   ]
  },
  {
   "cell_type": "markdown",
   "id": "dcb8d9ca",
   "metadata": {},
   "source": [
    "- 입력층에서 1층으로 신호 전달 - 수식(행렬곱 표현)\n",
    "<img src=\"./images/e_3.9.png\" width=\"300\"/>"
   ]
  },
  {
   "cell_type": "markdown",
   "id": "4fb1f806",
   "metadata": {},
   "source": [
    "- 입력층에서 1층으로 신호 전달 - 행렬 A, X, W, B\n",
    "<img src=\"./images/e_3.9-1.png\" width=\"500\"/>"
   ]
  },
  {
   "cell_type": "code",
   "execution_count": null,
   "id": "97e11e14",
   "metadata": {},
   "outputs": [],
   "source": [
    "# 입력층에서 1층으로 신호 전달 - 코드 구현\n",
    "X  = np.array([1.0, 0.5])\n",
    "W1 = np.array([[0.1, 0.3, 0.5], [0.2, 0.4, 0.6]])\n",
    "B1 = np.array([0.1, 0.2, 0.3])\n",
    "\n",
    "print(W1.shape)  # (2, 3)\n",
    "print(X.shape)   # (2,)\n",
    "print(B1 .shape) # (3,)\n",
    "\n",
    "A1 = np.dot(X, W1) + B1\n",
    "A1"
   ]
  },
  {
   "cell_type": "markdown",
   "id": "a2df1e07",
   "metadata": {},
   "source": [
    "- 입력층에서 1층으로 신호 전달 - 활성화 함수 처리\n",
    "<img src=\"./images/fig_3-18.png\" width=\"500\"/>"
   ]
  },
  {
   "cell_type": "code",
   "execution_count": null,
   "id": "a3469669",
   "metadata": {},
   "outputs": [],
   "source": [
    "# 입력층에서 1층으로 신호 전달 - 활성화 함수 코드 구현\n",
    "Z1 = sigmoid(A1)\n",
    "\n",
    "print(A1) # [0.3 0.7 1.1]\n",
    "print(Z1) # [0.57444252 0.66818777 0.75026011]"
   ]
  },
  {
   "cell_type": "markdown",
   "id": "7403b4d9",
   "metadata": {},
   "source": [
    "#### 4.1.2 1층에서 2층으로 신호 전달"
   ]
  },
  {
   "cell_type": "markdown",
   "id": "7542dff2",
   "metadata": {},
   "source": [
    "- 1층에서 2층으로 신호 전달\n",
    "<img src=\"./images/fig_3-19.png\" width=\"500\"/>"
   ]
  },
  {
   "cell_type": "code",
   "execution_count": null,
   "id": "d64f3a55",
   "metadata": {},
   "outputs": [],
   "source": [
    "# 1층에서 2층으로 신호 전달 - 코드 구현\n",
    "W2 = np.array([[0.1, 0.4], [0.2, 0.5], [0.3, 0.6]])\n",
    "B2 = np.array([0.1, 0.2])\n",
    "\n",
    "print(Z1.shape)  # (3,)\n",
    "print(W2.shape)  # (3, 2)\n",
    "print(B2 .shape) # (2,)\n",
    "\n",
    "A2 = np.dot(Z1, W2) + B2\n",
    "Z2 = sigmoid(A2)\n",
    "Z2"
   ]
  },
  {
   "cell_type": "markdown",
   "id": "81134647",
   "metadata": {},
   "source": [
    "#### 4.1.3 2층에서 출력층으로 신호 전달"
   ]
  },
  {
   "cell_type": "markdown",
   "id": "0b816876",
   "metadata": {},
   "source": [
    "- 2층에서 출력층으로 신호 전달\n",
    "<img src=\"./images/fig_3-20.png\" width=\"500\"/>"
   ]
  },
  {
   "cell_type": "code",
   "execution_count": null,
   "id": "af600d69",
   "metadata": {},
   "outputs": [],
   "source": [
    "# 2층에서 출력층으로 신호 전달 - 코드 구현\n",
    "def identity_function(x):\n",
    "    return x\n",
    "    \n",
    "W3 = np.array([[0.1, 0.3], [0.2, 0.4]])\n",
    "B3 = np.array([0.1, 0.2])\n",
    "\n",
    "A3 = np.dot(Z2, W3) + B3\n",
    "Y  = identity_function(A3)\n",
    "Y"
   ]
  },
  {
   "cell_type": "markdown",
   "id": "a62e203f",
   "metadata": {},
   "source": [
    "### 4.2 3층 신경망 코드 구현 정리"
   ]
  },
  {
   "cell_type": "markdown",
   "id": "924990f0",
   "metadata": {},
   "source": [
    "#### 4.2.1 함수 정의"
   ]
  },
  {
   "cell_type": "code",
   "execution_count": null,
   "id": "d71d0559",
   "metadata": {},
   "outputs": [],
   "source": [
    "def identity_function(x):\n",
    "    return x\n",
    "\n",
    "def init_network():\n",
    "    network = {}\n",
    "    network['W1'] = np.array([[0.1, 0.3, 0.5],[0.2, 0.4, 0.6]])\n",
    "    network['b1'] = np.array([0.1, 0.2, 0.3])\n",
    "    network['W2'] = np.array([[0.1, 0.4],[0.2, 0.5],[0.3, 0.6]])\n",
    "    network['b2'] = np.array([0.1, 0.2])\n",
    "    network['W3'] = np.array([[0.1, 0.3],[0.2, 0.4]])\n",
    "    network['b3'] = np.array([0.1, 0.2])\n",
    "    \n",
    "    return network\n",
    "    \n",
    "def forward(network, x):\n",
    "    W1, W2, W3 = network['W1'], network['W2'], network['W3']\n",
    "    b1, b2, b3 = network['b1'], network['b2'], network['b3']\n",
    "    \n",
    "    a1 = np.dot(x, W1) + b1\n",
    "    z1 = sigmoid(a1)\n",
    "    \n",
    "    a2 = np.dot(z1, W2) + b2\n",
    "    z2 = sigmoid(a2)\n",
    "    \n",
    "    a3 = np.dot(z2, W3) + b3\n",
    "    y  = identity_function(a3)\n",
    "    \n",
    "    return y\n",
    "    "
   ]
  },
  {
   "cell_type": "markdown",
   "id": "147ccb38",
   "metadata": {},
   "source": [
    "#### 4.2.2 네트워크 실행"
   ]
  },
  {
   "cell_type": "code",
   "execution_count": null,
   "id": "d0ae72b9",
   "metadata": {},
   "outputs": [],
   "source": [
    "network = init_network()\n",
    "x = np.array([1.0, 0.5])\n",
    "y = forward(network, x)\n",
    "\n",
    "# [0.31682708 0.69627909]\n",
    "print(y)"
   ]
  },
  {
   "cell_type": "markdown",
   "id": "27a7af3f",
   "metadata": {},
   "source": [
    "# 5 출력층 설계"
   ]
  },
  {
   "cell_type": "markdown",
   "id": "b2dff1ee",
   "metadata": {},
   "source": [
    "### 5.1 출력층의 활성화 함수\n",
    "- 회귀: 항등 함수\n",
    "- 분류: 소프트맥스 함수"
   ]
  },
  {
   "cell_type": "markdown",
   "id": "68fd3656",
   "metadata": {},
   "source": [
    "#### 5.1.1 항등 함수 - identity function"
   ]
  },
  {
   "cell_type": "markdown",
   "id": "10dc3fb7",
   "metadata": {},
   "source": [
    "- 항등 함수(identity function)\n",
    "<img src=\"./images/fig_3-21.png\" width=\"150\"/>"
   ]
  },
  {
   "cell_type": "markdown",
   "id": "429f5886",
   "metadata": {},
   "source": [
    "#### 5.1.2 소프트맥스 함수 - softmax function\n",
    "- *계산 비용 감소를 위해 추론시 소프트맥수 함수 생략 가능*"
   ]
  },
  {
   "cell_type": "markdown",
   "id": "a8627b49",
   "metadata": {},
   "source": [
    "- 소프트맥스 함수(softmax function)\n",
    "<img src=\"./images/fig_3-22.png\" width=\"150\"/>"
   ]
  },
  {
   "cell_type": "markdown",
   "id": "fe8cfc4b",
   "metadata": {},
   "source": [
    "- 소프트맥스 함수(softmax function) - 수식\n",
    "<img src=\"./images/e_3.10.png\" width=\"200\"/>"
   ]
  },
  {
   "cell_type": "code",
   "execution_count": null,
   "id": "a725f6ce",
   "metadata": {},
   "outputs": [],
   "source": [
    "# 소프트맥스 함수(softmax function) - 코드 구현\n",
    "def softmax(a):\n",
    "    exp_a = np.exp(a)\n",
    "    sum_exp_a = np.sum(exp_a)\n",
    "    y = exp_a / sum_exp_a\n",
    "    \n",
    "    return y"
   ]
  },
  {
   "cell_type": "code",
   "execution_count": null,
   "id": "bdf8393a",
   "metadata": {},
   "outputs": [],
   "source": [
    "a = np.array([0.3, 2.9, 4.0])\n",
    "y = softmax(a)\n",
    "print(y)"
   ]
  },
  {
   "cell_type": "markdown",
   "id": "080ab7a1",
   "metadata": {},
   "source": [
    "#### 5.1.3 소프트맥스 함수 개선\n",
    "- overflow 문제"
   ]
  },
  {
   "cell_type": "code",
   "execution_count": null,
   "id": "e0d62e59",
   "metadata": {},
   "outputs": [],
   "source": [
    "a = np.array([1010, 1000, 990])\n",
    "y = softmax(a)\n",
    "print(y)"
   ]
  },
  {
   "cell_type": "markdown",
   "id": "5423222f",
   "metadata": {},
   "source": [
    "- 소프트맥스 함수(softmax function) - 수식 개선\n",
    "- C': 입력값의 최대값을 이용\n",
    "<img src=\"./images/e_3.11.png\" width=\"300\"/>"
   ]
  },
  {
   "cell_type": "code",
   "execution_count": null,
   "id": "05c2cb2b",
   "metadata": {},
   "outputs": [],
   "source": [
    "# 소프트맥스 함수 개선 - 코드 구현 \n",
    "def softmax(a):\n",
    "    c = np.max(a)\n",
    "    exp_a = np.exp(a - c) # overflow 방지\n",
    "    sum_exp_a = np.sum(exp_a)\n",
    "    y = exp_a / sum_exp_a\n",
    "    \n",
    "    return y"
   ]
  },
  {
   "cell_type": "code",
   "execution_count": null,
   "id": "991eb1f9",
   "metadata": {},
   "outputs": [],
   "source": [
    "a = np.array([1010, 1000, 990])\n",
    "y = softmax(a)\n",
    "print(y)"
   ]
  },
  {
   "cell_type": "code",
   "execution_count": null,
   "id": "11948cf0",
   "metadata": {},
   "outputs": [],
   "source": [
    "np.sum(y)"
   ]
  },
  {
   "cell_type": "markdown",
   "id": "3286259a",
   "metadata": {},
   "source": [
    "### 5.2 출력층의 뉴런 수\n",
    "- 회귀: 1개\n",
    "- 분류: 분류 문제의 클래스 수"
   ]
  },
  {
   "cell_type": "markdown",
   "id": "d0a75fe2",
   "metadata": {},
   "source": [
    "- 출력층의 뉴런은 각 클래스에 대응\n",
    "<img src=\"./images/fig_3-23.png\" width=\"500\"/>"
   ]
  },
  {
   "cell_type": "markdown",
   "id": "94e49ad4",
   "metadata": {},
   "source": [
    "# 6 손글씨 숫자 인식 - MNIST\n",
    "- 추론 과정만 구현: 학습된 매개변수(w, b) 사용\n",
    "- 추론 과정: 순전파(forward propagation)"
   ]
  },
  {
   "cell_type": "markdown",
   "id": "d7e6b758",
   "metadata": {},
   "source": [
    "### 6.1 Load Dataset - MNIST"
   ]
  },
  {
   "cell_type": "markdown",
   "id": "45f8912b",
   "metadata": {},
   "source": [
    "- MNIST 이미지 데이터셋\n",
    "<img src=\"./images/fig_3-24.png\" width=\"400\"/>"
   ]
  },
  {
   "cell_type": "code",
   "execution_count": null,
   "id": "ae96ced1",
   "metadata": {},
   "outputs": [],
   "source": [
    "# Load MNIST\n",
    "from dataset.mnist import load_mnist\n",
    "\n",
    "(x_train, t_train), (x_test, t_test) = load_mnist(normalize=False, flatten=True)\n",
    "\n",
    "print(x_train.shape)\n",
    "print(t_train.shape)\n",
    "print(x_test.shape)\n",
    "print(t_test.shape)"
   ]
  },
  {
   "cell_type": "code",
   "execution_count": null,
   "id": "7d606fb0",
   "metadata": {},
   "outputs": [],
   "source": [
    "# Display MNIST\n",
    "from dataset.mnist import load_mnist\n",
    "\n",
    "(x_train, t_train), (x_test, t_test) = load_mnist(normalize=False, flatten=True)\n",
    "\n",
    "img = x_train[0]\n",
    "label = t_train[0]\n",
    "print('Label: ',label)\n",
    "\n",
    "img_2d = img.reshape(28, 28)  # 형상을 원래 이미지의 크기로 변형\n",
    "plt.imshow(img_2d)\n",
    "plt.show()"
   ]
  },
  {
   "cell_type": "markdown",
   "id": "e2ec7450",
   "metadata": {},
   "source": [
    "### 6.2 신경망 추론\n",
    "- 학습된 매개변수(w, b) 사용"
   ]
  },
  {
   "cell_type": "code",
   "execution_count": null,
   "id": "e1415ad6",
   "metadata": {},
   "outputs": [],
   "source": [
    "# 함수 정의\n",
    "\n",
    "import pickle\n",
    "from dataset.mnist import load_mnist\n",
    "from common.functions import sigmoid, softmax\n",
    "\n",
    "def get_data():\n",
    "    (x_train, t_train), (x_test, t_test) = load_mnist(normalize=True, flatten=True, one_hot_label=False)\n",
    "    return x_test, t_test\n",
    "\n",
    "def init_network():\n",
    "    with open('data/sample_weight.pkl', 'rb') as f:\n",
    "        network = pickle.load(f)\n",
    "    return network\n",
    "\n",
    "def predict(network, x):\n",
    "    W1, W2, W3 = network['W1'], network['W2'], network['W3']\n",
    "    b1, b2, b3 = network['b1'], network['b2'], network['b3']\n",
    "\n",
    "    a1 = np.dot(x, W1) + b1\n",
    "    z1 = sigmoid(a1)\n",
    "    a2 = np.dot(z1, W2) + b2\n",
    "    z2 = sigmoid(a2)\n",
    "    a3 = np.dot(z2, W3) + b3\n",
    "    y = softmax(a3)\n",
    "\n",
    "    return y"
   ]
  },
  {
   "cell_type": "markdown",
   "id": "7d4337c5",
   "metadata": {},
   "source": [
    "#### 6.2.1 신경망 추론 실행"
   ]
  },
  {
   "cell_type": "markdown",
   "id": "114b0e7f",
   "metadata": {},
   "source": [
    "- 신경망 각 층의 배열 형상\n",
    "<img src=\"./images/fig_3-26.png\" width=\"500\"/>"
   ]
  },
  {
   "cell_type": "code",
   "execution_count": null,
   "id": "06d498c1",
   "metadata": {},
   "outputs": [],
   "source": [
    "# 신경망 추론 실행\n",
    "x, t = get_data()\n",
    "network = init_network()\n",
    "accuracy_cnt = 0\n",
    "for i in range(len(x)):\n",
    "    y = predict(network, x[i])\n",
    "    p= np.argmax(y) # 확률이 가장 높은 원소의 인덱스를 얻는다.\n",
    "    if p == t[i]:\n",
    "        accuracy_cnt += 1\n",
    "\n",
    "print('Accuracy:' + str(float(accuracy_cnt) / len(x)))"
   ]
  },
  {
   "cell_type": "markdown",
   "id": "50429ff0",
   "metadata": {},
   "source": [
    "#### 6.2.2 신경망 추론 실행 - 배치 처리"
   ]
  },
  {
   "cell_type": "markdown",
   "id": "41f40c47",
   "metadata": {},
   "source": [
    "- 신경망 각 층의 배열 형상 - 배치 처리\n",
    "<img src=\"./images/fig_3-27.png\" width=\"500\"/>"
   ]
  },
  {
   "cell_type": "code",
   "execution_count": null,
   "id": "11a7c7ed",
   "metadata": {},
   "outputs": [],
   "source": [
    "# 신경망 추론 실행 - 배치 처리\n",
    "x, t = get_data()\n",
    "network = init_network()\n",
    "\n",
    "batch_size = 100\n",
    "accuracy_cnt = 0\n",
    "\n",
    "for i in range(0, len(x), batch_size):\n",
    "    x_batch = x[i:i+batch_size]\n",
    "    y_batch = predict(network, x_batch)\n",
    "    p = np.argmax(y_batch, axis=1)\n",
    "    accuracy_cnt += np.sum(p == t[i:i+batch_size])\n",
    "\n",
    "print(\"Accuracy:\" + str(float(accuracy_cnt) / len(x)))"
   ]
  },
  {
   "cell_type": "markdown",
   "id": "f46fba2a",
   "metadata": {},
   "source": [
    "# 정리"
   ]
  },
  {
   "cell_type": "markdown",
   "id": "5daf8f53",
   "metadata": {},
   "source": [
    "- 신경망에서는 활성화 함수로 시그모이드 함수와 ReLU 함수 같은 매끄럽게 변화하는 함수를 이용한다.\n",
    "- 넘파이의 다차원 배열을 잘 사용하면 신경망을 효율적으로 구현할 수 있다.\n",
    "- 기계학습 문제는 크게 회귀와 분류로 나눌 수 있다.\n",
    "- 출력층의 활성화 함수로는 회귀에서는주로 항등 함수를, 분류에서는 주로 소프트맥스 함수를 이용한다.\n",
    "- 분류에서는 출력층의 뉴런 수를 분류하려는클래스 수와 같게 설정한다.\n",
    "- 입력 데이터를 묶은 것을 배치라 하며, 추론 처리를 이 배치 단위로 진행하면 결괴를 훨씬 빠르게 얻을 수 있다."
   ]
  },
  {
   "cell_type": "code",
   "execution_count": null,
   "id": "fd942b0b",
   "metadata": {},
   "outputs": [],
   "source": []
  },
  {
   "cell_type": "markdown",
   "id": "f076fa13",
   "metadata": {},
   "source": [
    "---"
   ]
  },
  {
   "cell_type": "code",
   "execution_count": null,
   "id": "810a4484",
   "metadata": {},
   "outputs": [],
   "source": [
    "# End of file"
   ]
  },
  {
   "cell_type": "code",
   "execution_count": null,
   "id": "85afea49",
   "metadata": {},
   "outputs": [],
   "source": []
  }
 ],
 "metadata": {
  "kernelspec": {
   "display_name": "Python 3 (ipykernel)",
   "language": "python",
   "name": "python3"
  },
  "language_info": {
   "codemirror_mode": {
    "name": "ipython",
    "version": 3
   },
   "file_extension": ".py",
   "mimetype": "text/x-python",
   "name": "python",
   "nbconvert_exporter": "python",
   "pygments_lexer": "ipython3",
   "version": "3.9.7"
  },
  "vp": {
   "vp_config_version": "1.0.0",
   "vp_menu_width": 273,
   "vp_note_display": true,
   "vp_note_width": 263,
   "vp_position": {
    "width": 541
   },
   "vp_section_display": false,
   "vp_signature": "VisualPython"
  }
 },
 "nbformat": 4,
 "nbformat_minor": 5
}
