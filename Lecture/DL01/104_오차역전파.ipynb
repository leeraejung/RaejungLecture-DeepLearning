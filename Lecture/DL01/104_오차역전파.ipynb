{
 "cells": [
  {
   "cell_type": "markdown",
   "id": "be8459af",
   "metadata": {},
   "source": [
    "# 오차 역전파 - Backpropagation\n",
    "[Backpropagation](https://wikidocs.net/37406)"
   ]
  },
  {
   "cell_type": "markdown",
   "id": "c0c93566",
   "metadata": {},
   "source": [
    "---"
   ]
  },
  {
   "cell_type": "code",
   "execution_count": null,
   "id": "f758a8dd",
   "metadata": {},
   "outputs": [],
   "source": [
    "import numpy as np\n",
    "import pandas as pd\n",
    "import matplotlib.pyplot as plt\n",
    "import seaborn as sns\n",
    "\n",
    "plt.rc('figure', figsize=(10, 6))\n",
    "\n",
    "from matplotlib import rcParams\n",
    "rcParams['font.family'] = 'New Gulim'\n",
    "rcParams['font.size'] = 10\n",
    "rcParams['axes.unicode_minus'] = False"
   ]
  },
  {
   "cell_type": "markdown",
   "id": "01f3855a",
   "metadata": {},
   "source": [
    "# 1 계산 그래프 - Computational graph\n",
    "- 노드(node)\n",
    "- 에지(edge)"
   ]
  },
  {
   "cell_type": "markdown",
   "id": "e0abdba7",
   "metadata": {},
   "source": [
    "### 1.1 계산 그래프 예제"
   ]
  },
  {
   "cell_type": "markdown",
   "id": "bdc0a652",
   "metadata": {},
   "source": [
    "#### 문제1) 1개에 100원인 사과를 2개 샀다. 단 소비세는 10%이다."
   ]
  },
  {
   "cell_type": "markdown",
   "id": "66568f9b",
   "metadata": {},
   "source": [
    "- 계산 그래프 적용\n",
    "<img src=\"./images/fig_5-1.png\" width=\"500\"/>"
   ]
  },
  {
   "cell_type": "markdown",
   "id": "2accd355",
   "metadata": {},
   "source": [
    "- 사과의 개수와 소비세를 변수로 설정\n",
    "<img src=\"./images/fig_5-2.png\" width=\"500\"/>"
   ]
  },
  {
   "cell_type": "markdown",
   "id": "72cfcf60",
   "metadata": {},
   "source": [
    "#### 문제2) 1개에 100원인 사과를 2개, 1개에 150원인 귤 3개를 샀다. 단 소비세는 10%이다."
   ]
  },
  {
   "cell_type": "markdown",
   "id": "e6eb8350",
   "metadata": {},
   "source": [
    "- 계산 그래프 적용\n",
    "<img src=\"./images/fig_5-3.png\" width=\"500\"/>"
   ]
  },
  {
   "cell_type": "markdown",
   "id": "5790caf9",
   "metadata": {},
   "source": [
    "### 1.2 계산 그래프의 특징"
   ]
  },
  {
   "cell_type": "markdown",
   "id": "93e61dae",
   "metadata": {},
   "source": [
    "- 중간 계산 결과 보관 가능"
   ]
  },
  {
   "cell_type": "markdown",
   "id": "c01ca31f",
   "metadata": {},
   "source": [
    "- 국소적 계산\n",
    "<img src=\"./images/fig_5-4.png\" width=\"500\"/>"
   ]
  },
  {
   "cell_type": "markdown",
   "id": "fd279023",
   "metadata": {},
   "source": [
    "- 역전파에 의한 미분 값의 전달(미분을 효율적으로 계산)\n",
    "<img src=\"./images/fig_5-5.png\" width=\"500\"/>"
   ]
  },
  {
   "cell_type": "markdown",
   "id": "c8247952",
   "metadata": {},
   "source": [
    "# 2 연쇄법칙 - Chain rule"
   ]
  },
  {
   "cell_type": "markdown",
   "id": "13148533",
   "metadata": {},
   "source": [
    "### 2.1 계산 그래프의 역전파"
   ]
  },
  {
   "cell_type": "markdown",
   "id": "7d0b7f5a",
   "metadata": {},
   "source": [
    "- $y = f(x)$\n",
    "<img src=\"./images/fig_5-6.png\" width=\"300\"/>"
   ]
  },
  {
   "cell_type": "markdown",
   "id": "524568cd",
   "metadata": {},
   "source": [
    "### 2.2 합성 함수의 미분"
   ]
  },
  {
   "cell_type": "markdown",
   "id": "0f9ffcf9",
   "metadata": {},
   "source": [
    "- $z = (x + y)^2$"
   ]
  },
  {
   "cell_type": "markdown",
   "id": "3dfe8fd6",
   "metadata": {},
   "source": [
    "- 합성 함수의 분해 - 치환\n",
    "<img src=\"./images/e_5.1.png\" width=\"100\"/>"
   ]
  },
  {
   "cell_type": "markdown",
   "id": "8a1e2cb8",
   "metadata": {},
   "source": [
    "- 연쇄법칙(Chain rule) 적용\n",
    "<img src=\"./images/e_5.2.png\" width=\"150\"/>"
   ]
  },
  {
   "cell_type": "markdown",
   "id": "b41e4a89",
   "metadata": {},
   "source": [
    "- 각 함수 미분\n",
    "<img src=\"./images/e_5.3.png\" width=\"100\"/>"
   ]
  },
  {
   "cell_type": "markdown",
   "id": "9e0e75c1",
   "metadata": {},
   "source": [
    "- 합성 함수 미분 계산 - 치환 변수 환원( $t = x + y$ )\n",
    "<img src=\"./images/e_5.4.png\" width=\"300\"/>"
   ]
  },
  {
   "cell_type": "markdown",
   "id": "8c156db7",
   "metadata": {},
   "source": [
    "### 2.3 연쇄법칙과 계산 그래프"
   ]
  },
  {
   "cell_type": "markdown",
   "id": "8e04c60f",
   "metadata": {},
   "source": [
    "- 연쇄법칙을 계산 그래프에 적용\n",
    "<img src=\"./images/fig_5-7.png\" width=\"400\"/>"
   ]
  },
  {
   "cell_type": "markdown",
   "id": "6e935bdd",
   "metadata": {},
   "source": [
    "- 연쇄법칙과 계산 그래프를 통해 합성 함수의 미분 구현\n",
    "- $z = (x + y)^2$\n",
    "<img src=\"./images/fig_5-8.png\" width=\"400\"/>"
   ]
  },
  {
   "cell_type": "markdown",
   "id": "49ad7243",
   "metadata": {},
   "source": [
    "# 3 역전파"
   ]
  },
  {
   "cell_type": "markdown",
   "id": "140ffda0",
   "metadata": {},
   "source": [
    "### 3.1 덧셈 노드의 역전파"
   ]
  },
  {
   "cell_type": "markdown",
   "id": "32d1387e",
   "metadata": {},
   "source": [
    "- 국소적 계산\n",
    "<img src=\"./images/fig_5-10.png\" width=\"500\"/>"
   ]
  },
  {
   "cell_type": "markdown",
   "id": "0daef521",
   "metadata": {},
   "source": [
    "#### 3.2.1 덧셈 노드의 역전파 구현"
   ]
  },
  {
   "cell_type": "markdown",
   "id": "966a09a4",
   "metadata": {},
   "source": [
    "- 함수\n",
    "$$z = x + y$$"
   ]
  },
  {
   "cell_type": "markdown",
   "id": "d2cc087f",
   "metadata": {},
   "source": [
    "- 함수의 편미분\n",
    "<img src=\"./images/e_5.5.png\" width=\"70\"/>"
   ]
  },
  {
   "cell_type": "markdown",
   "id": "33902450",
   "metadata": {},
   "source": [
    "- 덧셈 노드의 순전파와 역전파: *덧셈 노드의 역전파는 입력값을 그대로 흘려 보낸다.*\n",
    "<img src=\"./images/fig_5-9.png\" width=\"500\"/>"
   ]
  },
  {
   "cell_type": "markdown",
   "id": "ea465f92",
   "metadata": {},
   "source": [
    "- 덧셈 노드의 구체적인 예\n",
    "<img src=\"./images/fig_5-11.png\" width=\"500\"/>"
   ]
  },
  {
   "cell_type": "markdown",
   "id": "b189bc57",
   "metadata": {},
   "source": [
    "### 3.2 곱셈 노드의 역전파"
   ]
  },
  {
   "cell_type": "markdown",
   "id": "4b483ef8",
   "metadata": {},
   "source": [
    "- 함수\n",
    "$$z = xy$$"
   ]
  },
  {
   "cell_type": "markdown",
   "id": "86b207a9",
   "metadata": {},
   "source": [
    "- 함수의 편미분\n",
    "<img src=\"./images/e_5.6.png\" width=\"70\"/>"
   ]
  },
  {
   "cell_type": "markdown",
   "id": "730ea26b",
   "metadata": {},
   "source": [
    "- 곱셈 노드의 순전파와 역전파: *곱셈 노드의 역전파는 입력값을 서로 바꾸고 곱해서 흘려 보낸다.*\n",
    "<img src=\"./images/fig_5-12.png\" width=\"500\"/>"
   ]
  },
  {
   "cell_type": "markdown",
   "id": "c33a1a98",
   "metadata": {},
   "source": [
    "- 곱셈 노드의 구체적인 예\n",
    "<img src=\"./images/fig_5-13.png\" width=\"500\"/>"
   ]
  },
  {
   "cell_type": "markdown",
   "id": "e7a7620a",
   "metadata": {},
   "source": [
    "### 3.3 사과 쇼핑의 예"
   ]
  },
  {
   "cell_type": "markdown",
   "id": "434f030e",
   "metadata": {},
   "source": [
    "- 사과 쇼핑의 역전파 예\n",
    "<img src=\"./images/fig_5-14.png\" width=\"500\"/>"
   ]
  },
  {
   "cell_type": "markdown",
   "id": "f15b6c1d",
   "metadata": {},
   "source": [
    "- 사과와 귤 쇼핑의 역전파 예 - 문제\n",
    "<img src=\"./images/fig_5-15.png\" width=\"500\"/>"
   ]
  },
  {
   "cell_type": "markdown",
   "id": "d1a08b3c",
   "metadata": {},
   "source": [
    "- 사과와 귤 쇼핑의 역전파 예 - 정답\n",
    "<img src=\"./images/fig_5-17.png\" width=\"500\"/>"
   ]
  },
  {
   "cell_type": "markdown",
   "id": "2ce34df4",
   "metadata": {},
   "source": [
    "# 4 연산 계층 코드 구현\n",
    "- AddLayer\n",
    "- MulLayer"
   ]
  },
  {
   "cell_type": "markdown",
   "id": "ff3a8434",
   "metadata": {},
   "source": [
    "### 4.1 덧셈 계층 코드 구현"
   ]
  },
  {
   "cell_type": "code",
   "execution_count": null,
   "id": "647112c7",
   "metadata": {},
   "outputs": [],
   "source": [
    "class AddLayer:\n",
    "    def __init__(self):\n",
    "        pass\n",
    "\n",
    "    def forward(self, x, y):\n",
    "        out = x + y\n",
    "        return out\n",
    "\n",
    "    def backward(self, dout):\n",
    "        dx = dout * 1\n",
    "        dy = dout * 1\n",
    "        return dx, dy"
   ]
  },
  {
   "cell_type": "markdown",
   "id": "c72a4fd2",
   "metadata": {},
   "source": [
    "### 4.2 곱셈 계층 코드 구현"
   ]
  },
  {
   "cell_type": "code",
   "execution_count": null,
   "id": "9257d39e",
   "metadata": {},
   "outputs": [],
   "source": [
    "class MulLayer:\n",
    "    def __init__(self):\n",
    "        self.x = None\n",
    "        self.y = None\n",
    "\n",
    "    def forward(self, x, y):\n",
    "        self.x = x\n",
    "        self.y = y                \n",
    "        out = x * y\n",
    "        return out\n",
    "\n",
    "    def backward(self, dout):\n",
    "        dx = dout * self.y  # x와 y를 바꾼다.\n",
    "        dy = dout * self.x\n",
    "        return dx, dy"
   ]
  },
  {
   "cell_type": "markdown",
   "id": "11dc0a24",
   "metadata": {},
   "source": [
    "### 4.3 사과 쇼핑 계층 실행"
   ]
  },
  {
   "cell_type": "markdown",
   "id": "98cddd4b",
   "metadata": {},
   "source": [
    "- 사과 2개 구입\n",
    "<img src=\"./images/fig_5-16.png\" width=\"500\"/>"
   ]
  },
  {
   "cell_type": "code",
   "execution_count": null,
   "id": "19ee9751",
   "metadata": {},
   "outputs": [],
   "source": [
    "# 입력값 설정\n",
    "apple = 100\n",
    "apple_num = 2\n",
    "\n",
    "tax = 1.1"
   ]
  },
  {
   "cell_type": "code",
   "execution_count": null,
   "id": "cf4148c3",
   "metadata": {},
   "outputs": [],
   "source": [
    "# 곱셈 계층 생성\n",
    "mul_apple_layer = MulLayer()\n",
    "mul_tax_layer   = MulLayer()"
   ]
  },
  {
   "cell_type": "code",
   "execution_count": null,
   "id": "38f186b7",
   "metadata": {},
   "outputs": [],
   "source": [
    "# forward\n",
    "apple_price = mul_apple_layer.forward(apple, apple_num)\n",
    "price       = mul_tax_layer.forward(apple_price, tax)"
   ]
  },
  {
   "cell_type": "code",
   "execution_count": null,
   "id": "c99c86e6",
   "metadata": {},
   "outputs": [],
   "source": [
    "# backward\n",
    "dprice = 1\n",
    "dapple_price, dtax = mul_tax_layer.backward(dprice)\n",
    "dapple, dapple_num = mul_apple_layer.backward(dapple_price)"
   ]
  },
  {
   "cell_type": "code",
   "execution_count": null,
   "id": "ad1d9195",
   "metadata": {},
   "outputs": [],
   "source": [
    "# 출력\n",
    "print('price:', int(price))\n",
    "print('dApple:', dapple)\n",
    "print('dApple_num:', int(dapple_num))\n",
    "print('dTax:', dtax)"
   ]
  },
  {
   "cell_type": "markdown",
   "id": "d35233d1",
   "metadata": {},
   "source": [
    "### 4.4 사과, 귤 쇼핑 계층 실행"
   ]
  },
  {
   "cell_type": "markdown",
   "id": "1352bf02",
   "metadata": {},
   "source": [
    "- 사과 2개, 귤 3개 구입\n",
    "<img src=\"./images/fig_5-17.png\" width=\"500\"/>"
   ]
  },
  {
   "cell_type": "code",
   "execution_count": null,
   "id": "494fd02f",
   "metadata": {},
   "outputs": [],
   "source": [
    "# 입력값 설정\n",
    "apple = 100\n",
    "apple_num = 2\n",
    "\n",
    "orange = 150\n",
    "orange_num = 3\n",
    "\n",
    "tax = 1.1"
   ]
  },
  {
   "cell_type": "code",
   "execution_count": null,
   "id": "fd286d82",
   "metadata": {},
   "outputs": [],
   "source": [
    "# 곱셈 계층, 덧셈 계층 생성\n",
    "mul_apple_layer  = MulLayer()\n",
    "mul_orange_layer = MulLayer()\n",
    "\n",
    "add_apple_orange_layer = AddLayer()\n",
    "\n",
    "mul_tax_layer = MulLayer()"
   ]
  },
  {
   "cell_type": "code",
   "execution_count": null,
   "id": "f2d0a463",
   "metadata": {},
   "outputs": [],
   "source": [
    "# forward\n",
    "apple_price  = mul_apple_layer.forward(apple, apple_num)               # (1)\n",
    "orange_price = mul_orange_layer.forward(orange, orange_num)            # (2)\n",
    "\n",
    "all_price = add_apple_orange_layer.forward(apple_price, orange_price)  # (3)\n",
    "price     = mul_tax_layer.forward(all_price, tax)                      # (4)"
   ]
  },
  {
   "cell_type": "code",
   "execution_count": null,
   "id": "d0905f07",
   "metadata": {},
   "outputs": [],
   "source": [
    "# backward\n",
    "dprice = 1\n",
    "dall_price, dtax = mul_tax_layer.backward(dprice)                          # (4)\n",
    "dapple_price, dorange_price = add_apple_orange_layer.backward(dall_price)  # (3)\n",
    "dorange, dorange_num = mul_orange_layer.backward(dorange_price)            # (2)\n",
    "dapple, dapple_num = mul_apple_layer.backward(dapple_price)                # (1)"
   ]
  },
  {
   "cell_type": "code",
   "execution_count": null,
   "id": "a663aed3",
   "metadata": {},
   "outputs": [],
   "source": [
    "# 출력\n",
    "print('price:', int(price))\n",
    "\n",
    "print('dApple:', dapple)\n",
    "print('dApple_num:', int(dapple_num))\n",
    "print('dOrange:', dorange)\n",
    "print('dOrange_num:', int(dorange_num))\n",
    "print('dTax:', dtax)"
   ]
  },
  {
   "cell_type": "markdown",
   "id": "1ef1eede",
   "metadata": {},
   "source": [
    "# 5 활성화 함수 계층 코드 구현\n",
    "- ReLU\n",
    "- Sigmoid"
   ]
  },
  {
   "cell_type": "markdown",
   "id": "20e66932",
   "metadata": {},
   "source": [
    "### 5.1 ReLU 계층 코드 구현"
   ]
  },
  {
   "cell_type": "markdown",
   "id": "a501dc0a",
   "metadata": {},
   "source": [
    "- ReLU 함수 수식\n",
    "<img src=\"./images/e_5.7.png\" width=\"150\"/>"
   ]
  },
  {
   "cell_type": "markdown",
   "id": "a117695f",
   "metadata": {},
   "source": [
    "- ReLU 함수 미분\n",
    "<img src=\"./images/e_5.8.png\" width=\"150\"/>"
   ]
  },
  {
   "cell_type": "markdown",
   "id": "781fe8f4",
   "metadata": {},
   "source": [
    "- ReLU 계층의 계산 그래프\n",
    "<img src=\"./images/fig_5-18.png\" width=\"500\"/>"
   ]
  },
  {
   "cell_type": "markdown",
   "id": "9cf770e3",
   "metadata": {},
   "source": [
    "#### ReLU 계층 코드 구현"
   ]
  },
  {
   "cell_type": "code",
   "execution_count": null,
   "id": "005ebd6a",
   "metadata": {},
   "outputs": [],
   "source": [
    "class Relu:\n",
    "    def __init__(self):\n",
    "        self.mask = None\n",
    "\n",
    "    def forward(self, x):\n",
    "        self.mask = (x <= 0)\n",
    "        out = x.copy()\n",
    "        out[self.mask] = 0\n",
    "        return out\n",
    "\n",
    "    def backward(self, dout):\n",
    "        dout[self.mask] = 0\n",
    "        dx = dout\n",
    "        return dx"
   ]
  },
  {
   "cell_type": "markdown",
   "id": "aa8638cf",
   "metadata": {},
   "source": [
    "#### <참고> mask 활용 예제"
   ]
  },
  {
   "cell_type": "code",
   "execution_count": null,
   "id": "a5e9ed73",
   "metadata": {},
   "outputs": [],
   "source": [
    "x = np.array([[1.0, -0.5], [-2.0, 3.0]])\n",
    "print(x)"
   ]
  },
  {
   "cell_type": "code",
   "execution_count": null,
   "id": "c617b9be",
   "metadata": {},
   "outputs": [],
   "source": [
    "mask = (x <= 0)\n",
    "print(mask)"
   ]
  },
  {
   "cell_type": "code",
   "execution_count": null,
   "id": "410c7350",
   "metadata": {},
   "outputs": [],
   "source": [
    "x[mask] = 0\n",
    "print(x)"
   ]
  },
  {
   "cell_type": "markdown",
   "id": "06e64fc5",
   "metadata": {},
   "source": [
    "### 5.2 Sigmoid 계층 코드 구현"
   ]
  },
  {
   "cell_type": "markdown",
   "id": "8a006048",
   "metadata": {},
   "source": [
    "- Sigmoid 함수 수식\n",
    "<img src=\"./images/e_5.9.png\" width=\"200\"/>"
   ]
  },
  {
   "cell_type": "markdown",
   "id": "b470adca",
   "metadata": {},
   "source": [
    "- Sigmoid 계층의 계산 그래프(순전파)\n",
    "<img src=\"./images/fig_5-19.png\" width=\"600\"/>"
   ]
  },
  {
   "cell_type": "markdown",
   "id": "2888efdd",
   "metadata": {},
   "source": [
    "- Sigmoid 계층의 계산 그래프(역전파)\n",
    "<img src=\"./images/fig_5-20.png\" width=\"600\"/>"
   ]
  },
  {
   "cell_type": "markdown",
   "id": "69230bc8",
   "metadata": {},
   "source": [
    "- Sigmoid 계층의 계산 그래프(간소화 버전)\n",
    "<img src=\"./images/fig_5-21.png\" width=\"300\"/>"
   ]
  },
  {
   "cell_type": "markdown",
   "id": "31df3124",
   "metadata": {},
   "source": [
    "- Sigmoid 함수 미분\n",
    "<img src=\"./images/e_5.12.png\" width=\"400\"/>"
   ]
  },
  {
   "cell_type": "markdown",
   "id": "88908045",
   "metadata": {},
   "source": [
    "- Sigmoid 계층의 계산 그래프: 순전파의 출력 y 만으로 계산 가능\n",
    "<img src=\"./images/fig_5-22.png\" width=\"300\"/>"
   ]
  },
  {
   "cell_type": "markdown",
   "id": "3d9b2458",
   "metadata": {},
   "source": [
    "#### Sigmoid 계층 코드 구현"
   ]
  },
  {
   "cell_type": "code",
   "execution_count": null,
   "id": "64f48ca0",
   "metadata": {},
   "outputs": [],
   "source": [
    "class Sigmoid:\n",
    "    def __init__(self):\n",
    "        self.out = None\n",
    "\n",
    "    def forward(self, x):\n",
    "        out = sigmoid(x)\n",
    "        self.out = out    # 순전파의 출력 보관 후 역전파때 사용\n",
    "        return out\n",
    "\n",
    "    def backward(self, dout):\n",
    "        dx = dout * (1.0 - self.out) * self.out\n",
    "        return dx"
   ]
  },
  {
   "cell_type": "markdown",
   "id": "1f282029",
   "metadata": {},
   "source": [
    "# 6 Affine/Softmax 계층 코드 구현"
   ]
  },
  {
   "cell_type": "markdown",
   "id": "b611b696",
   "metadata": {},
   "source": [
    "### 6.1 Affine 계층 코드 구현"
   ]
  },
  {
   "cell_type": "markdown",
   "id": "6a99f8a3",
   "metadata": {},
   "source": [
    "- Affine 계층의 계산 그래프(순전파): 변수가 행렬\n",
    "<img src=\"./images/fig_5-24.png\" width=\"300\"/>"
   ]
  },
  {
   "cell_type": "markdown",
   "id": "3258c011",
   "metadata": {},
   "source": [
    "- Affine 계층 미분\n",
    "<img src=\"./images/e_5.13.png\" width=\"150\"/>"
   ]
  },
  {
   "cell_type": "markdown",
   "id": "6e350127",
   "metadata": {},
   "source": [
    "- 행렬과 전치 행렬\n",
    "<img src=\"./images/e_5.14.png\" width=\"150\"/>"
   ]
  },
  {
   "cell_type": "markdown",
   "id": "50527b90",
   "metadata": {},
   "source": [
    "- Affine 계층의 계산 그래프(역전파): 변수가 행렬\n",
    "<img src=\"./images/fig_5-25.png\" width=\"500\"/>"
   ]
  },
  {
   "cell_type": "markdown",
   "id": "46f09d5c",
   "metadata": {},
   "source": [
    "- 변수의 형상\n",
    "<img src=\"./images/e_5.15.png\" width=\"300\"/>"
   ]
  },
  {
   "cell_type": "markdown",
   "id": "1dd2650d",
   "metadata": {},
   "source": [
    "- 배치용 Affine 계층의 계산 그래프\n",
    "<img src=\"./images/fig_5-27.png\" width=\"500\"/>"
   ]
  },
  {
   "cell_type": "markdown",
   "id": "9715faf5",
   "metadata": {},
   "source": [
    "#### Affine 계층 코드 구현"
   ]
  },
  {
   "cell_type": "code",
   "execution_count": null,
   "id": "f3572545",
   "metadata": {},
   "outputs": [],
   "source": [
    "class Affine:\n",
    "    def __init__(self, W, b):\n",
    "        self.W = W\n",
    "        self.b = b\n",
    "        self.x = None\n",
    "        self.dW = None\n",
    "        self.db = None\n",
    "\n",
    "    def forward(self, x):\n",
    "        self.x = x\n",
    "        out = np.dot(self.x, self.W) + self.b\n",
    "        return out\n",
    "\n",
    "    def backward(self, dout):\n",
    "        dx = np.dot(dout, self.W.T)\n",
    "        self.dW = np.dot(self.x.T, dout)\n",
    "        self.db = np.sum(dout, axis=0)\n",
    "        return dx"
   ]
  },
  {
   "cell_type": "markdown",
   "id": "3bc83e6c",
   "metadata": {},
   "source": [
    "### 6.2 Softmax 계층 코드 구현"
   ]
  },
  {
   "cell_type": "markdown",
   "id": "9a1978a6",
   "metadata": {},
   "source": [
    "- Softmax 계층의 출력\n",
    "<img src=\"./images/fig_5-28.png\" width=\"500\"/>"
   ]
  },
  {
   "cell_type": "markdown",
   "id": "85a6eb65",
   "metadata": {},
   "source": [
    "- Softmax-with-Loss 계층의 계산 그래프\n",
    "<img src=\"./images/fig_5-30.png\" width=\"400\"/>"
   ]
  },
  {
   "cell_type": "markdown",
   "id": "3afe3804",
   "metadata": {},
   "source": [
    "#### Softmax-with-Loss 계층 코드 구현"
   ]
  },
  {
   "cell_type": "code",
   "execution_count": null,
   "id": "c1d69aa8",
   "metadata": {},
   "outputs": [],
   "source": [
    "class SoftmaxWithLoss:\n",
    "    def __init__(self):\n",
    "        self.loss = None # 손실함수\n",
    "        self.y = None    # softmax의 출력\n",
    "        self.t = None    # 정답 레이블(원-핫 인코딩 형태)\n",
    "        \n",
    "    def forward(self, x, t):\n",
    "        self.t = t\n",
    "        self.y = softmax(x)\n",
    "        self.loss = cross_entropy_error(self.y, self.t)\n",
    "        return self.loss\n",
    "\n",
    "    def backward(self, dout=1):\n",
    "        batch_size = self.t.shape[0]\n",
    "        dx = (self.y - self.t) / batch_size\n",
    "        return dx"
   ]
  },
  {
   "cell_type": "markdown",
   "id": "91ca8ed1",
   "metadata": {},
   "source": [
    "# 7 오차 역전파 코드 구현"
   ]
  },
  {
   "cell_type": "markdown",
   "id": "6ce92d47",
   "metadata": {},
   "source": [
    "### 7.1 오차 역전파를 적용한 신경망 코드 구현"
   ]
  },
  {
   "cell_type": "code",
   "execution_count": null,
   "id": "4134a4d1",
   "metadata": {},
   "outputs": [],
   "source": [
    "from common.layers import *\n",
    "from common.gradient import numerical_gradient\n",
    "from collections import OrderedDict\n",
    "\n",
    "class TwoLayerNet:\n",
    "\n",
    "    def __init__(self, input_size, hidden_size, output_size, weight_init_std = 0.01):\n",
    "        # 가중치 초기화\n",
    "        self.params = {}\n",
    "        self.params['W1'] = weight_init_std * np.random.randn(input_size, hidden_size)\n",
    "        self.params['b1'] = np.zeros(hidden_size)\n",
    "        self.params['W2'] = weight_init_std * np.random.randn(hidden_size, output_size) \n",
    "        self.params['b2'] = np.zeros(output_size)\n",
    "\n",
    "        # 계층 생성\n",
    "        self.layers = OrderedDict()\n",
    "        self.layers['Affine1'] = Affine(self.params['W1'], self.params['b1'])\n",
    "        self.layers['Relu1'] = Relu()\n",
    "        self.layers['Affine2'] = Affine(self.params['W2'], self.params['b2'])\n",
    "\n",
    "        self.lastLayer = SoftmaxWithLoss()\n",
    "        \n",
    "    def predict(self, x):\n",
    "        for layer in self.layers.values():\n",
    "            x = layer.forward(x)\n",
    "        \n",
    "        return x\n",
    "        \n",
    "    # x : 입력 데이터, t : 정답 레이블\n",
    "    def loss(self, x, t):\n",
    "        y = self.predict(x)\n",
    "        return self.lastLayer.forward(y, t)\n",
    "    \n",
    "    def accuracy(self, x, t):\n",
    "        y = self.predict(x)\n",
    "        y = np.argmax(y, axis=1)\n",
    "        if t.ndim != 1 : t = np.argmax(t, axis=1)\n",
    "        \n",
    "        accuracy = np.sum(y == t) / float(x.shape[0])\n",
    "        return accuracy\n",
    "        \n",
    "    # x : 입력 데이터, t : 정답 레이블\n",
    "    def numerical_gradient(self, x, t):\n",
    "        loss_W = lambda W: self.loss(x, t)\n",
    "        \n",
    "        grads = {}\n",
    "        grads['W1'] = numerical_gradient(loss_W, self.params['W1'])\n",
    "        grads['b1'] = numerical_gradient(loss_W, self.params['b1'])\n",
    "        grads['W2'] = numerical_gradient(loss_W, self.params['W2'])\n",
    "        grads['b2'] = numerical_gradient(loss_W, self.params['b2'])\n",
    "        \n",
    "        return grads\n",
    "        \n",
    "    def gradient(self, x, t):\n",
    "        # forward\n",
    "        self.loss(x, t)\n",
    "\n",
    "        # backward\n",
    "        dout = 1\n",
    "        dout = self.lastLayer.backward(dout)\n",
    "        \n",
    "        layers = list(self.layers.values())\n",
    "        layers.reverse()\n",
    "        for layer in layers:\n",
    "            dout = layer.backward(dout)\n",
    "\n",
    "        # 결과 저장\n",
    "        grads = {}\n",
    "        grads['W1'], grads['b1'] = self.layers['Affine1'].dW, self.layers['Affine1'].db\n",
    "        grads['W2'], grads['b2'] = self.layers['Affine2'].dW, self.layers['Affine2'].db\n",
    "\n",
    "        return grads"
   ]
  },
  {
   "cell_type": "markdown",
   "id": "6a52f8c3",
   "metadata": {},
   "source": [
    "### 7.2 수치 미분 - 오차 역전파 기울기 비교"
   ]
  },
  {
   "cell_type": "code",
   "execution_count": null,
   "id": "1c478dee",
   "metadata": {},
   "outputs": [],
   "source": [
    "from dataset.mnist import load_mnist\n",
    "\n",
    "# 데이터 읽기\n",
    "(x_train, t_train), (x_test, t_test) = load_mnist(normalize=True, one_hot_label=True)"
   ]
  },
  {
   "cell_type": "code",
   "execution_count": null,
   "id": "1081eb49",
   "metadata": {},
   "outputs": [],
   "source": [
    "%time\n",
    "network = TwoLayerNet(input_size=784, hidden_size=50, output_size=10)\n",
    "\n",
    "x_batch = x_train[:3]\n",
    "t_batch = t_train[:3]\n",
    "\n",
    "# 수치 미분 사용\n",
    "grad_numerical = network.numerical_gradient(x_batch, t_batch)\n",
    "\n",
    "# 오차 역전파 사용\n",
    "grad_backprop  = network.gradient(x_batch, t_batch)"
   ]
  },
  {
   "cell_type": "code",
   "execution_count": null,
   "id": "4a6c1ccb",
   "metadata": {},
   "outputs": [],
   "source": [
    "# 각 가중치의 절대 오차의 평균을 구한다.\n",
    "for key in grad_numerical.keys():\n",
    "    diff = np.average( np.abs(grad_backprop[key] - grad_numerical[key]) )\n",
    "    print(key + ':' + str(diff))"
   ]
  },
  {
   "cell_type": "markdown",
   "id": "d96a7b4b",
   "metadata": {},
   "source": [
    "### 7.3 오차 역전파를 사용한 신경망 학습 코드 구현"
   ]
  },
  {
   "cell_type": "code",
   "execution_count": null,
   "id": "3c8701ca",
   "metadata": {},
   "outputs": [],
   "source": [
    "from dataset.mnist import load_mnist\n",
    "\n",
    "# 데이터 읽기\n",
    "(x_train, t_train), (x_test, t_test) = load_mnist(normalize=True, one_hot_label=True)"
   ]
  },
  {
   "cell_type": "code",
   "execution_count": null,
   "id": "322cfd2a",
   "metadata": {},
   "outputs": [],
   "source": [
    "# 입력값 설정\n",
    "iters_num = 10000\n",
    "train_size = x_train.shape[0]\n",
    "batch_size = 100\n",
    "learning_rate = 0.1"
   ]
  },
  {
   "cell_type": "code",
   "execution_count": null,
   "id": "7b190ed7",
   "metadata": {},
   "outputs": [],
   "source": [
    "%%time\n",
    "train_loss_list = []\n",
    "train_acc_list = []\n",
    "test_acc_list = []\n",
    "\n",
    "iter_per_epoch = max(train_size / batch_size, 1)\n",
    "\n",
    "# 네트워크 생성\n",
    "network = TwoLayerNet(input_size=784, hidden_size=50, output_size=10)\n",
    "\n",
    "for i in range(iters_num):\n",
    "    # 미니배치 획득\n",
    "    batch_mask = np.random.choice(train_size, batch_size)\n",
    "    x_batch = x_train[batch_mask]\n",
    "    t_batch = t_train[batch_mask]\n",
    "    \n",
    "    # 기울기 계산\n",
    "    #grad = network.numerical_gradient(x_batch, t_batch) # 수치 미분 방식\n",
    "    grad = network.gradient(x_batch, t_batch) # 오차역전파법 방식(훨씬 빠르다)\n",
    "    \n",
    "    # 매개변수 갱신\n",
    "    for key in ('W1', 'b1', 'W2', 'b2'):\n",
    "        network.params[key] -= learning_rate * grad[key]\n",
    "        \n",
    "    # 학습 경과 기록\n",
    "    loss = network.loss(x_batch, t_batch)\n",
    "    train_loss_list.append(loss)\n",
    "    \n",
    "    # 1에폭당 정확도 계산\n",
    "    if i % iter_per_epoch == 0:\n",
    "        train_acc = network.accuracy(x_train, t_train)\n",
    "        test_acc = network.accuracy(x_test, t_test)\n",
    "        train_acc_list.append(train_acc)\n",
    "        test_acc_list.append(test_acc)\n",
    "        print(f'<{int(i//iter_per_epoch):03}> train acc: {train_acc:.3f}, test acc: {test_acc:.3f}')"
   ]
  },
  {
   "cell_type": "markdown",
   "id": "f46fba2a",
   "metadata": {},
   "source": [
    "# 정리"
   ]
  },
  {
   "cell_type": "markdown",
   "id": "5daf8f53",
   "metadata": {},
   "source": [
    "- 계산그래프를 이용하연 계산 과정을 시각적으로 파악할수 있다.\n",
    "- 계산 그래프의 노드는 국소적 계산으로 구성된다. 국소적 계산을 조합해 전체 계산을 구성한다.\n",
    "- 계산 그래프의 순전파는 통상의 계산을 수행한다. 한편, 계산 그래프의 역전파로는 각 노드의 미분을 구할 수 있다.\n",
    "- 신경망의 구성 요소를 계층으로 구현하여 기울기를 효율적으로 계산할수 있다(오차역전파법).\n",
    "- 수치 미분과 오차역전파법의 결과를 비교하면 오차역전파법의 구현에 잘못이 없는지 확인할 수 있다(기울기 확인)."
   ]
  },
  {
   "cell_type": "code",
   "execution_count": null,
   "id": "fd942b0b",
   "metadata": {},
   "outputs": [],
   "source": []
  },
  {
   "cell_type": "markdown",
   "id": "f076fa13",
   "metadata": {},
   "source": [
    "---"
   ]
  },
  {
   "cell_type": "code",
   "execution_count": null,
   "id": "810a4484",
   "metadata": {},
   "outputs": [],
   "source": [
    "# End of file"
   ]
  },
  {
   "cell_type": "code",
   "execution_count": null,
   "id": "85afea49",
   "metadata": {},
   "outputs": [],
   "source": []
  }
 ],
 "metadata": {
  "kernelspec": {
   "display_name": "Python 3 (ipykernel)",
   "language": "python",
   "name": "python3"
  },
  "language_info": {
   "codemirror_mode": {
    "name": "ipython",
    "version": 3
   },
   "file_extension": ".py",
   "mimetype": "text/x-python",
   "name": "python",
   "nbconvert_exporter": "python",
   "pygments_lexer": "ipython3",
   "version": "3.9.7"
  },
  "vp": {
   "vp_config_version": "1.0.0",
   "vp_menu_width": 273,
   "vp_note_display": true,
   "vp_note_width": 263,
   "vp_position": {
    "width": 541
   },
   "vp_section_display": false,
   "vp_signature": "VisualPython"
  }
 },
 "nbformat": 4,
 "nbformat_minor": 5
}
