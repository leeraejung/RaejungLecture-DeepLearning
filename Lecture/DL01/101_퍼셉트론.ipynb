{
 "cells": [
  {
   "cell_type": "markdown",
   "id": "be8459af",
   "metadata": {},
   "source": [
    "# 퍼셉트론 - Perceptron"
   ]
  },
  {
   "cell_type": "markdown",
   "id": "c0c93566",
   "metadata": {},
   "source": [
    "---"
   ]
  },
  {
   "cell_type": "code",
   "execution_count": null,
   "id": "f758a8dd",
   "metadata": {},
   "outputs": [],
   "source": [
    "import numpy as np\n",
    "import pandas as pd\n",
    "import matplotlib.pyplot as plt\n",
    "import seaborn as sns\n",
    "\n",
    "plt.rc('figure', figsize=(10, 6))\n",
    "\n",
    "from matplotlib import rcParams\n",
    "rcParams['font.family'] = 'New Gulim'\n",
    "rcParams['font.size'] = 10\n",
    "rcParams['axes.unicode_minus'] = False"
   ]
  },
  {
   "cell_type": "markdown",
   "id": "01f3855a",
   "metadata": {},
   "source": [
    "# 1 퍼셉트론\n",
    "- [Perceptron](https://wikidocs.net/24958)"
   ]
  },
  {
   "cell_type": "markdown",
   "id": "66568f9b",
   "metadata": {},
   "source": [
    "- 입력이 2개인 퍼셉트론\n",
    "<img src=\"./images/fig_2-1.png\" width=\"200\"/>"
   ]
  },
  {
   "cell_type": "markdown",
   "id": "c626780b",
   "metadata": {},
   "source": [
    "- 퍼셉트론 수식\n",
    "<img src=\"./images/e_2.1.png\" width=\"300\"/>"
   ]
  },
  {
   "cell_type": "markdown",
   "id": "5c8a9997",
   "metadata": {},
   "source": [
    "# 2 논리 회로"
   ]
  },
  {
   "cell_type": "markdown",
   "id": "543ad809",
   "metadata": {},
   "source": [
    "- AND 게이트 진리표\n",
    "<img src=\"./images/fig_2-2.png\" width=\"300\"/>"
   ]
  },
  {
   "cell_type": "markdown",
   "id": "71fd9936",
   "metadata": {},
   "source": [
    "- NAND 게이트 진리표\n",
    "<img src=\"./images/fig_2-3.png\" width=\"300\"/>"
   ]
  },
  {
   "cell_type": "markdown",
   "id": "c318008e",
   "metadata": {},
   "source": [
    "- OR 게이트 진리표\n",
    "<img src=\"./images/fig_2-4.png\" width=\"300\"/>"
   ]
  },
  {
   "cell_type": "markdown",
   "id": "428254fd",
   "metadata": {},
   "source": [
    "# 3 퍼셉트론 구현"
   ]
  },
  {
   "cell_type": "markdown",
   "id": "867c07bb",
   "metadata": {},
   "source": [
    "### 3.1 간단한 퍼셉트론"
   ]
  },
  {
   "cell_type": "code",
   "execution_count": null,
   "id": "7e5cd334",
   "metadata": {},
   "outputs": [],
   "source": [
    "# AND 게이트 함수 정의\n",
    "def AND(xl, x2):\n",
    "    wl, w2, theta =  0.5, 0.5, 0.7\n",
    "    tmp = xl*wl + x2*w2\n",
    "    if tmp <= theta:\n",
    "        return 0\n",
    "    elif tmp> theta:\n",
    "        return 1"
   ]
  },
  {
   "cell_type": "code",
   "execution_count": null,
   "id": "6998325a",
   "metadata": {},
   "outputs": [],
   "source": [
    "# AND 게이트\n",
    "print('AND(0, 0) ->', AND(0,0))\n",
    "print('AND(1, 0) ->', AND(1,0))\n",
    "print('AND(0, 1) ->', AND(0,1))\n",
    "print('AND(1, 1) ->', AND(1,1))"
   ]
  },
  {
   "cell_type": "markdown",
   "id": "6b3e1147",
   "metadata": {},
   "source": [
    "### 3.2 가중치와 편향 - weight, bias"
   ]
  },
  {
   "cell_type": "markdown",
   "id": "c0a430f9",
   "metadata": {},
   "source": [
    "<img src=\"./images/e_2.2.png\" width=\"300px\"/>"
   ]
  },
  {
   "cell_type": "markdown",
   "id": "fe9d9c3d",
   "metadata": {},
   "source": [
    "#### 3.2.1 AND Gate"
   ]
  },
  {
   "cell_type": "code",
   "execution_count": null,
   "id": "e6a281af",
   "metadata": {},
   "outputs": [],
   "source": [
    "# AND 게이트 함수 정의\n",
    "def AND(x1, x2):\n",
    "    # AND(), NAND(), OR() 함수는 w와 b 만 다르게 설정\n",
    "    x = np.array([x1, x2])\n",
    "    w = np.array([0.5, 0.5])\n",
    "    b = -0.7\n",
    "    tmp = np.sum(w*x) + b\n",
    "    if tmp <= 0:\n",
    "        return 0\n",
    "    else:\n",
    "        return 1"
   ]
  },
  {
   "cell_type": "code",
   "execution_count": null,
   "id": "24349f28",
   "metadata": {},
   "outputs": [],
   "source": [
    "# AND 게이트\n",
    "print('AND(0, 0) ->', AND(0,0))\n",
    "print('AND(1, 0) ->', AND(1,0))\n",
    "print('AND(0, 1) ->', AND(0,1))\n",
    "print('AND(1, 1) ->', AND(1,1))"
   ]
  },
  {
   "cell_type": "markdown",
   "id": "470127bd",
   "metadata": {},
   "source": [
    "#### 3.2.2 NAND Gate"
   ]
  },
  {
   "cell_type": "code",
   "execution_count": null,
   "id": "36c5b94b",
   "metadata": {},
   "outputs": [],
   "source": [
    "# NAND 게이트 함수 정의\n",
    "def NAND(x1, x2):\n",
    "    # AND(), NAND(), OR() 함수는 w와 b 만 다르게 설정\n",
    "    x = np.array([x1, x2])\n",
    "    w = np.array([-0.5, -0.5])\n",
    "    b = 0.7\n",
    "    tmp = np.sum(w*x) + b\n",
    "    if tmp <= 0:\n",
    "        return 0\n",
    "    else:\n",
    "        return 1"
   ]
  },
  {
   "cell_type": "code",
   "execution_count": null,
   "id": "40897d1c",
   "metadata": {},
   "outputs": [],
   "source": [
    "# NAND 게이트\n",
    "print('NAND(0, 0) ->', NAND(0,0))\n",
    "print('NAND(1, 0) ->', NAND(1,0))\n",
    "print('NAND(0, 1) ->', NAND(0,1))\n",
    "print('NAND(1, 1) ->', NAND(1,1))"
   ]
  },
  {
   "cell_type": "markdown",
   "id": "25b20b0f",
   "metadata": {},
   "source": [
    "#### 3.2.3 OR Gate"
   ]
  },
  {
   "cell_type": "code",
   "execution_count": null,
   "id": "9fde7624",
   "metadata": {},
   "outputs": [],
   "source": [
    "# OR 게이트 함수 정의\n",
    "def OR(x1, x2):\n",
    "    # AND(), NAND(), OR() 함수는 w와 b 만 다르게 설정\n",
    "    x = np.array([x1, x2])\n",
    "    w = np.array([0.5, 0.5])\n",
    "    b = -0.2\n",
    "    tmp = np.sum(w*x) + b\n",
    "    if tmp <= 0:\n",
    "        return 0\n",
    "    else:\n",
    "        return 1"
   ]
  },
  {
   "cell_type": "code",
   "execution_count": null,
   "id": "efdf7ede",
   "metadata": {},
   "outputs": [],
   "source": [
    "# OR 게이트\n",
    "print('OR(0, 0) ->', OR(0,0))\n",
    "print('OR(1, 0) ->', OR(1,0))\n",
    "print('OR(0, 1) ->', OR(0,1))\n",
    "print('OR(1, 1) ->', OR(1,1))"
   ]
  },
  {
   "cell_type": "markdown",
   "id": "cb7dea95",
   "metadata": {},
   "source": [
    "# 4 퍼셉트론 한계"
   ]
  },
  {
   "cell_type": "markdown",
   "id": "837895f8",
   "metadata": {},
   "source": [
    "### 4.1 OR 게이트"
   ]
  },
  {
   "cell_type": "markdown",
   "id": "95df1add",
   "metadata": {},
   "source": [
    "- OR 게이트 진리표\n",
    "<img src=\"./images/fig_2-4.png\" width=\"300px\"/>"
   ]
  },
  {
   "cell_type": "markdown",
   "id": "8ed245d6",
   "metadata": {},
   "source": [
    "- OR Gate 수식\n",
    "<img src=\"./images/e_2.3.png\" width=\"300\"/>"
   ]
  },
  {
   "cell_type": "markdown",
   "id": "4a9c7ad6",
   "metadata": {},
   "source": [
    "- OR Gate 시각화 (원: 0, 삼각형: 1)\n",
    "<img src=\"./images/fig_2-6.png\" width=\"300\"/>"
   ]
  },
  {
   "cell_type": "markdown",
   "id": "9d6864fc",
   "metadata": {},
   "source": [
    "### 4.2 XOR 게이트"
   ]
  },
  {
   "cell_type": "markdown",
   "id": "a0d80033",
   "metadata": {},
   "source": [
    "- XOR 게이트 진리표\n",
    "<img src=\"./images/fig_2-5.png\" width=\"200\"/>"
   ]
  },
  {
   "cell_type": "markdown",
   "id": "0da60959",
   "metadata": {},
   "source": [
    "#### 4.2.1 선형 분류"
   ]
  },
  {
   "cell_type": "markdown",
   "id": "4d80f732",
   "metadata": {},
   "source": [
    "- XOR Gate 시각화 (원: 0, 삼각형: 1)\n",
    "<img src=\"./images/fig_2-7.png\" width=\"300\"/>"
   ]
  },
  {
   "cell_type": "markdown",
   "id": "f0a0e298",
   "metadata": {},
   "source": [
    "#### 4.2.2 비선형 분류"
   ]
  },
  {
   "cell_type": "markdown",
   "id": "85062583",
   "metadata": {},
   "source": [
    "- XOR Gate 시각화 비선형 (원: 0, 삼각형: 1)\n",
    "<img src=\"./images/fig_2-8.png\" width=\"300\"/>"
   ]
  },
  {
   "cell_type": "markdown",
   "id": "d27d3ae6",
   "metadata": {},
   "source": [
    "# 5 다층 퍼셉트론 - multi-layer perceptron"
   ]
  },
  {
   "cell_type": "markdown",
   "id": "0a653003",
   "metadata": {},
   "source": [
    "### 5.1 기존 게이트 조합"
   ]
  },
  {
   "cell_type": "markdown",
   "id": "d30ade0e",
   "metadata": {},
   "source": [
    "- AND, NAND, OR 게이트 기호\n",
    "<img src=\"./images/fig_2-9.png\" width=\"400px\"/>"
   ]
  },
  {
   "cell_type": "markdown",
   "id": "7cfd44ed",
   "metadata": {},
   "source": [
    "- AND, NAND, OR 게이트를 조합해 구현한 XOR 게이트\n",
    "<img src=\"./images/fig_2-11.png\" width=\"400px\"/>"
   ]
  },
  {
   "cell_type": "markdown",
   "id": "3dffc92a",
   "metadata": {},
   "source": [
    "- XOR 다층 퍼셉트론\n",
    "<img src=\"./images/fig_2-13.png\" width=\"400\"/>"
   ]
  },
  {
   "cell_type": "markdown",
   "id": "96b4c08a",
   "metadata": {},
   "source": [
    "- XOR 게이트 진리표\n",
    "<img src=\"./images/fig_2-12.png\" width=\"300px\"/>"
   ]
  },
  {
   "cell_type": "markdown",
   "id": "ef7b20b8",
   "metadata": {},
   "source": [
    "### 5.2 XOR Gate"
   ]
  },
  {
   "cell_type": "code",
   "execution_count": null,
   "id": "e8c055e3",
   "metadata": {},
   "outputs": [],
   "source": [
    "# XOR 게이트 함수 정의\n",
    "def XOR(x1, x2):\n",
    "    s1 = NAND(x1, x2)\n",
    "    s2 = OR(x1, x2)\n",
    "    y  = AND(s1, s2)\n",
    "    return y"
   ]
  },
  {
   "cell_type": "code",
   "execution_count": null,
   "id": "4336609c",
   "metadata": {},
   "outputs": [],
   "source": [
    "# XOR 게이트\n",
    "print('XOR(0, 0) ->', XOR(0,0))\n",
    "print('XOR(1, 0) ->', XOR(1,0))\n",
    "print('XOR(0, 1) ->', XOR(0,1))\n",
    "print('XOR(1, 1) ->', XOR(1,1))"
   ]
  },
  {
   "cell_type": "markdown",
   "id": "f46fba2a",
   "metadata": {},
   "source": [
    "# 정리"
   ]
  },
  {
   "cell_type": "markdown",
   "id": "5daf8f53",
   "metadata": {},
   "source": [
    "- 퍼셉트론은 입출력을 갖춘 알고리즘이다. 입력을 주면 정해진 규칙에 따른 값을 출력한다.\n",
    "- 퍼셉트론에서는 '가중치'와 '편향'을 매개변수로 설정한다.\n",
    "- 퍼셉트론으로 AND, OR 게이트 등의 논리 회로를 표현할수 있다.\n",
    "- XOR 게이트는 단층 퍼셉트론으로는 표현할수 없다.\n",
    "- 2층 퍼셉트론을 이용하면 XOR 게이트를 표현할수 있다.\n",
    "- 단층 퍼셉트론은 직선형 영역만 표현할수 있고 다층 퍼셉트론은 비선형 영역도 표현할수 있다."
   ]
  },
  {
   "cell_type": "code",
   "execution_count": null,
   "id": "fd942b0b",
   "metadata": {},
   "outputs": [],
   "source": []
  },
  {
   "cell_type": "markdown",
   "id": "f076fa13",
   "metadata": {},
   "source": [
    "---"
   ]
  },
  {
   "cell_type": "code",
   "execution_count": null,
   "id": "810a4484",
   "metadata": {},
   "outputs": [],
   "source": [
    "# End of file"
   ]
  },
  {
   "cell_type": "code",
   "execution_count": null,
   "id": "85afea49",
   "metadata": {},
   "outputs": [],
   "source": []
  }
 ],
 "metadata": {
  "kernelspec": {
   "display_name": "Python 3 (ipykernel)",
   "language": "python",
   "name": "python3"
  },
  "language_info": {
   "codemirror_mode": {
    "name": "ipython",
    "version": 3
   },
   "file_extension": ".py",
   "mimetype": "text/x-python",
   "name": "python",
   "nbconvert_exporter": "python",
   "pygments_lexer": "ipython3",
   "version": "3.9.7"
  },
  "vp": {
   "vp_config_version": "1.0.0",
   "vp_menu_width": 273,
   "vp_note_display": true,
   "vp_note_width": 263,
   "vp_position": {
    "width": 541
   },
   "vp_section_display": false,
   "vp_signature": "VisualPython"
  }
 },
 "nbformat": 4,
 "nbformat_minor": 5
}
