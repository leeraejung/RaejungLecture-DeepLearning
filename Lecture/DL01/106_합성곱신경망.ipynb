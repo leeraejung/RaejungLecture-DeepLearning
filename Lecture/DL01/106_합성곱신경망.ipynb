{
 "cells": [
  {
   "cell_type": "markdown",
   "id": "be8459af",
   "metadata": {},
   "source": [
    "# 합성곱 신경망 - CNN(Convolutional Neural Network)"
   ]
  },
  {
   "cell_type": "markdown",
   "id": "c0c93566",
   "metadata": {},
   "source": [
    "---"
   ]
  },
  {
   "cell_type": "code",
   "execution_count": null,
   "id": "f758a8dd",
   "metadata": {},
   "outputs": [],
   "source": [
    "import numpy as np\n",
    "import pandas as pd\n",
    "import matplotlib.pyplot as plt\n",
    "import seaborn as sns\n",
    "\n",
    "plt.rc('figure', figsize=(10, 6))\n",
    "\n",
    "from matplotlib import rcParams\n",
    "rcParams['font.family'] = 'New Gulim'\n",
    "rcParams['font.size'] = 10\n",
    "rcParams['axes.unicode_minus'] = False"
   ]
  },
  {
   "cell_type": "markdown",
   "id": "01f3855a",
   "metadata": {},
   "source": [
    "# 1 CNN 전체 구조\n",
    "- 합성곱 계층(Convolutional Layer)\n",
    "- 풀링 계층(Pooling Layer)\n",
    "- 완전 연결 계층(Fully Connected Layer) - Affine 계층\n",
    "- ReLU 계층(ReLU Layer)\n",
    "- 소프트맥스 계층(Softmax Layer)"
   ]
  },
  {
   "cell_type": "markdown",
   "id": "66568f9b",
   "metadata": {},
   "source": [
    "- 완전 연결 계층(Affine 계층)으로 이루어진 네트워크\n",
    "<img src=\"./images/fig_7-1.png\" width=\"600\"/>"
   ]
  },
  {
   "cell_type": "markdown",
   "id": "88d6fad9",
   "metadata": {},
   "source": [
    "- CNN으로 이루어진 네트워크: 합성곱 계층과 풀링 계층이 추가\n",
    "<img src=\"./images/fig_7-2.png\" width=\"600\"/>"
   ]
  },
  {
   "cell_type": "markdown",
   "id": "26a987e6",
   "metadata": {},
   "source": [
    "# 2 합성곱 계층 - Convolutional Layer"
   ]
  },
  {
   "cell_type": "markdown",
   "id": "4d522452",
   "metadata": {},
   "source": [
    "### 2.1 합성곱 연산"
   ]
  },
  {
   "cell_type": "markdown",
   "id": "8b927f2b",
   "metadata": {},
   "source": [
    "- 합성곱 연산의 예\n",
    "<img src=\"./images/fig_7-3.png\" width=\"500\"/>"
   ]
  },
  {
   "cell_type": "markdown",
   "id": "dc6166cd",
   "metadata": {},
   "source": [
    "- 합성곱 연산의 계산 순서\n",
    "<img src=\"./images/fig_7-4.png\" width=\"400\"/>"
   ]
  },
  {
   "cell_type": "markdown",
   "id": "88162896",
   "metadata": {},
   "source": [
    "- 합성곱 연산의 편향: 필터를 적용한 원소에 고정값(편향)을 더한다\n",
    "<img src=\"./images/fig_7-5.png\" width=\"600\"/>"
   ]
  },
  {
   "cell_type": "markdown",
   "id": "d981d86e",
   "metadata": {},
   "source": [
    "### 2.2 패딩 - padding"
   ]
  },
  {
   "cell_type": "markdown",
   "id": "6b0e9240",
   "metadata": {},
   "source": [
    "- 합성곱 연산의 패딩 처리: 입력 데이터 주위에 0을 채운다(점선 영역)\n",
    "<img src=\"./images/fig_7-6.png\" width=\"500\"/>"
   ]
  },
  {
   "cell_type": "markdown",
   "id": "ad09a434",
   "metadata": {},
   "source": [
    "### 2.3 스트라이드 - stride"
   ]
  },
  {
   "cell_type": "markdown",
   "id": "9b8fa8a6",
   "metadata": {},
   "source": [
    "- 스트라이드가 2인 합성곱 연산\n",
    "<img src=\"./images/fig_7-7.png\" width=\"500\"/>"
   ]
  },
  {
   "cell_type": "markdown",
   "id": "32cd1b6e",
   "metadata": {},
   "source": [
    "- 출력 크기 계산\n",
    "- 입력 크기(H, W), 필터 크기(FH, FW), 출력 크기(OH, OW)\n",
    "<img src=\"./images/e_7.1.png\" width=\"200\"/>"
   ]
  },
  {
   "cell_type": "markdown",
   "id": "8613cc42",
   "metadata": {},
   "source": [
    "- 출력 크기 계산 예제\n",
    "<img src=\"./images/fig_7-7-1.png\" width=\"400\"/>"
   ]
  },
  {
   "cell_type": "markdown",
   "id": "c3de9bfe",
   "metadata": {},
   "source": [
    "### 2.4 3차원 데이터의 합성곱 연산"
   ]
  },
  {
   "cell_type": "markdown",
   "id": "c0852d15",
   "metadata": {},
   "source": [
    "- 3차원 데이터 합성곱 연산의 예\n",
    "<img src=\"./images/fig_7-8.png\" width=\"500\"/>"
   ]
  },
  {
   "cell_type": "markdown",
   "id": "a938e210",
   "metadata": {},
   "source": [
    "- 3차원 데이터 합성곱 연산의 계산 순서\n",
    "<img src=\"./images/fig_7-9.png\" width=\"400\"/>"
   ]
  },
  {
   "cell_type": "markdown",
   "id": "5ecf3a6f",
   "metadata": {},
   "source": [
    "### 2.5 블록으로 표현"
   ]
  },
  {
   "cell_type": "markdown",
   "id": "36dadfe6",
   "metadata": {},
   "source": [
    "- 합성곱 연산으로 블록으로 표현\n",
    "<img src=\"./images/fig_7-10.png\" width=\"500\"/>"
   ]
  },
  {
   "cell_type": "markdown",
   "id": "4ffeb06a",
   "metadata": {},
   "source": [
    "- 여러 필터를 사용한 합성곱 연산의 예: 출력이 다수의 채널로 생성\n",
    "<img src=\"./images/fig_7-11.png\" width=\"500\"/>"
   ]
  },
  {
   "cell_type": "markdown",
   "id": "a2754bc3",
   "metadata": {},
   "source": [
    "- 합성곱 연산의 처리 흐름(편향 추가)\n",
    "<img src=\"./images/fig_7-12.png\" width=\"600\"/>"
   ]
  },
  {
   "cell_type": "markdown",
   "id": "9fb6b75b",
   "metadata": {},
   "source": [
    "### 2.6 배치 처리"
   ]
  },
  {
   "cell_type": "markdown",
   "id": "a0eb2372",
   "metadata": {},
   "source": [
    "- 합성곱 연산의 처리 흐름(배치 처리)\n",
    "<img src=\"./images/fig_7-13.png\" width=\"600\"/>"
   ]
  },
  {
   "cell_type": "markdown",
   "id": "f1f94377",
   "metadata": {},
   "source": [
    "# 3 풀링 계층 - Pooling Layer"
   ]
  },
  {
   "cell_type": "markdown",
   "id": "d384fcca",
   "metadata": {},
   "source": [
    "- 최대 풀링(Max Pooling)의 처리 순서\n",
    "<img src=\"./images/fig_7-14.png\" width=\"600\"/>"
   ]
  },
  {
   "cell_type": "markdown",
   "id": "d44875fb",
   "metadata": {},
   "source": [
    "### 3.1 풀링 계층의 특징"
   ]
  },
  {
   "cell_type": "markdown",
   "id": "49d6963a",
   "metadata": {},
   "source": [
    "- 풀링 윈도우 크기와 스트라이드는 동일하게 설정한다\n",
    "- 학습해야 할 매개변수가 없다(필터 없음)\n",
    "- 채널 수가 변하지 않는다\n",
    "- 입력의 변화에 영향을 적게 받는다(강건하다)"
   ]
  },
  {
   "cell_type": "markdown",
   "id": "d3f83621",
   "metadata": {},
   "source": [
    "- 풀링은 채널 수를 바꾸지 않는다\n",
    "<img src=\"./images/fig_7-15.png\" width=\"400\"/>"
   ]
  },
  {
   "cell_type": "markdown",
   "id": "44f2485c",
   "metadata": {},
   "source": [
    "- 입력 데이터가 가로로 1원소만큰 어긋나도 출력은 같다\n",
    "<img src=\"./images/fig_7-16.png\" width=\"600\"/>"
   ]
  },
  {
   "cell_type": "markdown",
   "id": "7051f36b",
   "metadata": {},
   "source": [
    "# 4 합성곱/풀링 계층 구현"
   ]
  },
  {
   "cell_type": "markdown",
   "id": "d983b27f",
   "metadata": {},
   "source": [
    "### 4.1 CNN(4차원 데이터)\n",
    "- (N, C, H, W)\n",
    "- (데이터수, 채널수, 높이, 너비)"
   ]
  },
  {
   "cell_type": "markdown",
   "id": "f93394bc",
   "metadata": {},
   "source": [
    "### 4.2 데이터 전개 - im2col 트릭 사용"
   ]
  },
  {
   "cell_type": "markdown",
   "id": "62c70b70",
   "metadata": {},
   "source": [
    "- 4차원 데이터를 2차원 데이터로 변환"
   ]
  },
  {
   "cell_type": "markdown",
   "id": "a6bd6c55",
   "metadata": {},
   "source": [
    "- im2col의 동작\n",
    "<img src=\"./images/fig_7-17.png\" width=\"400\"/>"
   ]
  },
  {
   "cell_type": "markdown",
   "id": "a7411e79",
   "metadata": {},
   "source": [
    "- 필터 적용 영역을 앞에서부터 순서대로 1줄로 펼친다\n",
    "<img src=\"./images/fig_7-18.png\" width=\"400\"/>"
   ]
  },
  {
   "cell_type": "markdown",
   "id": "f7d41175",
   "metadata": {},
   "source": [
    "- 합성곱 연산의 필터 처리 과정\n",
    "<img src=\"./images/fig_7-19.png\" width=\"500\"/>"
   ]
  },
  {
   "cell_type": "markdown",
   "id": "b0e7f4bf",
   "metadata": {},
   "source": [
    "### 4.3 합성곱 계층 구현"
   ]
  },
  {
   "cell_type": "markdown",
   "id": "23979fdc",
   "metadata": {},
   "source": [
    "#### 4.3.1 im2col 함수 사용 예제"
   ]
  },
  {
   "cell_type": "markdown",
   "id": "038c4d7e",
   "metadata": {},
   "source": [
    "##### im2col(input_data, filter_h, filter_w, stride=1, pad=0)\n",
    "- input_data - (데이터수, 채널수, 높이, 너비)의 4차원 배열\n",
    "- filter_h - 필터의 높이\n",
    "- filter_w - 필터의 너비\n",
    "- stride - 스트라이드\n",
    "- pad - 패팅"
   ]
  },
  {
   "cell_type": "code",
   "execution_count": null,
   "id": "47693b86",
   "metadata": {},
   "outputs": [],
   "source": [
    "from common.util import im2col\n",
    "\n",
    "x1 =  np.random.rand(1, 3, 7, 7) # (데이터수/ 채널수/ 높이/ 너비)\n",
    "col1 = im2col(x1, 5, 5, stride=1, pad=0)\n",
    "print(col1.shape) # (9, 75)\n",
    "\n",
    "x2 = np.random.rand(10, 3, 7, 7) # 데이터 10개\n",
    "col2 = im2col(x2, 5, 5, stride=1, pad=0)\n",
    "print(col2.shape) # (90, 75)"
   ]
  },
  {
   "cell_type": "markdown",
   "id": "749d27ce",
   "metadata": {},
   "source": [
    "#### 4.3.2 합성곱 계층 코드 구현"
   ]
  },
  {
   "cell_type": "markdown",
   "id": "697a403a",
   "metadata": {},
   "source": [
    "- 축 순서 변경: numpy.transpose() 사용\n",
    "<img src=\"./images/fig_7-20.png\" width=\"500\"/>"
   ]
  },
  {
   "cell_type": "code",
   "execution_count": null,
   "id": "5cd96eda",
   "metadata": {},
   "outputs": [],
   "source": [
    "# 합성곱 계층 코드 구현\n",
    "\n",
    "class Convolution:\n",
    "    def __init__(self, W, b, stride=1, pad=0):\n",
    "        self.W = W\n",
    "        self.b = b\n",
    "        self.stride = stride\n",
    "        self.pad = pad\n",
    "        \n",
    "    def forward(self, x):\n",
    "        FN, C, FH, FW = self.W.shape\n",
    "        N, C, H, W = x.shape\n",
    "        out_h = int(1 + (H + 2*self.pad - FH) / self.stride)\n",
    "        out_w = int(1 + (W + 2*self.pad - FW) / self.stride)\n",
    "        \n",
    "        col = im2col(x, FH, FW, self.stride, self.pad)\n",
    "        col_W = self.W.reshape(FN, -1).T # 필터 전개\n",
    "        out = np.dot(col, col_W) + self.b\n",
    "        \n",
    "        out = out.reshape(N, out_h, out_w, -1).transpose(0, 3, 1, 2)\n",
    "        \n",
    "        return out"
   ]
  },
  {
   "cell_type": "markdown",
   "id": "736e62ef",
   "metadata": {},
   "source": [
    "### 4.4 풀링 계층 구현"
   ]
  },
  {
   "cell_type": "markdown",
   "id": "dbe4f247",
   "metadata": {},
   "source": [
    "- 입력 데이터에 풀링 적용 영역을 전개(2X2 풀링의 예)\n",
    "<img src=\"./images/fig_7-21.png\" width=\"400\"/>"
   ]
  },
  {
   "cell_type": "markdown",
   "id": "04e80bf5",
   "metadata": {},
   "source": [
    "- 풀링 계층 구현의 흐름: 풀링 적용 영역에서 가장 큰 원소는 회색으로 표시\n",
    "<img src=\"./images/fig_7-22.png\" width=\"600\"/>"
   ]
  },
  {
   "cell_type": "code",
   "execution_count": null,
   "id": "727d3c31",
   "metadata": {},
   "outputs": [],
   "source": [
    "# 풀링 계층 코드 구현\n",
    "\n",
    "class Pooling:\n",
    "    def __init__(self, pool_h, pool_w, stride=1, pad=0):\n",
    "        self.pool_h = pool_h\n",
    "        self.pool_w = pool_w\n",
    "        self.stride = stride\n",
    "        self.pad = pad\n",
    "        \n",
    "    def forward(self, x):\n",
    "        N, C, H, W = x.shape\n",
    "        out_h = int(1 + (H - self.pool_h) / self.stride)\n",
    "        out_w = int(1 + (W - self.pool_w) / self.stride)\n",
    "        \n",
    "        # 전개(1)\n",
    "        col = im2col(x, self.pool_h, self.pool_w, self.stride, self.pad)\n",
    "        col = col.reshape(-1, self.pool_h*self.pool_w)\n",
    "        \n",
    "        # 최대값(2)\n",
    "        out = np.max(col, axis=1)\n",
    "        \n",
    "        # 성형(3)\n",
    "        out = out.reshape(N, out_h, out_w, C).transpose(0, 3, 1, 2)\n",
    "        \n",
    "        return out"
   ]
  },
  {
   "cell_type": "markdown",
   "id": "eaac4361",
   "metadata": {},
   "source": [
    "# 5 CNN 구현"
   ]
  },
  {
   "cell_type": "markdown",
   "id": "45f0a290",
   "metadata": {},
   "source": [
    "### 5.1 CNN class 코드 구현"
   ]
  },
  {
   "cell_type": "markdown",
   "id": "711d0b6e",
   "metadata": {},
   "source": [
    "- 단순한 CNN 네트워크 구성\n",
    "<img src=\"./images/fig_7-23.png\" width=\"600\"/>"
   ]
  },
  {
   "cell_type": "markdown",
   "id": "a3422046",
   "metadata": {},
   "source": [
    "##### SimpleConvNet() 생성시 입력 변수\n",
    "- input_dim - 입력 데이터(채널수, 높이, 너비)의 차원\n",
    "- conv_param - 합성곱 계층의 하이퍼파라미터(딕셔너리). 딕셔너리의 키는 다음과 같다\n",
    " - filter_num - 필터수\n",
    " - filter_size - 필터크기\n",
    " - stride - 스트라이드\n",
    " - pad - 패딩\n",
    "- hidden_size - 은닉층(완전연결)의 뉴런수\n",
    "- output_size - 출력층(완전연결)의 뉴런수\n",
    "- weight_init_std - 초기화 때의 가중치 표준편차"
   ]
  },
  {
   "cell_type": "code",
   "execution_count": null,
   "id": "c42bed30",
   "metadata": {},
   "outputs": [],
   "source": [
    "# SimpleConvNet() 코드 구현\n",
    "\n",
    "import pickle\n",
    "from collections import OrderedDict\n",
    "from common.layers import *\n",
    "from common.gradient import numerical_gradient\n",
    "\n",
    "class SimpleConvNet:\n",
    "    \"\"\"단순한 합성곱 신경망\n",
    "    \n",
    "    conv - relu - pool - affine - relu - affine - softmax\n",
    "    \n",
    "    Parameters\n",
    "    ----------\n",
    "    input_size : 입력 크기（MNIST의 경우엔 784）\n",
    "    hidden_size_list : 각 은닉층의 뉴런 수를 담은 리스트（e.g. [100, 100, 100]）\n",
    "    output_size : 출력 크기（MNIST의 경우엔 10）\n",
    "    activation : 활성화 함수 - 'relu' 혹은 'sigmoid'\n",
    "    weight_init_std : 가중치의 표준편차 지정（e.g. 0.01）\n",
    "        'relu'나 'he'로 지정하면 'He 초깃값'으로 설정\n",
    "        'sigmoid'나 'xavier'로 지정하면 'Xavier 초깃값'으로 설정\n",
    "    \"\"\"\n",
    "    def __init__(self, input_dim=(1, 28, 28), \n",
    "                 conv_param={'filter_num':30, 'filter_size':5, 'pad':0, 'stride':1},\n",
    "                 hidden_size=100, output_size=10, weight_init_std=0.01):\n",
    "        filter_num = conv_param['filter_num']\n",
    "        filter_size = conv_param['filter_size']\n",
    "        filter_pad = conv_param['pad']\n",
    "        filter_stride = conv_param['stride']\n",
    "        input_size = input_dim[1]\n",
    "        conv_output_size = (input_size - filter_size + 2*filter_pad) / filter_stride + 1\n",
    "        pool_output_size = int(filter_num * (conv_output_size/2) * (conv_output_size/2))\n",
    "\n",
    "        # 가중치 초기화\n",
    "        self.params = {}\n",
    "        self.params['W1'] = weight_init_std * \\\n",
    "                            np.random.randn(filter_num, input_dim[0], filter_size, filter_size)\n",
    "        self.params['b1'] = np.zeros(filter_num)\n",
    "        self.params['W2'] = weight_init_std * \\\n",
    "                            np.random.randn(pool_output_size, hidden_size)\n",
    "        self.params['b2'] = np.zeros(hidden_size)\n",
    "        self.params['W3'] = weight_init_std * \\\n",
    "                            np.random.randn(hidden_size, output_size)\n",
    "        self.params['b3'] = np.zeros(output_size)\n",
    "\n",
    "        # 계층 생성\n",
    "        self.layers = OrderedDict()\n",
    "        self.layers['Conv1'] = Convolution(self.params['W1'], self.params['b1'],\n",
    "                                           conv_param['stride'], conv_param['pad'])\n",
    "        self.layers['Relu1'] = Relu()\n",
    "        self.layers['Pool1'] = Pooling(pool_h=2, pool_w=2, stride=2)\n",
    "        self.layers['Affine1'] = Affine(self.params['W2'], self.params['b2'])\n",
    "        self.layers['Relu2'] = Relu()\n",
    "        self.layers['Affine2'] = Affine(self.params['W3'], self.params['b3'])\n",
    "\n",
    "        self.last_layer = SoftmaxWithLoss()\n",
    "\n",
    "    def predict(self, x):\n",
    "        for layer in self.layers.values():\n",
    "            x = layer.forward(x)\n",
    "\n",
    "        return x\n",
    "\n",
    "    def loss(self, x, t):\n",
    "        \"\"\"손실 함수를 구한다.\n",
    "\n",
    "        Parameters\n",
    "        ----------\n",
    "        x : 입력 데이터\n",
    "        t : 정답 레이블\n",
    "        \"\"\"\n",
    "        y = self.predict(x)\n",
    "        return self.last_layer.forward(y, t)\n",
    "\n",
    "    def accuracy(self, x, t, batch_size=100):\n",
    "        if t.ndim != 1 : t = np.argmax(t, axis=1)\n",
    "        \n",
    "        acc = 0.0\n",
    "        \n",
    "        for i in range(int(x.shape[0] / batch_size)):\n",
    "            tx = x[i*batch_size:(i+1)*batch_size]\n",
    "            tt = t[i*batch_size:(i+1)*batch_size]\n",
    "            y = self.predict(tx)\n",
    "            y = np.argmax(y, axis=1)\n",
    "            acc += np.sum(y == tt) \n",
    "        \n",
    "        return acc / x.shape[0]\n",
    "\n",
    "    def numerical_gradient(self, x, t):\n",
    "        \"\"\"기울기를 구한다（수치미분）.\n",
    "\n",
    "        Parameters\n",
    "        ----------\n",
    "        x : 입력 데이터\n",
    "        t : 정답 레이블\n",
    "\n",
    "        Returns\n",
    "        -------\n",
    "        각 층의 기울기를 담은 사전(dictionary) 변수\n",
    "            grads['W1']、grads['W2']、... 각 층의 가중치\n",
    "            grads['b1']、grads['b2']、... 각 층의 편향\n",
    "        \"\"\"\n",
    "        loss_w = lambda w: self.loss(x, t)\n",
    "\n",
    "        grads = {}\n",
    "        for idx in (1, 2, 3):\n",
    "            grads['W' + str(idx)] = numerical_gradient(loss_w, self.params['W' + str(idx)])\n",
    "            grads['b' + str(idx)] = numerical_gradient(loss_w, self.params['b' + str(idx)])\n",
    "\n",
    "        return grads\n",
    "\n",
    "    def gradient(self, x, t):\n",
    "        \"\"\"기울기를 구한다(오차역전파법).\n",
    "\n",
    "        Parameters\n",
    "        ----------\n",
    "        x : 입력 데이터\n",
    "        t : 정답 레이블\n",
    "\n",
    "        Returns\n",
    "        -------\n",
    "        각 층의 기울기를 담은 사전(dictionary) 변수\n",
    "            grads['W1']、grads['W2']、... 각 층의 가중치\n",
    "            grads['b1']、grads['b2']、... 각 층의 편향\n",
    "        \"\"\"\n",
    "        # forward\n",
    "        self.loss(x, t)\n",
    "\n",
    "        # backward\n",
    "        dout = 1\n",
    "        dout = self.last_layer.backward(dout)\n",
    "\n",
    "        layers = list(self.layers.values())\n",
    "        layers.reverse()\n",
    "        for layer in layers:\n",
    "            dout = layer.backward(dout)\n",
    "\n",
    "        # 결과 저장\n",
    "        grads = {}\n",
    "        grads['W1'], grads['b1'] = self.layers['Conv1'].dW, self.layers['Conv1'].db\n",
    "        grads['W2'], grads['b2'] = self.layers['Affine1'].dW, self.layers['Affine1'].db\n",
    "        grads['W3'], grads['b3'] = self.layers['Affine2'].dW, self.layers['Affine2'].db\n",
    "\n",
    "        return grads\n",
    "        \n",
    "    def save_params(self, file_name=\"params.pkl\"):\n",
    "        params = {}\n",
    "        for key, val in self.params.items():\n",
    "            params[key] = val\n",
    "        with open(file_name, 'wb') as f:\n",
    "            pickle.dump(params, f)\n",
    "\n",
    "    def load_params(self, file_name=\"params.pkl\"):\n",
    "        with open(file_name, 'rb') as f:\n",
    "            params = pickle.load(f)\n",
    "        for key, val in params.items():\n",
    "            self.params[key] = val\n",
    "\n",
    "        for i, key in enumerate(['Conv1', 'Affine1', 'Affine2']):\n",
    "            self.layers[key].W = self.params['W' + str(i+1)]\n",
    "            self.layers[key].b = self.params['b' + str(i+1)]"
   ]
  },
  {
   "cell_type": "markdown",
   "id": "ed7dc81d",
   "metadata": {},
   "source": [
    "### 5.2 MNIST 데이터 학습 - SimpleConvNet() 사용"
   ]
  },
  {
   "cell_type": "code",
   "execution_count": null,
   "id": "4120a65f",
   "metadata": {},
   "outputs": [],
   "source": [
    "%%time\n",
    "\n",
    "from dataset.mnist import load_mnist\n",
    "from common.trainer import Trainer\n",
    "\n",
    "# 데이터 읽기\n",
    "(x_train, t_train), (x_test, t_test) = load_mnist(flatten=False)\n",
    "\n",
    "# 시간이 오래 걸릴 경우 데이터를 줄인다.\n",
    "x_train, t_train = x_train[:5000], t_train[:5000]\n",
    "x_test, t_test = x_test[:1000], t_test[:1000]\n",
    "\n",
    "# 시간이 오래 걸릴 경우 max_epochs를 줄인다.\n",
    "#max_epochs = 5\n",
    "max_epochs = 20\n",
    "\n",
    "network = SimpleConvNet(input_dim=(1,28,28), \n",
    "                        conv_param = {'filter_num': 30, 'filter_size': 5, 'pad': 0, 'stride': 1},\n",
    "                        hidden_size=100, output_size=10, weight_init_std=0.01)\n",
    "                        \n",
    "trainer = Trainer(network, x_train, t_train, x_test, t_test,\n",
    "                  epochs=max_epochs, mini_batch_size=100,\n",
    "                  optimizer='Adam', optimizer_param={'lr': 0.001},\n",
    "                  evaluate_sample_num_per_epoch=1000)\n",
    "trainer.train()\n",
    "\n",
    "# 매개변수 보존\n",
    "network.save_params('data/params.pkl')\n",
    "print('Saved Network Parameters!')"
   ]
  },
  {
   "cell_type": "code",
   "execution_count": null,
   "id": "51e5057b",
   "metadata": {
    "scrolled": false
   },
   "outputs": [],
   "source": [
    "# 그래프 그리기\n",
    "markers = {'train': 'o', 'test': 's'}\n",
    "x = np.arange(max_epochs)\n",
    "plt.plot(x, trainer.train_acc_list, marker='o', label='train', markevery=2)\n",
    "plt.plot(x, trainer.test_acc_list, marker='s', label='test', markevery=2)\n",
    "plt.xlabel('epochs')\n",
    "plt.ylabel('accuracy')\n",
    "plt.ylim(0, 1.0)\n",
    "plt.legend(loc='lower right')\n",
    "plt.show()"
   ]
  },
  {
   "cell_type": "markdown",
   "id": "0bde35b1",
   "metadata": {},
   "source": [
    "# 6 CNN 시각화"
   ]
  },
  {
   "cell_type": "markdown",
   "id": "927b8d62",
   "metadata": {},
   "source": [
    "### 6.1 CNN 1번째 층의 가중치 시각화"
   ]
  },
  {
   "cell_type": "markdown",
   "id": "f064737c",
   "metadata": {},
   "source": [
    "#####  가중치(필터) 시각화 함수 정의"
   ]
  },
  {
   "cell_type": "code",
   "execution_count": null,
   "id": "e1a2761f",
   "metadata": {},
   "outputs": [],
   "source": [
    "# 가중치(필터) 시각화 함수 정의\n",
    "\n",
    "def filter_show(filters, nx=8, margin=3, scale=10):\n",
    "    \"\"\"\n",
    "    c.f. https://gist.github.com/aidiary/07d530d5e08011832b12#file-draw_weight-py\n",
    "    \"\"\"\n",
    "    FN, C, FH, FW = filters.shape\n",
    "    ny = int(np.ceil(FN / nx))\n",
    "\n",
    "    fig = plt.figure(figsize=(10,4))\n",
    "    fig.subplots_adjust(left=0, right=1, bottom=0, top=1, hspace=0.05, wspace=0.05)\n",
    "\n",
    "    for i in range(FN):\n",
    "        ax = fig.add_subplot(ny, nx, i+1, xticks=[], yticks=[])\n",
    "        ax.imshow(filters[i, 0], cmap=plt.cm.gray_r, interpolation='nearest')\n",
    "    plt.show()"
   ]
  },
  {
   "cell_type": "markdown",
   "id": "504a8403",
   "metadata": {},
   "source": [
    "#####  가중치(필터) 시각화: 무작위(랜덤) 초기화 후의 가중치\n",
    "- filter = (30, 1, 5, 5): 5X5(흑백) 30개의 필터"
   ]
  },
  {
   "cell_type": "code",
   "execution_count": null,
   "id": "7ac9a1ea",
   "metadata": {},
   "outputs": [],
   "source": [
    "network_v = SimpleConvNet()\n",
    "\n",
    "filter_show(network_v.params['W1'])"
   ]
  },
  {
   "cell_type": "markdown",
   "id": "53bc614b",
   "metadata": {},
   "source": [
    "#####  가중치(필터) 시각화: 학습된 가중치\n",
    "- filter = (30, 1, 5, 5): 5X5(흑백) 30개의 필터"
   ]
  },
  {
   "cell_type": "code",
   "execution_count": null,
   "id": "f5a8c5a0",
   "metadata": {},
   "outputs": [],
   "source": [
    "network_v.load_params('data/params.pkl')\n",
    "\n",
    "filter_show(network_v.params['W1'])"
   ]
  },
  {
   "cell_type": "markdown",
   "id": "5df4b911",
   "metadata": {},
   "source": [
    "- 가로 에지와 세로 에지에 반응히는 필터\n",
    "- 출력 이미지 1 은 세로 에지에 흰 픽셀이 나타나고, 출력 이미지 2 는 가로 에지에 흰 픽셀이 많이 나온다\n",
    " \n",
    "<img src=\"./images/fig_7-25.png\" width=\"700\"/>"
   ]
  },
  {
   "cell_type": "markdown",
   "id": "f4c5b933",
   "metadata": {},
   "source": [
    "### 6.2 CNN 층 깊이에 따른 추출 정보 변화"
   ]
  },
  {
   "cell_type": "markdown",
   "id": "7ea00a78",
   "metadata": {},
   "source": [
    "- CNN의 합성곱 계층에서 추출되는 정보\n",
    " - 1 번째 층은 에지와 블롭\n",
    " - 3번째 층은 텍스처\n",
    " - 5번째 층은 사물의 일부\n",
    " - 마지막 완전연결 계층은 사물의 클래스(개, 자동차등)에 뉴린이 반응한다\n",
    "\n",
    "<img src=\"./images/fig_7-26.png\" width=\"700\"/>"
   ]
  },
  {
   "cell_type": "markdown",
   "id": "30a9893e",
   "metadata": {},
   "source": [
    "# 7 대표적인 CNN"
   ]
  },
  {
   "cell_type": "markdown",
   "id": "44cc0046",
   "metadata": {},
   "source": [
    "### 7.1 LeNet"
   ]
  },
  {
   "cell_type": "markdown",
   "id": "8f099e85",
   "metadata": {},
   "source": [
    "- 1998년에 제안된 첫번째 CNN\n",
    "- (합성곱 계층 + 풀링 계층) 반복 + 완전 연결 계층\n",
    "- 활성화 함수: Sigmoid 함수 사용 vs ReLU\n",
    "- 풀링: 서브샘플링(단순히 원소의 수를 줄이기만 하는 용도) vs Max Pooling"
   ]
  },
  {
   "cell_type": "markdown",
   "id": "3c6e2bf1",
   "metadata": {},
   "source": [
    "- LeNet의 구성\n",
    "<img src=\"./images/fig_7-27.png\" width=\"700\"/>"
   ]
  },
  {
   "cell_type": "markdown",
   "id": "3916102d",
   "metadata": {},
   "source": [
    "### 7.2 AlexNet"
   ]
  },
  {
   "cell_type": "markdown",
   "id": "644d61ee",
   "metadata": {},
   "source": [
    "- 2012년에 제안된 CNN: 딥러닝 열풍의 주역\n",
    "- (합성곱 계층 + 풀링 계층) 반복 + 완전 연결 계층\n",
    "- 활성화 함수: ReLU 함수 사용\n",
    "- 풀링: Max Pooling\n",
    "- 드롭아웃 사용\n",
    "- LRN(Local Response Normalization 이라는 국소적 정규화를 실시하는 계층 이용\n",
    "- 빅데이터와 GPU의 적극적인 활용 가능"
   ]
  },
  {
   "cell_type": "markdown",
   "id": "f0224b82",
   "metadata": {},
   "source": [
    "- AlexNet의 구성\n",
    "<img src=\"./images/fig_7-28.png\" width=\"600\"/>"
   ]
  },
  {
   "cell_type": "markdown",
   "id": "f46fba2a",
   "metadata": {},
   "source": [
    "# 정리"
   ]
  },
  {
   "cell_type": "markdown",
   "id": "5daf8f53",
   "metadata": {},
   "source": [
    "- CNN은 지금까지의 완전연결 계층 네트워크에 합성곱 계층과 풀링 계층을 새로 추가한다.\n",
    "- 합성곱 계층과 풀링 계층은 im2col(이미지를 행렬로 전개하는 함수)을 이용하면 간단하고 효율적으로 구현할수있다.\n",
    "- CNN을 시각화 해보면 계층이 갚어질수록 고급 정보가 추출되는 모습을 확인할수 있다.\n",
    "- 대표적인 CNN에는 LeNet과 AlexNet이 있다.\n",
    "- 답러닝의 발전에는 빅데이터와 GPU가 크게 기여했다."
   ]
  },
  {
   "cell_type": "code",
   "execution_count": null,
   "id": "fd942b0b",
   "metadata": {},
   "outputs": [],
   "source": []
  },
  {
   "cell_type": "markdown",
   "id": "f076fa13",
   "metadata": {},
   "source": [
    "---"
   ]
  },
  {
   "cell_type": "code",
   "execution_count": null,
   "id": "810a4484",
   "metadata": {},
   "outputs": [],
   "source": [
    "# End of file"
   ]
  },
  {
   "cell_type": "code",
   "execution_count": null,
   "id": "85afea49",
   "metadata": {},
   "outputs": [],
   "source": []
  }
 ],
 "metadata": {
  "kernelspec": {
   "display_name": "Python 3 (ipykernel)",
   "language": "python",
   "name": "python3"
  },
  "language_info": {
   "codemirror_mode": {
    "name": "ipython",
    "version": 3
   },
   "file_extension": ".py",
   "mimetype": "text/x-python",
   "name": "python",
   "nbconvert_exporter": "python",
   "pygments_lexer": "ipython3",
   "version": "3.9.7"
  },
  "vp": {
   "vp_config_version": "1.0.0",
   "vp_menu_width": 273,
   "vp_note_display": true,
   "vp_note_width": 263,
   "vp_position": {
    "width": 541
   },
   "vp_section_display": false,
   "vp_signature": "VisualPython"
  }
 },
 "nbformat": 4,
 "nbformat_minor": 5
}
